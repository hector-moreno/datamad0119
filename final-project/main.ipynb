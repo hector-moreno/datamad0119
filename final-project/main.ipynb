{
 "cells": [
  {
   "cell_type": "code",
   "execution_count": null,
   "metadata": {},
   "outputs": [],
   "source": []
  },
  {
   "cell_type": "code",
   "execution_count": 1,
   "metadata": {},
   "outputs": [],
   "source": [
    "# libraries importation\n",
    "\n",
    "import pandas as pd\n",
    "import re\n",
    "import string\n",
    "import nltk\n",
    "from nltk import sent_tokenize, word_tokenize\n",
    "from nltk.stem import WordNetLemmatizer\n",
    "from nltk.stem import *\n",
    "from nltk.corpus import stopwords"
   ]
  },
  {
   "cell_type": "code",
   "execution_count": 2,
   "metadata": {},
   "outputs": [],
   "source": [
    "news = pd.read_csv('./data/fisrt_news.csv', names = ['title', 'text', 'author', 'url'])"
   ]
  },
  {
   "cell_type": "code",
   "execution_count": 3,
   "metadata": {},
   "outputs": [
    {
     "data": {
      "text/html": [
       "<div>\n",
       "<style scoped>\n",
       "    .dataframe tbody tr th:only-of-type {\n",
       "        vertical-align: middle;\n",
       "    }\n",
       "\n",
       "    .dataframe tbody tr th {\n",
       "        vertical-align: top;\n",
       "    }\n",
       "\n",
       "    .dataframe thead th {\n",
       "        text-align: right;\n",
       "    }\n",
       "</style>\n",
       "<table border=\"1\" class=\"dataframe\">\n",
       "  <thead>\n",
       "    <tr style=\"text-align: right;\">\n",
       "      <th></th>\n",
       "      <th>title</th>\n",
       "      <th>text</th>\n",
       "      <th>author</th>\n",
       "      <th>url</th>\n",
       "    </tr>\n",
       "  </thead>\n",
       "  <tbody>\n",
       "    <tr>\n",
       "      <th>0</th>\n",
       "      <td>La caprichosa y millonaria primera decisión de...</td>\n",
       "      <td>Begoña Gómez quiere cambios más \"contundentes\"...</td>\n",
       "      <td>SALOMON LUSH</td>\n",
       "      <td>https://www.periodistadigital.com/periodismo/t...</td>\n",
       "    </tr>\n",
       "    <tr>\n",
       "      <th>1</th>\n",
       "      <td>Santiago Abascal dice que perdona a las manife...</td>\n",
       "      <td>Santiago Abascal se ha mostrado generoso al op...</td>\n",
       "      <td>Ayudante de Becario</td>\n",
       "      <td>https://lavozdelbecario.es/santiago-abascal-di...</td>\n",
       "    </tr>\n",
       "    <tr>\n",
       "      <th>2</th>\n",
       "      <td>El aborto será legal durante todo el embarazo ...</td>\n",
       "      <td>La norma avala el aborto tardío en cualquier m...</td>\n",
       "      <td>Actuall / Aci Prensa</td>\n",
       "      <td>https://www.actuall.com/vida/el-aborto-sera-le...</td>\n",
       "    </tr>\n",
       "    <tr>\n",
       "      <th>3</th>\n",
       "      <td>El Gobierno cambiará los cementerios españoles...</td>\n",
       "      <td>La naturaleza y la composición de los ritos fu...</td>\n",
       "      <td>Mediterráneo Digital</td>\n",
       "      <td>https://www.mediterraneodigital.com/espana/and...</td>\n",
       "    </tr>\n",
       "    <tr>\n",
       "      <th>4</th>\n",
       "      <td>Dos perros \"contraen matrimonio\"</td>\n",
       "      <td>La concejal de Seguridad de Lorca, Murcia (Esp...</td>\n",
       "      <td>Redacción ACI Prensa</td>\n",
       "      <td>https://www.aciprensa.com/noticias/casan-a-dos...</td>\n",
       "    </tr>\n",
       "  </tbody>\n",
       "</table>\n",
       "</div>"
      ],
      "text/plain": [
       "                                               title  \\\n",
       "0  La caprichosa y millonaria primera decisión de...   \n",
       "1  Santiago Abascal dice que perdona a las manife...   \n",
       "2  El aborto será legal durante todo el embarazo ...   \n",
       "3  El Gobierno cambiará los cementerios españoles...   \n",
       "4                   Dos perros \"contraen matrimonio\"   \n",
       "\n",
       "                                                text                 author  \\\n",
       "0  Begoña Gómez quiere cambios más \"contundentes\"...           SALOMON LUSH   \n",
       "1  Santiago Abascal se ha mostrado generoso al op...    Ayudante de Becario   \n",
       "2  La norma avala el aborto tardío en cualquier m...   Actuall / Aci Prensa   \n",
       "3  La naturaleza y la composición de los ritos fu...  Mediterráneo Digital    \n",
       "4  La concejal de Seguridad de Lorca, Murcia (Esp...   Redacción ACI Prensa   \n",
       "\n",
       "                                                 url  \n",
       "0  https://www.periodistadigital.com/periodismo/t...  \n",
       "1  https://lavozdelbecario.es/santiago-abascal-di...  \n",
       "2  https://www.actuall.com/vida/el-aborto-sera-le...  \n",
       "3  https://www.mediterraneodigital.com/espana/and...  \n",
       "4  https://www.aciprensa.com/noticias/casan-a-dos...  "
      ]
     },
     "execution_count": 3,
     "metadata": {},
     "output_type": "execute_result"
    }
   ],
   "source": [
    "news.head()"
   ]
  },
  {
   "cell_type": "code",
   "execution_count": 4,
   "metadata": {},
   "outputs": [
    {
     "data": {
      "text/plain": [
       "str"
      ]
     },
     "execution_count": 4,
     "metadata": {},
     "output_type": "execute_result"
    }
   ],
   "source": [
    "type(news.text[0])"
   ]
  },
  {
   "cell_type": "code",
   "execution_count": 5,
   "metadata": {},
   "outputs": [],
   "source": [
    "news['label'] = True \n"
   ]
  },
  {
   "cell_type": "code",
   "execution_count": 6,
   "metadata": {},
   "outputs": [],
   "source": [
    "news.loc[:59,'label'] = False"
   ]
  },
  {
   "cell_type": "markdown",
   "metadata": {},
   "source": [
    "Preparing Text Data For Analysis"
   ]
  },
  {
   "cell_type": "markdown",
   "metadata": {},
   "source": [
    "functions for cleaning, tokenizing, stemming and lemmatizing data and for deleting stop words"
   ]
  },
  {
   "cell_type": "code",
   "execution_count": 5,
   "metadata": {},
   "outputs": [],
   "source": [
    "# function for cleaning\n",
    "\n",
    "def clean_up_text(text):\n",
    "    \"\"\"\n",
    "    The function cleans up numbers, remove punctuation and line break, and special characters from a string \n",
    "    and converts it to lowercase.\n",
    "\n",
    "    Args:\n",
    "        text: The string to be cleaned up.\n",
    "\n",
    "    Returns:\n",
    "        A string that has been cleaned up.\n",
    "    \"\"\"\n",
    "    text = text.lower()\n",
    "    text = re.sub('[%s]' % re.escape(string.punctuation), ' ', text)\n",
    "    text = re.sub('\\n', ' ', text) \n",
    "    text = re.sub('\\w*\\d\\w*', '', text)    \n",
    "    text = re.sub('[‘’“”…«»¿?¡!\\-_\\(\\)]', '', text)\n",
    "    text = re.sub(r'https?://(?:[-\\w.]|(?:%[\\da-fA-F]{2}))+', '', text)\n",
    "  \n",
    "    return text\n",
    "\n"
   ]
  },
  {
   "cell_type": "code",
   "execution_count": 6,
   "metadata": {},
   "outputs": [],
   "source": [
    "# function for tokenizing\n",
    "\n",
    "def tokenize_text(text):\n",
    "        \"\"\"\n",
    "        Tokenize a string.\n",
    "\n",
    "        Args:\n",
    "            text: String to be tokenized.\n",
    "\n",
    "        Returns:\n",
    "            A list of words as the result of tokenization.\n",
    "        \"\"\"\n",
    "        return word_tokenize(text)\n"
   ]
  },
  {
   "cell_type": "code",
   "execution_count": 7,
   "metadata": {},
   "outputs": [],
   "source": [
    "# function for stemming, and lemmatizing\n",
    "\n",
    "def stem_and_lemmatize(list_of_words):\n",
    "    \"\"\"\n",
    "    Perform stemming and lemmatization on a list of words.\n",
    "\n",
    "    Args:\n",
    "        list_of_words: A list of strings.\n",
    "\n",
    "    Returns:\n",
    "        A list of strings after being stemmed and lemmatized.\n",
    "    \"\"\"\n",
    "    stemmer = nltk.stem.SnowballStemmer('spanish')\n",
    "    lemmatizer = WordNetLemmatizer()\n",
    "    stemmed_lemmantized_list = [stemmer.stem(lemmatizer.lemmatize(word)) for word in list_of_words]\n",
    "    return stemmed_lemmantized_list"
   ]
  },
  {
   "cell_type": "code",
   "execution_count": 8,
   "metadata": {},
   "outputs": [],
   "source": [
    "# function for stops words\n",
    "\n",
    "def remove_stopwords(list_of_words):\n",
    "    \"\"\"\n",
    "    Remove English stopwords from a list of strings.\n",
    "\n",
    "    Args:\n",
    "        list_of_words: A list of strings.\n",
    "\n",
    "    Returns:\n",
    "        A list of strings after stop words are removed.\n",
    "    \"\"\"\n",
    "    spanish_stop_words = stopwords.words('spanish')\n",
    "    removed_stop_words = [' '.join([word for word in list_of_words if word not in spanish_stop_words])]      \n",
    "    return removed_stop_words\n"
   ]
  },
  {
   "cell_type": "code",
   "execution_count": 16,
   "metadata": {},
   "outputs": [],
   "source": [
    "news['processed_text'] = news['text'].apply(lambda x: clean_up_text(str(x)))"
   ]
  },
  {
   "cell_type": "code",
   "execution_count": 19,
   "metadata": {},
   "outputs": [],
   "source": [
    "news['processed_text'] = news['processed_text'].apply(tokenize_text)"
   ]
  },
  {
   "cell_type": "code",
   "execution_count": 22,
   "metadata": {},
   "outputs": [],
   "source": [
    "news['processed_text'] = news['processed_text'].apply(stem_and_lemmatize)"
   ]
  },
  {
   "cell_type": "code",
   "execution_count": 24,
   "metadata": {},
   "outputs": [],
   "source": [
    "news['processed_text'] = news['processed_text'].apply(remove_stopwords)"
   ]
  },
  {
   "cell_type": "code",
   "execution_count": 26,
   "metadata": {},
   "outputs": [],
   "source": [
    "words = []\n",
    "for x in news['processed_text']:\n",
    "    words += x"
   ]
  },
  {
   "cell_type": "code",
   "execution_count": null,
   "metadata": {},
   "outputs": [],
   "source": []
  },
  {
   "cell_type": "code",
   "execution_count": null,
   "metadata": {},
   "outputs": [],
   "source": []
  },
  {
   "cell_type": "code",
   "execution_count": null,
   "metadata": {},
   "outputs": [],
   "source": []
  },
  {
   "cell_type": "code",
   "execution_count": null,
   "metadata": {},
   "outputs": [],
   "source": [
    "\n",
    "\n",
    "\n"
   ]
  },
  {
   "cell_type": "code",
   "execution_count": 105,
   "metadata": {},
   "outputs": [
    {
     "data": {
      "text/plain": [
       "'begoña gómez quiere cambios más  contundentes  y profundos nunca antes en nuestra democracia se había producido una mudanza exprés del inquilino de la moncloa   en cuestión de horas  y gracias a la moción de censura  la familia rajoy fernández han tenido que empaquetar sus pertenencias y dejar atrás su residencia que lo ha sido en los últimos  años  ana rosa especula con el caramelito que le puede caer a los podemitas   a lo mejor sánchez les da radio televisión española     publicidad  llamando  con premura  a la puerta estaba pedro sánchez y la omnipresente e influyente ya primera dama  begoña gómez  el personal de la moncloa ha trabajado a destajo para preparar el cambio residencial  toalla  sábanas  colchones    es un cambio que la casa  hace por defecto  pero en esta ocasión va a haber algo más     según fuentes del palacio de la moncloa consultadas por periodista digital  begoña gómez quiere cambios más  contundentes  y profundos   la esposa de pedro sánchez habría quedado  horrorizada  con los muebles de la residencia privada del palacio y habría ordenado un cambio integral del mobiliario  además del alguno particular que se pueda llevar desde su domicilio   los poco más de  metros cuadrados de su nuevo hogar  distribuido en  habitaciones   baños y  vestidores  dan para algunos arreglos   es cierto que la estancia es ya antigua  pero no demasiado porque en el año  el entonces presidente del gobierno  josé luis rodríguez zapatero  reservó un partida de   euros en los presupuestos generales del estado para renovar el mobiliario monclovita  y lo hizo    fue el único presidente de la democracia que hizo un cambio tan a fondo en la residencia oficial del presidente del gobierno y ahora parece que lo emprenderá pedro sánchez  sin asignación presupuestaria pero sí se puede acometer dentro de la caja de gastos corrientes  porque hay dinero para ello   explican a periodista digital fuentes de mocloa   sillones  mesas  escritorios  cortinas    parece que begoña gómez quiero una lavada de imagen en el palacio presidencial porque durante el tempo que pase en él no quiere que nada le recuerde a sus anteriores inquilinos '"
      ]
     },
     "execution_count": 105,
     "metadata": {},
     "output_type": "execute_result"
    }
   ],
   "source": [
    "clean_up_text(news['text_processed'][0])"
   ]
  },
  {
   "cell_type": "code",
   "execution_count": 25,
   "metadata": {},
   "outputs": [
    {
     "data": {
      "text/html": [
       "<div>\n",
       "<style scoped>\n",
       "    .dataframe tbody tr th:only-of-type {\n",
       "        vertical-align: middle;\n",
       "    }\n",
       "\n",
       "    .dataframe tbody tr th {\n",
       "        vertical-align: top;\n",
       "    }\n",
       "\n",
       "    .dataframe thead th {\n",
       "        text-align: right;\n",
       "    }\n",
       "</style>\n",
       "<table border=\"1\" class=\"dataframe\">\n",
       "  <thead>\n",
       "    <tr style=\"text-align: right;\">\n",
       "      <th></th>\n",
       "      <th>title</th>\n",
       "      <th>text</th>\n",
       "      <th>author</th>\n",
       "      <th>url</th>\n",
       "      <th>type</th>\n",
       "      <th>processed_text</th>\n",
       "    </tr>\n",
       "  </thead>\n",
       "  <tbody>\n",
       "    <tr>\n",
       "      <th>0</th>\n",
       "      <td>La caprichosa y millonaria primera decisión de...</td>\n",
       "      <td>Begoña Gómez quiere cambios más \"contundentes\"...</td>\n",
       "      <td>SALOMON LUSH</td>\n",
       "      <td>https://www.periodistadigital.com/periodismo/t...</td>\n",
       "      <td>&lt;class 'str'&gt;</td>\n",
       "      <td>[begoñ gomez quier cambi mas contundent profun...</td>\n",
       "    </tr>\n",
       "    <tr>\n",
       "      <th>1</th>\n",
       "      <td>Santiago Abascal dice que perdona a las manife...</td>\n",
       "      <td>Santiago Abascal se ha mostrado generoso al op...</td>\n",
       "      <td>Ayudante de Becario</td>\n",
       "      <td>https://lavozdelbecario.es/santiago-abascal-di...</td>\n",
       "      <td>&lt;class 'str'&gt;</td>\n",
       "      <td>[santiag abascal mostr gener opin sobr mil fem...</td>\n",
       "    </tr>\n",
       "    <tr>\n",
       "      <th>2</th>\n",
       "      <td>El aborto será legal durante todo el embarazo ...</td>\n",
       "      <td>La norma avala el aborto tardío en cualquier m...</td>\n",
       "      <td>Actuall / Aci Prensa</td>\n",
       "      <td>https://www.actuall.com/vida/el-aborto-sera-le...</td>\n",
       "      <td>&lt;class 'str'&gt;</td>\n",
       "      <td>[norm aval abort tardi cualqui moment cas invi...</td>\n",
       "    </tr>\n",
       "    <tr>\n",
       "      <th>3</th>\n",
       "      <td>El Gobierno cambiará los cementerios españoles...</td>\n",
       "      <td>La naturaleza y la composición de los ritos fu...</td>\n",
       "      <td>Mediterráneo Digital</td>\n",
       "      <td>https://www.mediterraneodigital.com/espana/and...</td>\n",
       "      <td>&lt;class 'str'&gt;</td>\n",
       "      <td>[naturalez composicion rit funerari duel entie...</td>\n",
       "    </tr>\n",
       "    <tr>\n",
       "      <th>4</th>\n",
       "      <td>Dos perros \"contraen matrimonio\"</td>\n",
       "      <td>La concejal de Seguridad de Lorca, Murcia (Esp...</td>\n",
       "      <td>Redacción ACI Prensa</td>\n",
       "      <td>https://www.aciprensa.com/noticias/casan-a-dos...</td>\n",
       "      <td>&lt;class 'str'&gt;</td>\n",
       "      <td>[concejal segur lorc murci españ cas do perr p...</td>\n",
       "    </tr>\n",
       "  </tbody>\n",
       "</table>\n",
       "</div>"
      ],
      "text/plain": [
       "                                               title  \\\n",
       "0  La caprichosa y millonaria primera decisión de...   \n",
       "1  Santiago Abascal dice que perdona a las manife...   \n",
       "2  El aborto será legal durante todo el embarazo ...   \n",
       "3  El Gobierno cambiará los cementerios españoles...   \n",
       "4                   Dos perros \"contraen matrimonio\"   \n",
       "\n",
       "                                                text                 author  \\\n",
       "0  Begoña Gómez quiere cambios más \"contundentes\"...           SALOMON LUSH   \n",
       "1  Santiago Abascal se ha mostrado generoso al op...    Ayudante de Becario   \n",
       "2  La norma avala el aborto tardío en cualquier m...   Actuall / Aci Prensa   \n",
       "3  La naturaleza y la composición de los ritos fu...  Mediterráneo Digital    \n",
       "4  La concejal de Seguridad de Lorca, Murcia (Esp...   Redacción ACI Prensa   \n",
       "\n",
       "                                                 url           type  \\\n",
       "0  https://www.periodistadigital.com/periodismo/t...  <class 'str'>   \n",
       "1  https://lavozdelbecario.es/santiago-abascal-di...  <class 'str'>   \n",
       "2  https://www.actuall.com/vida/el-aborto-sera-le...  <class 'str'>   \n",
       "3  https://www.mediterraneodigital.com/espana/and...  <class 'str'>   \n",
       "4  https://www.aciprensa.com/noticias/casan-a-dos...  <class 'str'>   \n",
       "\n",
       "                                      processed_text  \n",
       "0  [begoñ gomez quier cambi mas contundent profun...  \n",
       "1  [santiag abascal mostr gener opin sobr mil fem...  \n",
       "2  [norm aval abort tardi cualqui moment cas invi...  \n",
       "3  [naturalez composicion rit funerari duel entie...  \n",
       "4  [concejal segur lorc murci españ cas do perr p...  "
      ]
     },
     "execution_count": 25,
     "metadata": {},
     "output_type": "execute_result"
    }
   ],
   "source": [
    "news.head()"
   ]
  },
  {
   "cell_type": "code",
   "execution_count": 94,
   "metadata": {},
   "outputs": [
    {
     "data": {
      "text/plain": [
       "<function __main__.clean_up_text(text)>"
      ]
     },
     "execution_count": 94,
     "metadata": {},
     "output_type": "execute_result"
    }
   ],
   "source": [
    "news.text_processed[0]"
   ]
  },
  {
   "cell_type": "code",
   "execution_count": null,
   "metadata": {},
   "outputs": [],
   "source": []
  }
 ],
 "metadata": {
  "kernelspec": {
   "display_name": "Python 3",
   "language": "python",
   "name": "python3"
  },
  "language_info": {
   "codemirror_mode": {
    "name": "ipython",
    "version": 3
   },
   "file_extension": ".py",
   "mimetype": "text/x-python",
   "name": "python",
   "nbconvert_exporter": "python",
   "pygments_lexer": "ipython3",
   "version": "3.6.7"
  }
 },
 "nbformat": 4,
 "nbformat_minor": 2
}
