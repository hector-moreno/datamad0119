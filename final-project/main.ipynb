{
 "cells": [
  {
   "cell_type": "code",
   "execution_count": null,
   "metadata": {},
   "outputs": [],
   "source": []
  },
  {
   "cell_type": "code",
   "execution_count": 3,
   "metadata": {},
   "outputs": [],
   "source": [
    "# libraries importation\n",
    "\n",
    "import pandas as pd"
   ]
  },
  {
   "cell_type": "code",
   "execution_count": 6,
   "metadata": {},
   "outputs": [],
   "source": [
    "news = pd.read_csv('./data/fisrt_news.csv', names = ['title', 'text', 'author', 'url'])"
   ]
  },
  {
   "cell_type": "code",
   "execution_count": 7,
   "metadata": {},
   "outputs": [
    {
     "data": {
      "text/html": [
       "<div>\n",
       "<style scoped>\n",
       "    .dataframe tbody tr th:only-of-type {\n",
       "        vertical-align: middle;\n",
       "    }\n",
       "\n",
       "    .dataframe tbody tr th {\n",
       "        vertical-align: top;\n",
       "    }\n",
       "\n",
       "    .dataframe thead th {\n",
       "        text-align: right;\n",
       "    }\n",
       "</style>\n",
       "<table border=\"1\" class=\"dataframe\">\n",
       "  <thead>\n",
       "    <tr style=\"text-align: right;\">\n",
       "      <th></th>\n",
       "      <th>title</th>\n",
       "      <th>text</th>\n",
       "      <th>author</th>\n",
       "      <th>url</th>\n",
       "    </tr>\n",
       "  </thead>\n",
       "  <tbody>\n",
       "    <tr>\n",
       "      <th>0</th>\n",
       "      <td>La caprichosa y millonaria primera decisión de...</td>\n",
       "      <td>Begoña Gómez quiere cambios más \"contundentes\"...</td>\n",
       "      <td>SALOMON LUSH</td>\n",
       "      <td>https://www.periodistadigital.com/periodismo/t...</td>\n",
       "    </tr>\n",
       "    <tr>\n",
       "      <th>1</th>\n",
       "      <td>Santiago Abascal dice que perdona a las manife...</td>\n",
       "      <td>Santiago Abascal se ha mostrado generoso al op...</td>\n",
       "      <td>Ayudante de Becario</td>\n",
       "      <td>https://lavozdelbecario.es/santiago-abascal-di...</td>\n",
       "    </tr>\n",
       "    <tr>\n",
       "      <th>2</th>\n",
       "      <td>El aborto será legal durante todo el embarazo ...</td>\n",
       "      <td>La norma avala el aborto tardío en cualquier m...</td>\n",
       "      <td>Actuall / Aci Prensa</td>\n",
       "      <td>https://www.actuall.com/vida/el-aborto-sera-le...</td>\n",
       "    </tr>\n",
       "    <tr>\n",
       "      <th>3</th>\n",
       "      <td>El Gobierno cambiará los cementerios españoles...</td>\n",
       "      <td>La naturaleza y la composición de los ritos fu...</td>\n",
       "      <td>Mediterráneo Digital</td>\n",
       "      <td>https://www.mediterraneodigital.com/espana/and...</td>\n",
       "    </tr>\n",
       "    <tr>\n",
       "      <th>4</th>\n",
       "      <td>Dos perros \"contraen matrimonio\"</td>\n",
       "      <td>La concejal de Seguridad de Lorca, Murcia (Esp...</td>\n",
       "      <td>Redacción ACI Prensa</td>\n",
       "      <td>https://www.aciprensa.com/noticias/casan-a-dos...</td>\n",
       "    </tr>\n",
       "  </tbody>\n",
       "</table>\n",
       "</div>"
      ],
      "text/plain": [
       "                                               title  \\\n",
       "0  La caprichosa y millonaria primera decisión de...   \n",
       "1  Santiago Abascal dice que perdona a las manife...   \n",
       "2  El aborto será legal durante todo el embarazo ...   \n",
       "3  El Gobierno cambiará los cementerios españoles...   \n",
       "4                   Dos perros \"contraen matrimonio\"   \n",
       "\n",
       "                                                text                 author  \\\n",
       "0  Begoña Gómez quiere cambios más \"contundentes\"...           SALOMON LUSH   \n",
       "1  Santiago Abascal se ha mostrado generoso al op...    Ayudante de Becario   \n",
       "2  La norma avala el aborto tardío en cualquier m...   Actuall / Aci Prensa   \n",
       "3  La naturaleza y la composición de los ritos fu...  Mediterráneo Digital    \n",
       "4  La concejal de Seguridad de Lorca, Murcia (Esp...   Redacción ACI Prensa   \n",
       "\n",
       "                                                 url  \n",
       "0  https://www.periodistadigital.com/periodismo/t...  \n",
       "1  https://lavozdelbecario.es/santiago-abascal-di...  \n",
       "2  https://www.actuall.com/vida/el-aborto-sera-le...  \n",
       "3  https://www.mediterraneodigital.com/espana/and...  \n",
       "4  https://www.aciprensa.com/noticias/casan-a-dos...  "
      ]
     },
     "execution_count": 7,
     "metadata": {},
     "output_type": "execute_result"
    }
   ],
   "source": [
    "news.head()"
   ]
  },
  {
   "cell_type": "code",
   "execution_count": 24,
   "metadata": {},
   "outputs": [],
   "source": [
    "news['label'] = True \n"
   ]
  },
  {
   "cell_type": "code",
   "execution_count": 25,
   "metadata": {},
   "outputs": [],
   "source": [
    "news.loc[:59,'label'] = False"
   ]
  },
  {
   "cell_type": "code",
   "execution_count": 26,
   "metadata": {},
   "outputs": [
    {
     "data": {
      "text/plain": [
       "True     60\n",
       "False    60\n",
       "Name: label, dtype: int64"
      ]
     },
     "execution_count": 26,
     "metadata": {},
     "output_type": "execute_result"
    }
   ],
   "source": []
  }
 ],
 "metadata": {
  "kernelspec": {
   "display_name": "Python 3",
   "language": "python",
   "name": "python3"
  },
  "language_info": {
   "codemirror_mode": {
    "name": "ipython",
    "version": 3
   },
   "file_extension": ".py",
   "mimetype": "text/x-python",
   "name": "python",
   "nbconvert_exporter": "python",
   "pygments_lexer": "ipython3",
   "version": "3.6.7"
  }
 },
 "nbformat": 4,
 "nbformat_minor": 2
}
