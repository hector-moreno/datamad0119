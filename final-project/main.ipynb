{
 "cells": [
  {
   "cell_type": "code",
   "execution_count": null,
   "metadata": {},
   "outputs": [],
   "source": []
  },
  {
   "cell_type": "code",
   "execution_count": 106,
   "metadata": {},
   "outputs": [],
   "source": [
    "# libraries importation\n",
    "\n",
    "import pandas as pd\n",
    "import re\n",
    "import string\n",
    "import nltk\n",
    "from nltk import sent_tokenize, word_tokenize\n",
    "from nltk.stem import WordNetLemmatizer\n",
    "from nltk.stem import *\n",
    "from nltk.corpus import stopwords\n",
    "from nltk.probability import FreqDist\n",
    "from nltk.corpus import names"
   ]
  },
  {
   "cell_type": "code",
   "execution_count": 34,
   "metadata": {},
   "outputs": [],
   "source": [
    "news = pd.read_csv('./data/fisrt_news.csv', names = ['title', 'text', 'author', 'url'])"
   ]
  },
  {
   "cell_type": "code",
   "execution_count": 35,
   "metadata": {},
   "outputs": [
    {
     "data": {
      "text/html": [
       "<div>\n",
       "<style scoped>\n",
       "    .dataframe tbody tr th:only-of-type {\n",
       "        vertical-align: middle;\n",
       "    }\n",
       "\n",
       "    .dataframe tbody tr th {\n",
       "        vertical-align: top;\n",
       "    }\n",
       "\n",
       "    .dataframe thead th {\n",
       "        text-align: right;\n",
       "    }\n",
       "</style>\n",
       "<table border=\"1\" class=\"dataframe\">\n",
       "  <thead>\n",
       "    <tr style=\"text-align: right;\">\n",
       "      <th></th>\n",
       "      <th>title</th>\n",
       "      <th>text</th>\n",
       "      <th>author</th>\n",
       "      <th>url</th>\n",
       "    </tr>\n",
       "  </thead>\n",
       "  <tbody>\n",
       "    <tr>\n",
       "      <th>0</th>\n",
       "      <td>La caprichosa y millonaria primera decisión de...</td>\n",
       "      <td>Begoña Gómez quiere cambios más \"contundentes\"...</td>\n",
       "      <td>SALOMON LUSH</td>\n",
       "      <td>https://www.periodistadigital.com/periodismo/t...</td>\n",
       "    </tr>\n",
       "    <tr>\n",
       "      <th>1</th>\n",
       "      <td>Santiago Abascal dice que perdona a las manife...</td>\n",
       "      <td>Santiago Abascal se ha mostrado generoso al op...</td>\n",
       "      <td>Ayudante de Becario</td>\n",
       "      <td>https://lavozdelbecario.es/santiago-abascal-di...</td>\n",
       "    </tr>\n",
       "    <tr>\n",
       "      <th>2</th>\n",
       "      <td>El aborto será legal durante todo el embarazo ...</td>\n",
       "      <td>La norma avala el aborto tardío en cualquier m...</td>\n",
       "      <td>Actuall / Aci Prensa</td>\n",
       "      <td>https://www.actuall.com/vida/el-aborto-sera-le...</td>\n",
       "    </tr>\n",
       "    <tr>\n",
       "      <th>3</th>\n",
       "      <td>El Gobierno cambiará los cementerios españoles...</td>\n",
       "      <td>La naturaleza y la composición de los ritos fu...</td>\n",
       "      <td>Mediterráneo Digital</td>\n",
       "      <td>https://www.mediterraneodigital.com/espana/and...</td>\n",
       "    </tr>\n",
       "    <tr>\n",
       "      <th>4</th>\n",
       "      <td>Dos perros \"contraen matrimonio\"</td>\n",
       "      <td>La concejal de Seguridad de Lorca, Murcia (Esp...</td>\n",
       "      <td>Redacción ACI Prensa</td>\n",
       "      <td>https://www.aciprensa.com/noticias/casan-a-dos...</td>\n",
       "    </tr>\n",
       "  </tbody>\n",
       "</table>\n",
       "</div>"
      ],
      "text/plain": [
       "                                               title  \\\n",
       "0  La caprichosa y millonaria primera decisión de...   \n",
       "1  Santiago Abascal dice que perdona a las manife...   \n",
       "2  El aborto será legal durante todo el embarazo ...   \n",
       "3  El Gobierno cambiará los cementerios españoles...   \n",
       "4                   Dos perros \"contraen matrimonio\"   \n",
       "\n",
       "                                                text                 author  \\\n",
       "0  Begoña Gómez quiere cambios más \"contundentes\"...           SALOMON LUSH   \n",
       "1  Santiago Abascal se ha mostrado generoso al op...    Ayudante de Becario   \n",
       "2  La norma avala el aborto tardío en cualquier m...   Actuall / Aci Prensa   \n",
       "3  La naturaleza y la composición de los ritos fu...  Mediterráneo Digital    \n",
       "4  La concejal de Seguridad de Lorca, Murcia (Esp...   Redacción ACI Prensa   \n",
       "\n",
       "                                                 url  \n",
       "0  https://www.periodistadigital.com/periodismo/t...  \n",
       "1  https://lavozdelbecario.es/santiago-abascal-di...  \n",
       "2  https://www.actuall.com/vida/el-aborto-sera-le...  \n",
       "3  https://www.mediterraneodigital.com/espana/and...  \n",
       "4  https://www.aciprensa.com/noticias/casan-a-dos...  "
      ]
     },
     "execution_count": 35,
     "metadata": {},
     "output_type": "execute_result"
    }
   ],
   "source": [
    "news.head()"
   ]
  },
  {
   "cell_type": "code",
   "execution_count": 36,
   "metadata": {},
   "outputs": [
    {
     "data": {
      "text/plain": [
       "str"
      ]
     },
     "execution_count": 36,
     "metadata": {},
     "output_type": "execute_result"
    }
   ],
   "source": [
    "type(news.text[0])"
   ]
  },
  {
   "cell_type": "code",
   "execution_count": 37,
   "metadata": {},
   "outputs": [],
   "source": [
    "news['label'] = True \n"
   ]
  },
  {
   "cell_type": "code",
   "execution_count": 38,
   "metadata": {},
   "outputs": [],
   "source": [
    "news.loc[:59,'label'] = False"
   ]
  },
  {
   "cell_type": "markdown",
   "metadata": {},
   "source": [
    "Preparing Text Data For Analysis"
   ]
  },
  {
   "cell_type": "markdown",
   "metadata": {},
   "source": [
    "functions for cleaning, tokenizing, stemming and lemmatizing data and for deleting stop words"
   ]
  },
  {
   "cell_type": "code",
   "execution_count": 39,
   "metadata": {},
   "outputs": [],
   "source": [
    "# function for cleaning\n",
    "\n",
    "def clean_up_text(text):\n",
    "    \"\"\"\n",
    "    The function cleans up numbers, remove punctuation and line break, and special characters from a string \n",
    "    and converts it to lowercase.\n",
    "\n",
    "    Args:\n",
    "        text: The string to be cleaned up.\n",
    "\n",
    "    Returns:\n",
    "        A string that has been cleaned up.\n",
    "    \"\"\"\n",
    "    text = text.lower()\n",
    "    text = re.sub('[%s]' % re.escape(string.punctuation), ' ', text)\n",
    "    text = re.sub('\\n', ' ', text) \n",
    "    text = re.sub('\\w*\\d\\w*', '', text)    \n",
    "    text = re.sub('[‘’“”…«»¿?¡!\\-_\\(\\)]', '', text)\n",
    "    text = re.sub(r'https?://(?:[-\\w.]|(?:%[\\da-fA-F]{2}))+', '', text)\n",
    "  \n",
    "    return text\n",
    "\n"
   ]
  },
  {
   "cell_type": "code",
   "execution_count": 40,
   "metadata": {},
   "outputs": [],
   "source": [
    "# function for tokenizing\n",
    "\n",
    "def tokenize_text(text):\n",
    "        \"\"\"\n",
    "        Tokenize a string.\n",
    "\n",
    "        Args:\n",
    "            text: String to be tokenized.\n",
    "\n",
    "        Returns:\n",
    "            A list of words as the result of tokenization.\n",
    "        \"\"\"\n",
    "        return word_tokenize(text)\n"
   ]
  },
  {
   "cell_type": "code",
   "execution_count": 41,
   "metadata": {},
   "outputs": [],
   "source": [
    "# function for stemming, and lemmatizing\n",
    "\n",
    "def stem_and_lemmatize(list_of_words):\n",
    "    \"\"\"\n",
    "    Perform stemming and lemmatization on a list of words.\n",
    "\n",
    "    Args:\n",
    "        list_of_words: A list of strings.\n",
    "\n",
    "    Returns:\n",
    "        A list of strings after being stemmed and lemmatized.\n",
    "    \"\"\"\n",
    "    stemmer = nltk.stem.SnowballStemmer('spanish')\n",
    "    lemmatizer = WordNetLemmatizer()\n",
    "    stemmed_lemmantized_list = [stemmer.stem(lemmatizer.lemmatize(word)) for word in list_of_words]\n",
    "    return stemmed_lemmantized_list"
   ]
  },
  {
   "cell_type": "code",
   "execution_count": 51,
   "metadata": {},
   "outputs": [],
   "source": [
    "# function for stops words\n",
    "\n",
    "def remove_stopwords(list_of_words):\n",
    "    \"\"\"\n",
    "    Remove English stopwords from a list of strings.\n",
    "\n",
    "    Args:\n",
    "        list_of_words: A list of strings.\n",
    "\n",
    "    Returns:\n",
    "        A list of strings after stop words are removed.\n",
    "    \"\"\"\n",
    "    spanish_stop_words = stopwords.words('spanish')\n",
    "      \n",
    "    return [w for w in list_of_words if not w in spanish_stop_words]\n"
   ]
  },
  {
   "cell_type": "markdown",
   "metadata": {},
   "source": [
    "Executing cleaning, tokenizing, stemming, lemmatizing and deleting stop words functions"
   ]
  },
  {
   "cell_type": "code",
   "execution_count": 44,
   "metadata": {},
   "outputs": [],
   "source": [
    "news['processed_text'] = news['text'].apply(lambda x: clean_up_text(str(x)))"
   ]
  },
  {
   "cell_type": "code",
   "execution_count": 46,
   "metadata": {},
   "outputs": [],
   "source": [
    "news['processed_text'] = news['processed_text'].apply(tokenize_text)"
   ]
  },
  {
   "cell_type": "code",
   "execution_count": 48,
   "metadata": {},
   "outputs": [],
   "source": [
    "news['processed_text'] = news['processed_text'].apply(stem_and_lemmatize)"
   ]
  },
  {
   "cell_type": "code",
   "execution_count": 52,
   "metadata": {},
   "outputs": [],
   "source": [
    "news['processed_text'] = news['processed_text'].apply(remove_stopwords)"
   ]
  },
  {
   "cell_type": "code",
   "execution_count": 53,
   "metadata": {},
   "outputs": [
    {
     "data": {
      "text/html": [
       "<div>\n",
       "<style scoped>\n",
       "    .dataframe tbody tr th:only-of-type {\n",
       "        vertical-align: middle;\n",
       "    }\n",
       "\n",
       "    .dataframe tbody tr th {\n",
       "        vertical-align: top;\n",
       "    }\n",
       "\n",
       "    .dataframe thead th {\n",
       "        text-align: right;\n",
       "    }\n",
       "</style>\n",
       "<table border=\"1\" class=\"dataframe\">\n",
       "  <thead>\n",
       "    <tr style=\"text-align: right;\">\n",
       "      <th></th>\n",
       "      <th>title</th>\n",
       "      <th>text</th>\n",
       "      <th>author</th>\n",
       "      <th>url</th>\n",
       "      <th>label</th>\n",
       "      <th>processed_text</th>\n",
       "    </tr>\n",
       "  </thead>\n",
       "  <tbody>\n",
       "    <tr>\n",
       "      <th>0</th>\n",
       "      <td>La caprichosa y millonaria primera decisión de...</td>\n",
       "      <td>Begoña Gómez quiere cambios más \"contundentes\"...</td>\n",
       "      <td>SALOMON LUSH</td>\n",
       "      <td>https://www.periodistadigital.com/periodismo/t...</td>\n",
       "      <td>False</td>\n",
       "      <td>[begoñ, gomez, quier, cambi, mas, contundent, ...</td>\n",
       "    </tr>\n",
       "    <tr>\n",
       "      <th>1</th>\n",
       "      <td>Santiago Abascal dice que perdona a las manife...</td>\n",
       "      <td>Santiago Abascal se ha mostrado generoso al op...</td>\n",
       "      <td>Ayudante de Becario</td>\n",
       "      <td>https://lavozdelbecario.es/santiago-abascal-di...</td>\n",
       "      <td>False</td>\n",
       "      <td>[santiag, abascal, mostr, gener, opin, sobr, m...</td>\n",
       "    </tr>\n",
       "    <tr>\n",
       "      <th>2</th>\n",
       "      <td>El aborto será legal durante todo el embarazo ...</td>\n",
       "      <td>La norma avala el aborto tardío en cualquier m...</td>\n",
       "      <td>Actuall / Aci Prensa</td>\n",
       "      <td>https://www.actuall.com/vida/el-aborto-sera-le...</td>\n",
       "      <td>False</td>\n",
       "      <td>[norm, aval, abort, tardi, cualqui, moment, ca...</td>\n",
       "    </tr>\n",
       "    <tr>\n",
       "      <th>3</th>\n",
       "      <td>El Gobierno cambiará los cementerios españoles...</td>\n",
       "      <td>La naturaleza y la composición de los ritos fu...</td>\n",
       "      <td>Mediterráneo Digital</td>\n",
       "      <td>https://www.mediterraneodigital.com/espana/and...</td>\n",
       "      <td>False</td>\n",
       "      <td>[naturalez, composicion, rit, funerari, duel, ...</td>\n",
       "    </tr>\n",
       "    <tr>\n",
       "      <th>4</th>\n",
       "      <td>Dos perros \"contraen matrimonio\"</td>\n",
       "      <td>La concejal de Seguridad de Lorca, Murcia (Esp...</td>\n",
       "      <td>Redacción ACI Prensa</td>\n",
       "      <td>https://www.aciprensa.com/noticias/casan-a-dos...</td>\n",
       "      <td>False</td>\n",
       "      <td>[concejal, segur, lorc, murci, españ, cas, do,...</td>\n",
       "    </tr>\n",
       "  </tbody>\n",
       "</table>\n",
       "</div>"
      ],
      "text/plain": [
       "                                               title  \\\n",
       "0  La caprichosa y millonaria primera decisión de...   \n",
       "1  Santiago Abascal dice que perdona a las manife...   \n",
       "2  El aborto será legal durante todo el embarazo ...   \n",
       "3  El Gobierno cambiará los cementerios españoles...   \n",
       "4                   Dos perros \"contraen matrimonio\"   \n",
       "\n",
       "                                                text                 author  \\\n",
       "0  Begoña Gómez quiere cambios más \"contundentes\"...           SALOMON LUSH   \n",
       "1  Santiago Abascal se ha mostrado generoso al op...    Ayudante de Becario   \n",
       "2  La norma avala el aborto tardío en cualquier m...   Actuall / Aci Prensa   \n",
       "3  La naturaleza y la composición de los ritos fu...  Mediterráneo Digital    \n",
       "4  La concejal de Seguridad de Lorca, Murcia (Esp...   Redacción ACI Prensa   \n",
       "\n",
       "                                                 url  label  \\\n",
       "0  https://www.periodistadigital.com/periodismo/t...  False   \n",
       "1  https://lavozdelbecario.es/santiago-abascal-di...  False   \n",
       "2  https://www.actuall.com/vida/el-aborto-sera-le...  False   \n",
       "3  https://www.mediterraneodigital.com/espana/and...  False   \n",
       "4  https://www.aciprensa.com/noticias/casan-a-dos...  False   \n",
       "\n",
       "                                      processed_text  \n",
       "0  [begoñ, gomez, quier, cambi, mas, contundent, ...  \n",
       "1  [santiag, abascal, mostr, gener, opin, sobr, m...  \n",
       "2  [norm, aval, abort, tardi, cualqui, moment, ca...  \n",
       "3  [naturalez, composicion, rit, funerari, duel, ...  \n",
       "4  [concejal, segur, lorc, murci, españ, cas, do,...  "
      ]
     },
     "execution_count": 53,
     "metadata": {},
     "output_type": "execute_result"
    }
   ],
   "source": [
    "news.head()"
   ]
  },
  {
   "cell_type": "markdown",
   "metadata": {},
   "source": [
    "Creating Bag of Words.\n",
    " The bag of words contains all the unique words in your whole text body"
   ]
  },
  {
   "cell_type": "code",
   "execution_count": 67,
   "metadata": {},
   "outputs": [],
   "source": [
    "# Creating a bag of words from the processed data.\n",
    "\n",
    "\n",
    "bag_of_words = []\n",
    "for word in news.processed_text:\n",
    "    bag_of_words += word\n",
    "\n"
   ]
  },
  {
   "cell_type": "markdown",
   "metadata": {},
   "source": [
    "Building Features\n",
    "\n",
    "    Using the top 5,000 words, we create a diccionary to record whether each of those words is    \n",
    "    contained in each document (new's text). \n",
    "    Nest to the dicctionary, we add the label is True o False.\n",
    "    So, we get a set with a dictionary and the label."
   ]
  },
  {
   "cell_type": "code",
   "execution_count": 74,
   "metadata": {},
   "outputs": [],
   "source": [
    "# Selecting the most important words to build the features with NLTK's FreqDist\n",
    "\n",
    "# Calling Freqdist()\n",
    "\n",
    "fdist = FreqDist(bag_of_words)\n",
    "\n",
    "\n",
    "# Selecting the top 5,000 words from the frequency distribution with most_common().\n",
    "\n",
    "selected = fdist.most_common(5000)\n",
    "\n",
    "top_words = [x[0] for x in selected]\n"
   ]
  },
  {
   "cell_type": "code",
   "execution_count": 92,
   "metadata": {},
   "outputs": [],
   "source": [
    "# Function to generate the features and label tuple.\n",
    "\n",
    "def find_features(text_of_new, label):\n",
    "    words = set(text_of_new)\n",
    "    features = {}\n",
    "    for w in top_words:\n",
    "        features[w] = (w in words)\n",
    "    result = label\n",
    "    return (features, result)"
   ]
  },
  {
   "cell_type": "code",
   "execution_count": 90,
   "metadata": {},
   "outputs": [],
   "source": [
    "\n",
    "    "
   ]
  },
  {
   "cell_type": "code",
   "execution_count": 114,
   "metadata": {},
   "outputs": [],
   "source": [
    "# find_features() execution on news' text\n",
    "\n",
    "features = list(news.apply(lambda x: find_features(x['processed_text'], x['label']), axis=1))\n"
   ]
  },
  {
   "cell_type": "code",
   "execution_count": 115,
   "metadata": {},
   "outputs": [
    {
     "data": {
      "text/plain": [
       "tuple"
      ]
     },
     "execution_count": 115,
     "metadata": {},
     "output_type": "execute_result"
    }
   ],
   "source": [
    "type(features[0])"
   ]
  },
  {
   "cell_type": "code",
   "execution_count": 116,
   "metadata": {},
   "outputs": [
    {
     "name": "stdout",
     "output_type": "stream",
     "text": [
      "Classifier accuracy percent: 58.333333333333336\n"
     ]
    }
   ],
   "source": [
    "train_set, test_set = features[:48] + features[60:108], features[48:60] + features[108:]\n",
    "classifier = nltk.NaiveBayesClassifier.train(train_set)\n",
    "print(\"Classifier accuracy percent:\",(nltk.classify.accuracy(classifier, test_set))*100)\n",
    "\n"
   ]
  },
  {
   "cell_type": "code",
   "execution_count": null,
   "metadata": {},
   "outputs": [],
   "source": []
  },
  {
   "cell_type": "code",
   "execution_count": null,
   "metadata": {},
   "outputs": [],
   "source": []
  },
  {
   "cell_type": "code",
   "execution_count": null,
   "metadata": {},
   "outputs": [],
   "source": []
  }
 ],
 "metadata": {
  "kernelspec": {
   "display_name": "Python 3",
   "language": "python",
   "name": "python3"
  },
  "language_info": {
   "codemirror_mode": {
    "name": "ipython",
    "version": 3
   },
   "file_extension": ".py",
   "mimetype": "text/x-python",
   "name": "python",
   "nbconvert_exporter": "python",
   "pygments_lexer": "ipython3",
   "version": "3.6.7"
  }
 },
 "nbformat": 4,
 "nbformat_minor": 2
}
