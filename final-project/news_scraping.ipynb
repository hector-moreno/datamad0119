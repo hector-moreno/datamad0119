{
 "cells": [
  {
   "cell_type": "code",
   "execution_count": 1,
   "metadata": {},
   "outputs": [],
   "source": [
    "# libraries importation\n",
    "import requests\n",
    "from bs4 import BeautifulSoup\n",
    "import pandas as pd\n",
    "import urllib.request\n",
    "from urllib.request import urlopen\n",
    "import re\n",
    "import json\n",
    "import numpy as np\n",
    "import urllib.request\n",
    "import urllib.parse\n",
    "import urllib.error"
   ]
  },
  {
   "cell_type": "markdown",
   "metadata": {},
   "source": [
    "DATASET CREATION"
   ]
  },
  {
   "cell_type": "code",
   "execution_count": 1,
   "metadata": {},
   "outputs": [],
   "source": [
    "# List of real news' urls\n",
    "\n",
    "real_news_urls = ['https://elpais.com/internacional/2019/03/18/actualidad/1552926270_656831.html',\n",
    "'https://elpais.com/internacional/2019/03/18/estados_unidos/1552943571_811822.html',\n",
    "'https://elpais.com/internacional/2019/03/18/actualidad/1552944046_546142.html',\n",
    "'https://elpais.com/internacional/2019/03/18/actualidad/1552930565_872265.html',\n",
    "'https://elpais.com/internacional/2019/03/18/actualidad/1552937029_489549.html',\n",
    "'https://elpais.com/internacional/2019/03/18/actualidad/1552918313_256375.html',\n",
    "'https://elpais.com/internacional/2019/03/18/actualidad/1552911154_879024.html',\n",
    "'https://elpais.com/internacional/2019/03/18/actualidad/1552911467_206964.html',\n",
    "'https://elpais.com/internacional/2019/03/17/actualidad/1552845420_653170.html',\n",
    "'https://elpais.com/internacional/2019/03/19/mundo_global/1552954462_350404.html',\n",
    "'https://elpais.com/internacional/2019/03/19/america/1552958838_684586.html',\n",
    "'https://elpais.com/internacional/2019/03/18/america/1552948346_254976.html',\n",
    "'https://elpais.com/internacional/2019/03/18/actualidad/1552893098_801635.html',\n",
    "'https://elpais.com/internacional/2019/03/17/actualidad/1552856474_743198.html',\n",
    "'https://elpais.com/internacional/2019/03/15/actualidad/1552649780_297589.html',\n",
    "'https://elpais.com/internacional/2019/03/18/actualidad/1552942686_858403.html',\n",
    "'https://elpais.com/economia/2019/03/18/actualidad/1552910561_115126.html',\n",
    "'https://elpais.com/economia/2019/03/18/actualidad/1552915025_982105.html',\n",
    "'https://elpais.com/economia/2019/03/18/actualidad/1552917514_635239.html',\n",
    "'https://elpais.com/economia/2019/03/18/actualidad/1552907449_037483.html',\n",
    "'https://elpais.com/economia/2019/03/18/actualidad/1552913491_520836.html',\n",
    "'https://elpais.com/economia/2019/03/17/actualidad/1552837012_405460.html',\n",
    "'https://elpais.com/economia/2019/03/18/actualidad/1552901871_226667.html',\n",
    "'https://elpais.com/economia/2019/03/13/actualidad/1552502378_164741.html',\n",
    "'https://elpais.com/economia/2019/03/16/actualidad/1552769584_927266.html',\n",
    "'https://elpais.com/cultura/2019/03/14/actualidad/1552556739_082454.html',\n",
    "'https://elpais.com/cultura/2019/03/18/actualidad/1552932567_738447.html',\n",
    "'https://elpais.com/cultura/2019/03/18/actualidad/1552912453_196779.html',\n",
    "'https://elpais.com/cultura/2019/03/05/actualidad/1551800331_013840.html',\n",
    "'https://elpais.com/cultura/2019/03/16/actualidad/1552762486_959409.html',\n",
    "'https://elpais.com/cultura/2019/03/17/actualidad/1552832123_373742.html',\n",
    "'https://elpais.com/cultura/2019/03/18/actualidad/1552902573_519045.html',\n",
    "'https://elpais.com/cultura/2019/03/15/actualidad/1552651443_804746.html',\n",
    "'https://elpais.com/cultura/2019/03/13/actualidad/1552483706_733860.html',\n",
    "'https://elpais.com/elpais/2019/03/18/ciencia/1552930088_916451.html',\n",
    "'https://elpais.com/elpais/2019/03/15/ciencia/1552647865_813343.html',\n",
    "'https://elpais.com/elpais/2019/03/16/ciencia/1552710887_506061.html',\n",
    "'https://elpais.com/elpais/2019/03/15/ciencia/1552646209_822000.html',\n",
    "'https://elpais.com/elpais/2019/03/11/ciencia/1552322319_928252.html',\n",
    "'https://elpais.com/elpais/2019/03/11/ciencia/1552324416_462403.html',\n",
    "'https://elpais.com/elpais/2019/03/12/ciencia/1552393964_037460.html',\n",
    "'https://elpais.com/elpais/2019/03/14/ciencia/1552594680_503660.html',\n",
    "'https://elpais.com/elpais/2019/03/14/ciencia/1552558928_779129.html',\n",
    "'https://elpais.com/elpais/2019/03/12/ciencia/1552396778_922782.html',\n",
    "'https://elpais.com/elpais/2019/03/12/ciencia/1552410286_276248.html',\n",
    "'https://elpais.com/elpais/2019/02/25/ciencia/1551098493_269989.html',\n",
    "'https://elpais.com/elpais/2019/03/05/ciencia/1551791694_048640.html',\n",
    "'https://elpais.com/elpais/2019/03/09/ciencia/1552119596_613672.html',\n",
    "'https://elpais.com/elpais/2018/12/18/ciencia/1545131474_380390.html',\n",
    "'https://elpais.com/elpais/2019/03/06/ciencia/1551891237_290596.html',\n",
    "'https://elpais.com/elpais/2019/02/25/ciencia/1551112987_298858.html',\n",
    "'https://elpais.com/elpais/2019/02/05/ciencia/1549383616_653640.html',\n",
    "'https://elpais.com/elpais/2019/03/04/ciencia/1551715131_896862.html',\n",
    "'https://elpais.com/elpais/2019/02/22/ciencia/1550833330_062991.html',\n",
    "'https://elpais.com/politica/2019/03/18/actualidad/1552942933_546289.html',\n",
    "'https://elpais.com/politica/2019/03/18/actualidad/1552940502_074558.html',\n",
    "'https://elpais.com/politica/2019/03/18/actualidad/1552909772_758676.html',\n",
    "'https://elpais.com/ccaa/2019/03/18/catalunya/1552899149_732276.html',\n",
    "'https://elpais.com/politica/2019/03/18/actualidad/1552903262_211515.html',\n",
    "'https://elpais.com/politica/2019/03/18/actualidad/1552929350_509402.html',\n",
    "'https://elpais.com/ccaa/2019/03/18/catalunya/1552912487_875747.html',\n",
    "'https://elpais.com/sociedad/2019/03/18/actualidad/1552920699_534077.html',\n",
    "'https://elpais.com/elpais/2019/03/15/ideas/1552668230_738699.html',\n",
    "'https://elpais.com/sociedad/2019/03/16/actualidad/1552752365_301811.html',\n",
    "'https://elpais.com/sociedad/2019/03/16/actualidad/1552761177_116342.html',\n",
    "'https://elpais.com/sociedad/2019/03/15/actualidad/1552675324_005984.html',\n",
    "'https://elpais.com/sociedad/2019/03/11/actualidad/1552315218_083368.html',\n",
    "'https://elpais.com/sociedad/2019/03/18/actualidad/1552918394_816386.html',\n",
    "'https://elpais.com/sociedad/2019/03/18/actualidad/1552914308_149544.html',\n",
    "'https://elpais.com/sociedad/2019/03/18/actualidad/1552894330_600105.html',\n",
    "'https://elpais.com/sociedad/2019/03/17/actualidad/1552848935_214335.html',\n",
    "'https://elpais.com/sociedad/2019/03/15/actualidad/1552668572_800402.html',\n",
    "'https://elpais.com/sociedad/2019/03/16/actualidad/1552769756_043245.html',\n",
    "'https://elpais.com/sociedad/2019/03/16/actualidad/1552763118_497003.html',\n",
    "'https://elpais.com/sociedad/2019/03/15/actualidad/1552680486_211158.html',\n",
    "'https://elpais.com/sociedad/2019/03/15/actualidad/1552645940_950226.html',\n",
    "'https://elpais.com/sociedad/2019/03/11/actualidad/1552326093_172406.html',\n",
    "'https://elpais.com/sociedad/2019/03/15/actualidad/1552654888_875262.html',\n",
    "'https://elpais.com/sociedad/2019/03/18/actualidad/1552939159_817308.html',\n",
    "'https://elpais.com/sociedad/2019/03/17/actualidad/1552840742_432835.html',\n",
    "'https://elpais.com/sociedad/2019/03/18/actualidad/1552933110_338677.html',\n",
    "'https://elpais.com/internacional/2019/03/18/actualidad/1552925383_104741.html',\n",
    "'https://elpais.com/internacional/2019/03/18/actualidad/1552920867_053086.html',\n",
    "'https://elpais.com/internacional/2019/03/18/actualidad/1552925250_639691.html',\n",
    "'https://elpais.com/internacional/2019/03/18/actualidad/1552925435_129723.html',\n",
    "'https://elpais.com/tecnologia/2019/03/14/actualidad/1552570972_792089.html',\n",
    "'https://elpais.com/deportes/2019/03/18/actualidad/1552908012_566049.html',\n",
    "'https://elpais.com/deportes/2019/03/18/actualidad/1552937203_659603.html',\n",
    "'https://elpais.com/deportes/2019/03/19/actualidad/1552950406_793187.html',\n",
    "'https://elpais.com/tecnologia/2019/03/17/actualidad/1552777491_649804.html',\n",
    "'https://elpais.com/tecnologia/2019/03/18/actualidad/1552916172_658876.html',\n",
    "'https://elpais.com/tecnologia/2019/02/14/actualidad/1550144811_560964.html',\n",
    "'https://elpais.com/tecnologia/2019/03/15/actualidad/1552671435_789514.html',\n",
    "'https://elpais.com/tecnologia/2019/03/14/actualidad/1552581213_962958.html',\n",
    "'https://elpais.com/deportes/2019/03/18/actualidad/1552934333_659147.html',\n",
    "'https://elpais.com/deportes/2019/03/18/actualidad/1552941744_173151.html',\n",
    "'https://elpais.com/deportes/2019/03/18/actualidad/1552905496_245807.html',\n",
    "'https://elpais.com/deportes/2019/03/18/actualidad/1552942439_128234.html',\n",
    "'https://elpais.com/deportes/2019/03/18/actualidad/1552917453_699168.html',\n",
    "'https://elpais.com/deportes/2019/03/18/actualidad/1552940711_854366.html',\n",
    "'https://elpais.com/deportes/2019/03/18/actualidad/1552916254_625331.html',\n",
    "'https://www.elmundo.es/ciencia-y-salud/ciencia/2019/03/18/5c8e38fcfdddff214e8b45ea.html',\n",
    "'https://www.elmundo.es/ciencia-y-salud/ciencia/2019/03/17/5c8d0a3ffdddff01a28b4595.html',\n",
    "'https://www.elmundo.es/ciencia-y-salud/ciencia/2019/03/15/5c8a53d8fdddff55238b4598.html',\n",
    "'https://www.elmundo.es/ciencia-y-salud/salud/2019/03/16/5c8cf74cfdddffd3388b45cb.html',\n",
    "'https://www.elmundo.es/ciencia-y-salud/ciencia/2019/03/14/5c8a3da0fc6c8322588b464f.html',\n",
    "'https://www.elmundo.es/papel/historias/2019/03/13/5c87d28ffc6c837e6b8b4728.html',\n",
    "'https://www.elmundo.es/ciencia-y-salud/salud/2019/03/19/5c8fda4c21efa088558b46e5.html',\n",
    "'https://www.elmundo.es/ciencia-y-salud/ciencia/2019/03/14/5c8a72e5fc6c8397568b468d.html',\n",
    "'https://www.elmundo.es/ciencia-y-salud/salud/2019/03/14/5c89049121efa0ba358b45e8.html',\n",
    "'https://www.elmundo.es/ciencia-y-salud/salud/2019/03/13/5c894bc921efa065628b4725.html',\n",
    "'https://www.elmundo.es/ciencia-y-salud/salud/2019/03/13/5c880cdafdddff46298b4663.html',\n",
    "'https://www.elmundo.es/ciencia-y-salud/ciencia/2019/03/12/5c87dd93fc6c83cd7d8b45ff.html',\n",
    "'https://www.elmundo.es/ciencia-y-salud/salud/2019/03/12/5c8783ea21efa0bf048b4584.html',\n",
    "'https://www.elmundo.es/ciencia-y-salud/salud/2019/03/11/5c867bedfc6c83bc158b46e4.html',\n",
    "'https://www.elmundo.es/ciencia-y-salud/salud/2019/03/11/5c854c8ffdddffefb88b4612.html',\n",
    "'https://www.elmundo.es/ciencia-y-salud/ciencia/2019/03/09/5c83c758fdddff6c718b45d4.html',\n",
    "'https://www.elmundo.es/ciencia-y-salud/ciencia/2019/03/09/5c8298bcfdddffeeab8b46c7.html',\n",
    "'https://www.elmundo.es/ciencia-y-salud/ciencia/2019/03/09/5c828999fdddff66bb8b4695.html',\n",
    "'https://www.elmundo.es/ciencia-y-salud/ciencia/2019/03/09/5c825bcbfc6c8354768b45f2.html',\n",
    "'https://www.elmundo.es/ciencia-y-salud/salud/2019/03/08/5c815373fc6c834b408b4681.html',\n",
    "'https://www.elmundo.es/cultura/literatura/2019/03/18/5c8e40cdfc6c83145f8b4612.html',\n",
    "'https://www.elmundo.es/cultura/laesferadepapel/2019/03/18/5c8a8217fdddffba788b4604.html',\n",
    "'https://www.elmundo.es/cultura/cine/2019/03/17/5c8d3b00fc6c83ad178b462d.html',\n",
    "'https://www.elmundo.es/cultura/laesferadepapel/2019/03/17/5c8bccb521efa067248b458f.html',\n",
    "'https://www.elmundo.es/cultura/2019/03/19/5c90009dfdddff214e8b468a.html',\n",
    "'https://www.elmundo.es/cultura/laesferadepapel/2019/03/18/5c8f87effdddfffd388b4688.html',\n",
    "'https://www.elmundo.es/cultura/laesferadepapel/2019/03/17/5c8dfcaafdddff01a28b45d8.html',\n",
    "'https://www.elmundo.es/cultura/laesferadepapel/2019/03/17/5c8ac6ae21efa01d3a8b45f6.html',\n",
    "'https://www.elmundo.es/cultura/2019/03/15/5c8bfcdc21efa0507b8b459d.html',\n",
    "'https://www.elmundo.es/cultura/laesferadepapel/2019/03/15/5c86801afc6c8332758b459e.html',\n",
    "'https://www.elmundo.es/cultura/2019/03/15/5c8b8db021efa0564c8b46c4.html',\n",
    "'https://www.elmundo.es/cultura/2019/03/15/5c8aa89efdddffc13a8b45ee.html',\n",
    "'https://www.elmundo.es/cultura/laesferadepapel/2019/03/14/5c82521c21efa0d0468b465a.html',\n",
    "'https://www.elmundo.es/cultura/laesferadepapel/2019/03/13/5c824b1921efa0740a8b459e.html',\n",
    "'https://www.elmundo.es/cultura/2019/03/13/5c881c3bfc6c83ee758b4756.html',\n",
    "'https://www.elmundo.es/cultura/laesferadepapel/2019/03/13/5c7d1fb821efa0fc578b46c5.html',\n",
    "'https://www.elmundo.es/cultura/2019/03/12/5c8818befc6c834c598b45ca.html',\n",
    "'https://www.elmundo.es/cultura/laesferadepapel/2019/03/08/5c82721821efa00f2a8b46ab.html',\n",
    "'https://www.elmundo.es/cultura/laesferadepapel/2019/03/11/5c7e6f4021efa0b1388b45e6.html',\n",
    "'https://www.elmundo.es/cultura/laesferadepapel/2019/03/11/5c767f1ffc6c83d2348b46e6.html',\n",
    "'https://www.elmundo.es/internacional.html?intcmp=MENUHOM24801&s_kw=internacional',\n",
    "'https://www.elmundo.es/internacional/2019/03/16/5c8d6ae4fc6c83f04d8b4677.html',\n",
    "'https://www.elmundo.es/internacional/2019/03/16/5c8d4f5421efa0354b8b4696.html',\n",
    "'https://www.elmundo.es/internacional/2019/03/16/5c8d18c221efa0d05f8b469c.html',\n",
    "'https://www.elmundo.es/internacional/2019/03/15/5c8c08ccfc6c8350038b4682.html',\n",
    "'https://www.elmundo.es/internacional/2019/03/15/5c8bf56321efa0586b8b45a5.html',\n",
    "'https://www.elmundo.es/internacional/2019/03/15/5c8bdbfdfdddff2cba8b467b.html',\n",
    "'https://www.elmundo.es/internacional/2019/03/18/5c8f78a621efa09b178b45b1.html',\n",
    "'https://www.elmundo.es/internacional/2019/03/18/5c8ff09e21efa0520b8b463d.html',\n",
    "'https://www.elmundo.es/internacional/2019/03/18/5c8fe6affc6c83a5608b45d8.html',\n",
    "'https://www.elmundo.es/internacional/2019/03/18/5c8f9db621efa0507b8b4694.html',\n",
    "'https://www.elmundo.es/internacional/2019/03/18/5c8f6f16fdddff214e8b4630.html',\n",
    "'https://www.elmundo.es/internacional/2019/03/18/5c8e78f3fdddff60bd8b4628.html',\n",
    "'https://www.elmundo.es/internacional/2019/03/18/5c8f5259fdddff58848b4651.html',\n",
    "'https://www.elmundo.es/internacional/2019/03/19/5c904bea21efa0307b8b4608.html',\n",
    "'https://www.elmundo.es/internacional/2019/03/18/5c8ff55621efa04c368b45d6.html',\n",
    "'https://www.elmundo.es/internacional/2019/03/18/5c8f689521efa07b738b45b1.html',\n",
    "'https://www.elmundo.es/internacional/2019/03/18/5c8f22a0fc6c83ad178b469b.html',\n",
    "'https://www.elmundo.es/internacional/2019/03/18/5c8e94d121efa0217a8b457f.html',\n",
    "'https://www.elmundo.es/internacional/2019/03/17/5c8e74d7fc6c831a5f8b4614.html',\n",
    "'https://www.elmundo.es/internacional/2019/03/17/5c8e39f1fdddfff6448b45e0.html',\n",
    "'https://www.elmundo.es/pais-vasco/2019/03/17/5c8e94c0fdddff01a28b462d.html',\n",
    "'https://www.elmundo.es/baleares/2019/03/17/5c8e3a08fdddfffd388b4617.html',\n",
    "'https://www.elmundo.es/comunidad-valenciana/alicante/2019/03/16/5c8c3b13fc6c831e188b4604.html',\n",
    "'https://www.elmundo.es/cataluna/2019/03/15/5c8bba91fdddfffd1e8b4673.html',\n",
    "'https://www.elmundo.es/comunidad-valenciana/castellon/2019/03/15/5c8bf07421efa0ec4d8b4625.html',\n",
    "'https://www.elmundo.es/cataluna/2019/03/14/5c892cd6fdddff0a718b4646.html',\n",
    "'https://www.elmundo.es/baleares/2019/03/14/5c8a1045fdddff2f5d8b45e9.html',\n",
    "'https://www.elmundo.es/economia/macroeconomia/2019/03/03/5c79942321efa050768b4681.html',\n",
    "'https://www.elmundo.es/economia/empresas/2019/03/13/5c88e870fdddff26a68b46da.html',\n",
    "'https://www.elmundo.es/papel/futuro/2019/03/13/5c87e7b2fdddfff7578b46c1.html',\n",
    "'https://www.elmundo.es/economia/empresas/2019/03/12/5c87996121efa01f038b4580.html',\n",
    "'https://www.elmundo.es/economia/empresas/2019/03/19/5c8ff062fc6c83305b8b473f.html',\n",
    "'https://www.elmundo.es/economia/macroeconomia/2019/03/19/5c8fe720fc6c83c82b8b467e.html',\n",
    "'https://www.elmundo.es/economia/2019/03/17/5c8e735efdddff87b08b4643.html',\n",
    "'https://www.elmundo.es/economia/macroeconomia/2019/03/18/5c8e9bdc21efa05a1d8b4623.html',\n",
    "'https://www.elmundo.es/economia/2019/03/18/5c8e964f21efa06b198b4612.html',\n",
    "'https://www.elmundo.es/cataluna/2019/03/18/5c8f9d0621efa0307b8b45d2.html',\n",
    "'https://www.elmundo.es/comunidad-valenciana/2019/03/18/5c8f3891fdddff58848b462f.html',\n",
    "'https://www.elmundo.es/andalucia/2019/03/19/5c8fea0dfc6c834e418b45ca.html',\n",
    "'https://www.elmundo.es/espana/2019/03/18/5c8f5b4efdddff2a468b463e.html',\n",
    "'https://www.elmundo.es/espana/2019/03/18/5c8faf0cfc6c8396298b45d3.html',\n",
    "'https://www.elmundo.es/andalucia/2019/03/18/5c8ff4a4fc6c837f148b46a9.html',\n",
    "'https://www.elmundo.es/espana/2019/03/18/5c8fa87821efa0f07a8b469b.html',\n",
    "'https://www.elmundo.es/espana/2019/03/19/5c8ffdeffdddff10208b4591.html',\n",
    "'https://www.elmundo.es/espana/2019/03/19/5c8ff1eafdddff6b238b46b5.html',\n",
    "'https://www.elmundo.es/espana/2019/03/19/5c90088efdddff6d808b4630.html',\n",
    "'https://www.elmundo.es/espana/2019/03/19/5c901371fdddfff0478b46f1.html',\n",
    "'https://www.elmundo.es/espana/2019/03/15/5c8bf70ffdddffcc698b45d0.html',\n",
    "'https://www.elmundo.es/espana/2019/03/18/5c8eb02dfdddff34328b45f4.html',\n",
    "'https://www.elmundo.es/espana/2019/03/17/5c8e3698fc6c83674b8b46d0.html',\n",
    "'https://www.elmundo.es/espana/2019/03/17/5c8e1d26fc6c835c6c8b464e.html',\n",
    "'https://www.elmundo.es/espana/2019/03/17/5c8e1696fc6c83bb748b465b.html',\n",
    "'https://www.elmundo.es/espana/2019/03/17/5c8d6158fc6c83b44c8b465e.html',\n",
    "'https://www.elmundo.es/espana/2019/03/17/5c8d5f07fc6c83b44c8b4656.html',\n",
    "'https://www.elmundo.es/espana/2019/03/16/5c8d4838fc6c83e55f8b466a.html',\n",
    "'https://www.elmundo.es/espana/2019/03/16/5c8cd53efc6c83e4298b4589.html',\n",
    "'https://www.elmundo.es/espana/2019/03/15/5c8b74a1fdddff72738b457a.html',\n",
    "'https://www.elmundo.es/espana/2019/03/15/5c8bddfefdddff642c8b4657.html',\n",
    "'https://www.lavanguardia.com/local/madrid/20190318/461101598466/fiscalia-rechaza-suspender-obra-dios-vagina-madrid.html',\n",
    "'https://www.lavanguardia.com/local/madrid/20190318/461088237880/revision-estadio-rayo-vallecano-antes-cada-partido.html',\n",
    "'https://www.lavanguardia.com/deportes/fc-barcelona/20190317/461077968694/asistencia-record-wanda-metropolitano-atletico-barcelona.html',\n",
    "'https://www.lavanguardia.com/local/madrid/20190314/461022060281/abierto-plazo-cheques-guarderia-madrid.html',\n",
    "'https://www.lavanguardia.com/local/madrid/20190313/46977572619/madrid-sedienta-agua-potable-2020-fuentes-publicas.html',\n",
    "'https://www.lavanguardia.com/local/madrid/20190315/461034910692/autor-atentado-nueva-zelanda-honra-asesino-metro-madrid.html',\n",
    "'https://www.lavanguardia.com/local/madrid/20190315/461038771829/asaltan-casa-manuela-carmena-segovia.html',\n",
    "'https://www.lavanguardia.com/local/madrid/20190314/461026989720/supremo-confirma-prision-granados-chivatazo-punica.html',\n",
    "'https://www.lavanguardia.com/local/madrid/20190313/461014707327/pp-madrid-sospechosa-candidatura-villacis-pufo-primarias.html',\n",
    "'https://www.lavanguardia.com/local/madrid/20190313/461010703878/impugnan-primarias-ciudadanos-madrid.html',\n",
    "'https://www.lavanguardia.com/cine/20190318/461090047580/peliculas-ralph-fiennes-mike-leigh-competiran-bcn-film-fest.html',\n",
    "'https://www.lavanguardia.com/cultura/20190314/461008155166/biblioteca-britanica-publica-online-libros-prohibidos.html',\n",
    "'https://www.lavanguardia.com/cultura/20190318/461104449852/palacio-saddam-hussein-museo-basora-irak.html',\n",
    "'https://www.lavanguardia.com/cultura/20190318/461086012557/dick-dale-guitarrista-musica-surf-miserlou-pulp-fiction.html',\n",
    "'https://www.lavanguardia.com/cultura/20190318/461101386353/hallado-astrolabio-mas-antiguo-mundo.html',\n",
    "'https://www.lavanguardia.com/cultura/20190318/461083491096/como-mandela-evito-una-guerra-civil.html',\n",
    "'https://www.lavanguardia.com/libros/20190319/461040704914/vanessa-montfort-el-sueno-de-la-crisalida-libro-mobbing.html',\n",
    "'https://www.lavanguardia.com/cine/20190318/461107365792/presidente-warner-bros-deja-cargo-papeles-peliculas-sexo.html',\n",
    "'https://www.lavanguardia.com/cultura/20190319/461116764740/huelga-la-canadiense-aniversario-salvador-segui.html',\n",
    "'https://www.lavanguardia.com/cultura/20190318/461095525939/humanos-perro-caza-jordania-arqueologia.html',\n",
    "'https://www.lavanguardia.com/economia/20190318/461103948634/ibex-35-la-bolsa-fusion-deutsche-bank-commerzbank.html',\n",
    "'https://www.lavanguardia.com/economia/20190318/461077315811/seguro-vida-no-vida-mapfre-indice-gip-china-eeuu.html',\n",
    "'https://www.lavanguardia.com/economia/20190317/461067389786/hoteles-moratoria-barcelona.html',\n",
    "'https://www.lavanguardia.com/economia/20190317/461067389786/hoteles-moratoria-barcelona.html',\n",
    "'https://www.lavanguardia.com/economia/20190316/461062489822/boeing-737-max-ethiopian.html',\n",
    "'https://www.lavanguardia.com/economia/20190317/461067415432/cambra-de-comerc-enric-crous-crous-carles-tusquets-tusquets-ramon-masia.html',\n",
    "'https://www.lavanguardia.com/economia/20190317/461067415432/cambra-de-comerc-enric-crous-crous-carles-tusquets-tusquets-ramon-masia.html',\n",
    "'https://www.lavanguardia.com/economia/20190314/461012435730/inquilino-propietario-quien-paga-reparaciones-brl.html',\n",
    "'http://blogs.lavanguardia.com/el-jardin-de-los-sensatos/2019/03/13/semejanzas-y-desemejanzas-12429/',\n",
    "'https://www.lavanguardia.com/economia/20190319/461089095929/renta-2018-cuando-empieza-campana.html',\n",
    "'https://www.lavanguardia.com/economia/20190319/461103521147/ekonomia-gay-de-liebana-mobile-mwc-intervencion-5g-video-seo-lv.html',\n",
    "'https://www.lavanguardia.com/economia/20190319/461117131940/bodegas-do-cava-corpinnat.html',\n",
    "'https://www.lavanguardia.com/economia/20190319/461117079988/falsificaciones-ventas-comercio-pirateria-mensajeria.html',\n",
    "'https://www.lavanguardia.com/economia/20190319/461116998554/alianza-mutuas-trabajo-servicios-asepeyo-fremap.html',\n",
    "'https://www.lavanguardia.com/economia/20190318/461112749344/sector-petrolero-ypf-estabilidad-gasolina.html',\n",
    "'https://www.lavanguardia.com/economia/20190318/461107536685/barcelona-tribuna-fira-pau-relat.html',\n",
    "'https://www.lavanguardia.com/economia/20190318/461095011422/resultados-feria-de-madrid.html',\n",
    "'https://www.lavanguardia.com/economia/20190318/461093613385/ibex-35-bolsa-media-sesion-banca-deutsche-bank-commerzbank.html',\n",
    "'https://www.lavanguardia.com/economia/20190318/461088853839/ibex-35-bolsa-apertura-banca-deutsche-bank-commerzbank.html',\n",
    "'https://www.lavanguardia.com/economia/finanzas-personales/20190318/461089355373/n26-banco-online-movil-promocion-glovo-cupones.html',\n",
    "'https://www.lavanguardia.com/economia/20190318/461083638979/transicion-energetica-solvencia-banca.html',\n",
    "'https://www.lavanguardia.com/economia/20190318/461083646273/michael-levit-eyeo-softonic-tomas-diago.html',\n",
    "'https://www.lavanguardia.com/deportes/fc-barcelona/20190318/461094517789/luis-suarez-baja-esguince-de-tobillo-quince-dias.html',\n",
    "'https://www.lavanguardia.com/deportes/futbol/20190318/461103667386/seleccion-eurocopa-rozas.html',\n",
    "'https://www.lavanguardia.com/deportes/futbol/20190318/461092595472/uefa-champions-league-reunion-revolucion.html',\n",
    "'https://www.lavanguardia.com/deportes/futbol/20190318/461110005778/michel-rayo-destitucion-liga-santander.html',\n",
    "'https://www.lavanguardia.com/deportes/futbol/20190318/461100800163/pogrebniak-rusia-ari-de-color.html',\n",
    "'https://www.lavanguardia.com/deportes/fc-barcelona/20190318/461100354506/pochettino-champions-barcelona-tottenham.html',\n",
    "'https://www.lavanguardia.com/deportes/ciclismo/20190318/461104248246/alejandro-valverde-mikel-landa-milan---sanremo.html',\n",
    "'https://www.lavanguardia.com/deportes/vela/20190318/461095884425/copa-del-rey-vela-clase-femenina.html',\n",
    "'https://www.lavanguardia.com/deportes/fc-barcelona/20190317/461082443781/betis-barcelona-messi-liga-santander.html',\n",
    "'https://www.lavanguardia.com/deportes/fc-barcelona/20190317/461082518677/ernesto-valverde-betis-barcelona-leo-messi.html',\n",
    "'https://www.lavanguardia.com/deportes/futbol/20190317/461081260724/villarreal-rayo-valencia-getafe-liga-santander.html',\n",
    "'https://www.lavanguardia.com/deportes/fc-barcelona/20190317/461077479503/iberdrola-atletico-barcelona-record.html',\n",
    "'https://www.lavanguardia.com/deportes/futbol/20190316/461049961568/mundial-de-clubs-fifa.html',\n",
    "'https://www.lavanguardia.com/deportes/otros-deportes/20190318/461091845985/copa-del-mundo-esqui-mikaela-shiffrin-grandvalira-andorra.html',\n",
    "'https://www.lavanguardia.com/deportes/20190318/461083865882/thiem-federer-indian-wells.html',\n",
    "'https://www.lavanguardia.com/deportes/rcde-espanyol/20190319/461116909858/rcd-espanyol-resultados-irregularidad-rubi-pragmatismo-salvacion.html',\n",
    "'https://www.lavanguardia.com/deportes/tenis/20190319/461116953079/rafa-nadal-lesiones-abandono-indian-wells.html',\n",
    "'https://www.lavanguardia.com/deportes/20190317/461079938989/boxeo-tailandia-khanom-tom-videos-seo-ext.html',\n",
    "'https://www.lavanguardia.com/deportes/otros-deportes/20190317/461078238943/copa-del-mundo-esqui-grandvalira-andorra.html',\n",
    "'https://www.lavanguardia.com/politica/20190316/461058092951/referencias-islamofobas-espana-arma-nueva-zelanda-lepanto-pelayo-vox.html',\n",
    "'https://www.lavanguardia.com/politica/20190318/461097298182/lazos-amarillos-torra-junta-electoral-esteladas-retirar-edifcios-publicos.html',\n",
    "'https://www.lavanguardia.com/politica/20190318/461113538543/juicio-proces-turull-rull-sanchez-indefension-pregunta-marchena-trapero.html',\n",
    "'https://www.lavanguardia.com/politica/20190318/461113538543/juicio-proces-turull-rull-sanchez-indefension-pregunta-marchena-trapero.html',\n",
    "'https://www.lavanguardia.com/politica/20190318/461097102787/casado-purga-listas.html',\n",
    "'https://www.lavanguardia.com/politica/20190318/461096683762/podem-defiende-candidatura-jaume-asens-esto-no-va-de-banderas.html',\n",
    "'https://www.lavanguardia.com/politica/20190318/461093145751/pnv-dificil-coalicion-pdecat-elecciones-europeas-carles-puigdemont-no-cierra-puerta-abril.html',\n",
    "'https://www.lavanguardia.com/politica/20190317/461078825763/jordi-alemany-anc-libertad-manifestacion-madrid.html',\n",
    "'https://www.lavanguardia.com/politica/20190319/461116435981/ciudadanos-albert-rivera-gobierno-destitucion-abogado-estado-edmundo-bal.html',\n",
    "'https://www.lavanguardia.com/politica/20190318/461083323276/pp-pablo-casado-casado.html',\n",
    "'https://www.lavanguardia.com/politica/20190317/461081565011/oscar-guardingo-rechaza-lista-en-comu-podem-28a-asens-independentista.html',\n",
    "'https://www.lavanguardia.com/politica/20190317/461078060575/pablo-casado-pp-elecciones-generales-plebiscito-independentismo.html',\n",
    "'https://www.lavanguardia.com/politica/20190317/461077848974/manifestacion-madrid-prensa-internacional.html',\n",
    "'https://www.lavanguardia.com/politica/20190317/461077328160/pedro-sanchez-independentismo-catalunya.html',\n",
    "'https://www.lavanguardia.com/politica/20190317/461076768198/edmundo-bal-fichaje-ciudadanos-albert-rivera.html',\n",
    "'https://www.lavanguardia.com/politica/20190317/461066433457/trapero-supremo-mossos-proces.html',\n",
    "'https://www.lavanguardia.com/politica/20190317/461066348647/decenas-de-miles-de-catalanes-toman-madrid-contra-el-juicio-del-proces.html',\n",
    "'https://www.lavanguardia.com/politica/20190316/461059094516/fallas-valencia-politica-catalana-2019-junqueras-arrimadas-puigdemont-torra-la-bella-y-la-bestia.html',\n",
    "'https://www.lavanguardia.com/internacional/20190318/461083404905/colombia-busca-la-paz-en-vallvidrera.html',\n",
    "'https://www.lavanguardia.com/internacional/20190317/461051157866/eslovaquia-y-el-incumplimiento-de-las-cuotas-de-solicitantes-de-asilo.html',\n",
    "'https://www.lavanguardia.com/vida/20190317/461066827611/ebola-congo-goma-kivu-norte.html',\n",
    "'https://www.lavanguardia.com/internacional/20190317/461037813710/fotos-nicolas-maduro-hugo-chavez-venezuela-ineditas.html',\n",
    "'https://www.lavanguardia.com/internacional/20190319/461116205939/opera-la-scala-milan-dinero-saudi-polemica.html',\n",
    "'https://www.lavanguardia.com/internacional/20190319/461097786589/jacinda-ardern-liderazco-contra-terrorismo-neonazi-atentado-nueva-zelanda.html',\n",
    "'https://www.lavanguardia.com/internacional/20190319/461116419016/dirigente-antivacunas-salvini-varicela-italia.html',\n",
    "'https://www.lavanguardia.com/internacional/20190319/461116412965/crimea-rusia-putin-ucrania-disputa.html',\n",
    "'https://www.lavanguardia.com/internacional/20190319/461116405629/bolsonaro-trump-visita-brasil-negocios-maduro.html',\n",
    "'https://www.lavanguardia.com/internacional/20190319/461116368585/matanza-nueva-zelanda-brenton-tarrant-conexiones-europa-viajes.html',\n",
    "'https://www.lavanguardia.com/internacional/20190318/461111306872/nicaragua-gobierno-oposicion-protestas-dialogo-represion.html',\n",
    "'https://www.lavanguardia.com/internacional/20190318/461110563912/italia-muerte-testigo-modelo-berlusconi-caso-ruby-investigacion.html',\n",
    "'https://www.lavanguardia.com/internacional/20190318/461110280272/beto-o-rourke-supera-seis-millones-dolares-candidatura-casa-blanca-elecciones-presidenciales-eeuu-2020.html',\n",
    "'https://www.lavanguardia.com/internacional/20190318/461105687924/detenido-sospechoso-tiroteo-utrecht.html',\n",
    "'https://www.lavanguardia.com/internacional/20190318/461103256189/atacante-utrecht-disparo-familiar-disputa.html',\n",
    "'https://www.lavanguardia.com/internacional/20190318/461102557352/parlamento-britanico-en-directo-debate-brexit-video-seo-lv.html',\n",
    "'https://www.lavanguardia.com/internacional/20190318/461102581273/caja-negra-confirma-semejanzas-boeing-max.html',\n",
    "'https://www.lavanguardia.com/internacional/20190318/461102123629/nueva-zelanda-ley-armas-cristchurch-tiroteo-video-seo-ext.html',\n",
    "'https://www.lavanguardia.com/sucesos/20190314/461022920021/laura-luelmo-ultima-foto-vida.html',\n",
    "'https://www.lavanguardia.com/internacional/20190318/461102323324/may-nueva-propuesta-brexit-parlamento-vote.html',\n",
    "'https://www.lavanguardia.com/internacional/20190318/461103666417/chalecos-amarillos-paris-manifestaciones-prohicion-campos-eliseos.html',\n",
    "'https://www.abc.es/sociedad/abci-pide-ayude-jovenes-cambiar-mundo-201903190216_noticia.html',\n",
    "'https://www.abc.es/tecnologia/redes/abci-cambridge-analytica-facebook-cayo-careta-201903181122_noticia.html',\n",
    "'https://www.abc.es/salud/enfermedades/abci-estudio-vincula-consumo-bebidas-vinculado-mayor-riesgo-muerte-201903181341_noticia.html',\n",
    "'https://www.abc.es/sociedad/abci-padre-2019-mejores-frases-para-felicitar-padre-201903190209_noticia.html',\n",
    "'https://www.abc.es/sociedad/abci-plantean-prohibir-consumo-alcohol-comprado-duty-free-vuelos-201903181119_noticia.html',\n",
    "'https://www.abc.es/sociedad/abci-80-anos-hacer-pesas-201903180134_noticia.html',\n",
    "'https://www.abc.es/sociedad/abci-cambio-climatico-puede-conllevar-desaparicion-tortugas-201903181038_noticia.html',\n",
    "'https://www.abc.es/sociedad/abci-gobierno-exhibe-ginebra-reformas-legislativas-para-favorecer-voto-discapacitados-201903182014_noticia.html',\n",
    "'https://www.abc.es/sociedad/abci-detenido-mallorca-padre-bebe-cuatro-meses-presunto-maltrato-201903181823_noticia.html',\n",
    "'https://www.abc.es/sociedad/abci-hospitalizan-varicela-gobernador-liga-norte-contrario-vacunacion-obligatoria-201903181749_noticia.html',\n",
    "'https://www.abc.es/sociedad/abci-joven-relata-abusos-sufrio-durante-anos-padre-y-hermano-dejo-embarazada-201903181528_noticia.html',\n",
    "'https://www.abc.es/sociedad/abci-desmantelado-invernadero-marihuana-bizkaia-201903181518_video.html',\n",
    "'https://www.abc.es/cultura/cultural/abci-pedro-almodovar-nunca-estado-dispuesto-cambiar-cultura-lengua-peliculas-201903190123_noticia.html',\n",
    "'https://www.abc.es/cultura/musica/abci-leiva-redes-sociales-hecho-pierda-mito-artista-201903190125_noticia.html',\n",
    "'https://www.abc.es/cultura/abci-partitura-autografa-retablo-maese-pedro-legado-falla-para-caja-letras-201903190129_noticia.html',\n",
    "'https://www.abc.es/cultura/arte/abci-marina-abramovic-acusada-adorar-satan-nueva-exposicion-201903190125_noticia.html',\n",
    "'https://www.abc.es/play/cine/noticias/abci-netflix-no-participara-festival-cannes-segundo-consecutivo-201903181727_noticia.html',\n",
    "'https://www.abc.es/play/cine/noticias/abci-vengadores-endgame-muertes-201903190131_noticia.html',\n",
    "'https://www.abc.es/cultura/libros/abci-antonio-munoz-molina-mientras-escribo-problemas-vida-real-quedan-suspenso-201903190132_noticia.html',\n",
    "'https://www.abc.es/play/cine/abci-luis-bunuel-vuelve-hurdes-despues-86-anos-201903172027_noticia.html',\n",
    "'https://www.abc.es/cultura/abci-acropolis-blinda-no-podran-construir-grandes-edificios-zona-201903170116_noticia.html',\n",
    "'https://www.abc.es/cultura/teatros/abci-roberto-moldavsky-humorista-argentino-momento-presenta-madrid-201903170116_noticia.html',\n",
    "'https://www.abc.es/cultura/toros/abci-directo-ventura-ponce-y-tonete-toro-toro-feria-fallas-201903181459_directo.html',\n",
    "'https://www.abc.es/sociedad/abci-cambio-hora-primavera-2019-cuando-cambio-hora-primavera-201903190216_noticia.html',\n",
    "'https://www.abc.es/sociedad/abci-cheque-1500-para-madres-sueldos-bajos-y-medidas-hacen-electrica-modelo-seguir-201903190215_noticia.html',\n",
    "'https://www.abc.es/sociedad/abci-eficaz-como-anticonceptivos-201903190215_noticia.html',\n",
    "'https://www.abc.es/sociedad/abci-dique-para-evitar-nueva-york-inunde-201903182218_noticia.html',\n",
    "'https://www.abc.es/sociedad/abci-pp-propone-padres-hijos-discapacitados-puedan-elegir-centro-escolarizacion-201903181718_noticia.html',\n",
    "'https://www.abc.es/sociedad/abci-colegios-catolicos-crean-primer-protocolo-contra-abusos-sexuales-201903172118_noticia.html',\n",
    "'https://www.abc.es/economia/abci-albania-comienza-viaje-diversificacion-turistica-201903190226_noticia.html',\n",
    "'https://www.abc.es/economia/abci-locomotora-europea-atasca-entre-fuego-cruzado-201903180148_noticia.html',\n",
    "'https://www.abc.es/economia/abci-encaja-deseado-puzle-diversidad-empresarial-201903180149_noticia.html',\n",
    "'https://www.abc.es/economia/abci-produccion-petroleo-venezuela-desploma-niveles-hace-16-anos-201903150159_noticia.html',\n",
    "'https://www.abc.es/economia/abci-sector-publico-sigue-engordando-y-tiene-300000-asalariados-mas-hace-cinco-anos-201903190225_noticia.html',\n",
    "'https://www.abc.es/economia/abci-contratos-fijos-hunden-y-empleo-sufre-mas-regiones-peores-sueldos-201903171820_noticia.html',\n",
    "'https://www.abc.es/economia/abci-iberdrola-inicia-sustitucion-nucleares-mayor-fotovoltaica-europa-201903181830_noticia.html',\n",
    "'https://www.abc.es/economia/abci-falsificaciones-mueven-460000-millones-mundo-201903190224_noticia.html',\n",
    "'https://www.abc.es/economia/abci-economistas-estiman-madrid-desbanco-cataluna-como-region-mas-espana-201903190223_noticia.html',\n",
    "'https://www.abc.es/economia/abci-herencia-economica-deja-gobierno-pedro-sanchez-201903182137_noticia.html',\n",
    "'https://www.abc.es/economia/abci-montes-piedad-no-cejan-empeno-201903180148_noticia.html',\n",
    "'https://www.abc.es/economia/abci-anade-extra-sueldo-mediante-mejores-estrategias-inversion-actuales-201903180146_noticia.html',\n",
    "'https://www.abc.es/economia/abci-interpone-reclamacion-consumo-ante-abuso-empresa-201903160156_noticia.html',\n",
    "'https://www.abc.es/economia/abci-thermomix-abrira-primera-tienda-fisica-espana-este-201903170207_noticia.html',\n",
    "'https://www.abc.es/economia/abci-mejores-metodos-para-cambiar-y-elegir-proveedor-mas-barato-seguros-movil-y-banca-201903150202_noticia.html',\n",
    "'https://www.abc.es/espana/galicia/abci-ence-congela-inversiones-hasta-saber-si-puede-continuar-201903181901_noticia.html',\n",
    "'https://www.abc.es/economia/abci-abertis-lanza-macroemision-bonos-hasta-3000-millones-201903181539_noticia.html',\n",
    "'https://www.abc.es/economia/abci-italia-prohibe-aceptar-mas-clientes-deficiencias-sistema-blanqueo-201903181444_noticia.html',\n",
    "'https://www.abc.es/economia/abci-presidente-norwegian-abandona-compania-201903182051_noticia.html',\n",
    "'https://www.abc.es/economia/abci-espana-cree-previsible-retraso-entrada-vigor-nueva-politica-agraria-comun-201903181129_noticia.html',\n",
    "'https://www.abc.es/economia/abci-espana-pais-exportadores-amenazado-viejos-socios-guerra-comercial-201903180144_noticia.html',\n",
    "'https://www.abc.es/economia/abci-guerra-comercial-dinamita-pilares-recuperacion-global-201903180144_noticia.html',\n",
    "'https://www.abc.es/economia/abci-confianza-economia-y-48-por-ciento-directivos-cree-peor-201903171601_noticia.html',\n",
    "'https://www.abc.es/economia/abci-autonomos-trabajador-pagaran-3000-euros-mas-201903180142_noticia.html',\n",
    "'https://www.abc.es/economia/abci-sesderma-conquista-shangai-para-celebrar-30-aniversario-201903170204_noticia.html',\n",
    "'https://www.abc.es/economia/abci-michael-liebreich-grandes-empresas-espanolas-estan-bien-ubicadas-ante-transicion-energetica-201903170204_noticia.html',\n",
    "'https://www.abc.es/economia/abci-banca-sombra-oscurece-futuro-china-201903170203_noticia.html',\n",
    "'https://www.abc.es/economia/abci-empresas-zombis-toman-economia-201903170204_noticia.html',\n",
    "'https://www.abc.es/economia/abci-competencia-multa-endesa-300000-euros-alta-particular-sin-permiso-201903181033_noticia.html',\n",
    "'https://www.abc.es/economia/abci-calvino-idea-negativa-llega-nueva-crisis-no-sustenta-hechos-201903181229_noticia.html',\n",
    "'https://www.abc.es/economia/abci-celma-deloitte-reunio-banco-espana-para-informar-situacion-bankia-201903181316_noticia.html',\n",
    "'https://www.abc.es/economia/abci-alemania-confirma-cambio-legal-para-liberalizar-mercado-taxis-y-otras-cuatro-noticias-economicas-201903181337_noticia.html',\n",
    "'https://www.abc.es/economia/abci-antonio-zoido-cede-funciones-ejecutivas-consejero-delegado-javier-hernani-201903181936_noticia.html',\n",
    "'https://www.abc.es/internacional/abci-llamas-amarillas-llegan-gobierno-macron-201903190240_noticia.html',\n",
    "'https://www.abc.es/internacional/abci-salman-y-principe-heredero-distancian-tras-escandalo-khashoggi-201903190045_noticia.html',\n",
    "'https://www.abc.es/internacional/abci-guaido-menosprecia-cambios-gabinete-maduro-y-asegura-decision-debil-201903182024_noticia.html',\n",
    "'https://www.abc.es/internacional/abci-encuentran-sin-vida-forense-argentino-dijo-nisman-mataron-201903182025_noticia.html',\n",
    "'https://www.abc.es/internacional/abci-mueren-tres-adolescentes-irlanda-norte-durante-fiesta-san-patricio-201903181008_noticia.html',\n",
    "'https://www.abc.es/internacional/abci-principe-heredero-saudi-contaba-equipo-dedicado-torturar-y-secuestrar-201903181057_noticia.html',\n",
    "'https://www.abc.es/internacional/abci-putin-celebra-crimea-quinto-aniversario-anexion-201903181424_noticia.html',\n",
    "'https://www.abc.es/internacional/abci-trump-media-persona-para-impedir-cierre-fabrica-coches-201903181447_noticia.html',\n",
    "'https://www.abc.es/internacional/abci-menos-tres-muertos-y-cinco-heridos-tiroteo-utrecht-201903181806_video.html',\n",
    "'https://www.abc.es/internacional/abci-paises-bajos-eleva-maximo-nivel-alerta-antiterrorista-tras-tiroteo-utrecht-201903181327_noticia.html',\n",
    "'https://www.abc.es/internacional/abci-emotiva-haka-motera-para-homenajear-victimas-atentado-nueva-zelanda-201903181145_noticia.html',\n",
    "'https://www.abc.es/internacional/abci-varios-heridos-tiroteo-ciudad-holandesa-utrecht-201903181137_noticia.html',\n",
    "'https://www.abc.es/internacional/abci-policia-nueva-zelanda-confirma-atacante-actuo-solitario-201903180933_noticia.html',\n",
    "'https://www.abc.es/internacional/abci-salman-despoja-principe-heredero-parte-autoridad-economica-201903181023_noticia.html',\n",
    "'https://www.abc.es/internacional/abci-eeuu-corta-presidente-guatemala-pesar-guinos-trump-201903190235_noticia.html',\n",
    "'https://www.abc.es/internacional/abci-lider-comunista-portugues-no-democracia-corea-norte-opinion-201903190236_noticia.html',\n",
    "'https://www.abc.es/internacional/abci-venezuela-sera-tema-central-encuentro-entre-trump-y-bolsonaro-201903190237_noticia.html',\n",
    "'https://www.abc.es/internacional/abci-propiedades-militares-nicaraguenses-punto-mira-sanciones-eeuu-201903190237_noticia.html',\n",
    "'https://www.abc.es/internacional/abci-manfred-weber-britanicos-no-pueden-concurrir-elecciones-europeas-201903190240_noticia.html',\n",
    "'https://www.abc.es/espana/abci-ferraz-intenta-ganar-lealtades-andalucia-frente-susana-diaz-y-demanda-movilizacion-201903190249_noticia.html',\n",
    "'https://www.abc.es/espana/abci-pp-pedira-explicaciones-robles-congreso-caso-vicealmirante-gomez-201903190250_noticia.html',\n",
    "'https://www.abc.es/deportes/futbol/abci-gesto-mbappe-revienta-redes-201903181627_noticia.html',\n",
    "'https://www.abc.es/espana/abci-policia-investiga-sin-resultado-estancia-noche-terrorista-nueva-zelanda-jerez-201903181105_noticia.html',\n",
    "'https://www.abc.es/espana/madrid/abci-martinez-almeida-resucitara-proyecto-olimpico-si-consenso-201903190113_noticia.html',\n",
    "'https://www.abc.es/espana/madrid/abci-carmena-gastara-140360-euros-tercer-estudio-para-radio-municipal-201903190114_noticia.html',\n",
    "'https://www.abc.es/deportes/real-madrid/abci-real-madrid-sorprendente-control-marcelo-entrenamiento-hecho-viral-201903181717_noticia.html',\n",
    "'https://www.abc.es/estilo/moda/abci-khloe-kardashian-posa-sin-ropa-interior-y-arden-redes-201903190118_noticia.html',\n",
    "'https://www.abc.es/historia/abci-atroz-muerte-verdaderos-hermanos-dalton-manos-ley-banda-sido-aniquilada-201903190147_noticia.html',\n",
    "'https://www.abc.es/espana/abci-exito-andaluz-no-serviria-elecciones-generales-201903181453_noticia.html',\n",
    "'https://www.abc.es/espana/abci-justicia-obliga-defensa-readmitir-vicealmirante-fulmino-ministra-robles-201903190250_noticia.html',\n",
    "'https://www.abc.es/economia/abci-economistas-estiman-madrid-desbanco-cataluna-como-region-mas-espana-201903190223_noticia.html',\n",
    "'https://www.abc.es/economia/abci-herencia-economica-deja-gobierno-pedro-sanchez-201903182137_noticia.html',\n",
    "'https://www.abc.es/espana/abci-malestar-alrededor-societat-civil-giro-catalanista-201903190247_noticia.html',\n",
    "'https://sevilla.abc.es/andalucia/sevi-moreno-defiende-listas-casado-fueron-consensuadas-201903190726_noticia.html',\n",
    "'https://sevilla.abc.es/sevilla/sevi-no-puede-alta-enfermo-y-decirle-solo-haga-dieta-poca-201903190724_noticia.html',\n",
    "'https://sevilla.abc.es/andalucia/sevi-psoe-andaluz-vuelve-contra-ferraz-nombres-conociamos-201903190726_noticia.html',\n",
    "'https://sevilla.abc.es/sevilla/sevi-ayuntamiento-sevilla-aprueba-regulacion-para-patinetes-electricos-201903181339_noticia.html',\n",
    "'https://sevilla.abc.es/sevilla/sevi-sevilla-capillita-san-jose-necesita-600000-euros-para-resucitar-201903190724_noticia.html',\n",
    "'https://www.lavozdegalicia.es/noticia/series/2019/03/19/delirante-nordic-noir/0003_201903G19P519919.htm',\n",
    "'https://www.lavozdegalicia.es/noticia/cultura/2019/03/19/beautiful-boy-abismos-droga/0003_201903G19P36993.htm',\n",
    "'https://www.lavozdegalicia.es/noticia/cultura/2019/03/19/magia-ana-frank-portuguesa/0003_201903G19P34991.htm',\n",
    "'https://www.lavozdegalicia.es/noticia/galicia/2019/03/18/pp-lleva-parlamento-peticion-dedicar-superavit-gasto-social/00031552934488263465609.htm',\n",
    "'https://www.lavozdegalicia.es/noticia/galicia/2019/03/18/supremo-ordena-repetir-juicio-unica-condena-rey-orquestas/00031552932132170104620.htm',\n",
    "'https://www.lavozdegalicia.es/noticia/galicia/2019/03/16/denuncie-denuncie/0003_201903G16P12993.htm',\n",
    "'https://www.lavozdegalicia.es/noticia/ourense/ourense/2019/03/18/da-patada-estomago-padre-robar-bolso-madre/00031552906644732839527.htm',\n",
    "'https://www.lavozdegalicia.es/noticia/santiago/santiago/2019/03/18/pintada-obradoiro-eliminada/0003_201903201903181552895589423.htm',\n",
    "'https://www.lavozdegalicia.es/noticia/galicia/2019/03/18/seismo-psoe-gallego-ola-solidaridad-noel-espanolas-dejan-pildora-temas-dia/00031552893859245807660.htm',\n",
    "'https://www.lavozdegalicia.es/noticia/educacion/2018/10/15/premios-profes-cuantos/00031539620112995778453.htm',\n",
    "'https://www.lavozdegalicia.es/noticia/galicia/2019/03/14/trafico-solo-galicia-41-radares-fijos-van-rotando-70-cabinas/00031552592833269478437.htm',\n",
    "'https://www.lavozdegalicia.es/noticia/galicia/2019/03/19/placer-/0003_201903E19P52991.htm',\n",
    "'https://www.lavozdegalicia.es/noticia/galicia/2019/03/19/prodigioso-avance-viaducto-haber-retrasado-ave/0003_201903G19P10991.htm',\n",
    "'https://www.lavozdegalicia.es/noticia/galicia/2019/03/19/pp-lleva-parlamento-peticion-dedicar-superavit-gasto-social/0003_201903G19P12992.htm',\n",
    "'https://www.lavozdegalicia.es/noticia/galicia/2019/03/18/horas-debate-decidir-puede-bailar-pub/00031552940758903248664.htm',\n",
    "'https://www.lavozdegalicia.es/noticia/galicia/2019/03/19/fachada-catedral-queda-limpia-semana-despues-pintada/0003_201903G19P9992.htm',\n",
    "'https://www.lavozdegalicia.es/noticia/galicia/2019/03/19/norma-agilizara-obras-menores-cuencas-dependientes-xunta/0003_201903G19P8992.htm',\n",
    "'https://www.lavozdegalicia.es/noticia/galicia/2019/03/19/hosteleros-alaban-nuevo-modelo-licencias-evitara-picaresca/0003_201903G19P6994.htm',\n",
    "'https://www.lavozdegalicia.es/noticia/galicia/2019/03/19/supremo-ordena-repetir-juicio-unica-condena-rey-orquestas/0003_201903G19P6993.htm',\n",
    "'https://www.lavozdegalicia.es/noticia/galicia/2019/03/19/profesores-sienten-poco-valorados-demasiadas-presiones/0003_201903G19P14991.htm',\n",
    "'https://www.lavozdegalicia.es/noticia/galicia/2019/03/19/oposiciones-personal-fijo-xunta-avivan-tension-sindicatos/0003_201903G19P12993.htm',\n",
    "'https://www.lavozdegalicia.es/noticia/economia/2019/03/18/espana-cola-europa-empleos-vacantes-solo-detras-grecia/00031552931559737751273.htm',\n",
    "'https://www.lavozdegalicia.es/noticia/economia/2019/03/19/santander-cierra-galicia-integracion-clientes-pastor-popular/0003_201903G19P32991.htm',\n",
    "'https://www.lavozdegalicia.es/noticia/economia/2019/03/19/ir-galletas-hiper-salir-martillo-bicicleta-montana/0003_201903G19P32992.htm',\n",
    "'https://www.lavozdegalicia.es/noticia/economia/2019/03/18/venta-falsificacionesmueve-450000-millones-euros-ano-doble-factura-apple-mundo/00031552910384626504327.htm',\n",
    "'https://www.lavozdegalicia.es/noticia/economia/2019/03/19/fusion-deutsche-commerzbank-llevarse-delante-30000-empleos/0003_201903G19P31993.htm',\n",
    "'https://www.lavozdegalicia.es/noticia/maritima/2019/03/01/superpoderes-algas-gallegas/00031551444737675109712.htm',\n",
    "'https://www.lavozdegalicia.es/noticia/agro/2019/03/18/pasto-contra-cambio-climatico/0003_201903G18P22991.htm',\n",
    "'https://www.lavozdegalicia.es/noticia/economia/2019/03/18/dos-mayores-bancos-alemanes-estudian-fusion/0003_201903G18P23993.htm',\n",
    "'https://www.lavozdegalicia.es/noticia/economia/2019/03/18/clientes-santander-estafados-madoff-recuperan-hoy-dinero/0003_201903G18P22993.htm',\n",
    "'https://www.lavozdegalicia.es/noticia/economia/2019/03/18/campana-renta-ojo-figuran-permisos-paternidad/0003_201903G18P22994.htm',\n",
    "'https://www.lavozdegalicia.es/noticia/economia/2019/03/17/mercedes-llama-revision-100000-vehiculos-problemas-direccion/00031552809249267240424.htm',\n",
    "'https://www.lavozdegalicia.es/noticia/maritima/2019/03/19/espana-francia-maniobran-poder-blindar-fondos-pesqueros/0003_201903G19P33992.htm',\n",
    "'https://www.lavozdegalicia.es/noticia/economia/2019/03/19/solia-presentar-declaracion-renta-papel-puede-ano/0003_201903G19P30991.htm',\n",
    "'https://www.lavozdegalicia.es/noticia/maritima/2019/03/01/superpoderes-algas-gallegas/00031551444737675109712.htm',\n",
    "'https://www.lavozdegalicia.es/noticia/maritima/2019/03/19/marchando-tapa-langostinos-5-minutos/0003_201903G19P33991.htm',\n",
    "'https://www.lavozdegalicia.es/noticia/maritima/2019/03/18/brasil-quiere-reconvertir-redes-pesca-abandonadas-redes-voleibol/0003_201903G18P24995.htm',\n",
    "'https://www.lavozdegalicia.es/noticia/economia/2019/03/19/super-gallegos-resisten-presion-grandes-cadenas-siguen-creciendo/0003_201903G19P29994.htm',\n",
    "'https://www.lavozdegalicia.es/noticia/economia/2019/03/19/nueve-posibles-inversores-plantas-coruna-aviles/0003_201903G19P28996.htm',\n",
    "'https://www.lavozdegalicia.es/noticia/economia/2019/03/19/alcoa-lanza-alerta-fabrica-aluminio-san-cibrao-peligro/0003_201903G19P28995.htm',\n",
    "'https://www.lavozdegalicia.es/noticia/espana/2019/03/18/juzgan-valladolid-hombre-intento-apunalar-primero-atropellar-despues-mujer/00031552908869587423371.htm',\n",
    "'https://www.lavozdegalicia.es/noticia/espana/2019/03/18/ver-represiva-espana-verdad-dice-ironico-borrell-sobre-manifestacion-secesionista-madrid/00031552901007523918963.htm',\n",
    "'https://www.lavozdegalicia.es/noticia/espana/2019/03/17/agradecimiento-infinito/00031552826870033287362.htm',\n",
    "'https://www.lavozdegalicia.es/noticia/espana/2019/03/18/juicio-1-o-queda-huerfano-testigos-clave-estar-imputados-cataluna/0003_201903G18P17991.htm',\n",
    "'https://www.lavozdegalicia.es/noticia/espana/2019/03/17/hombre-23-anos-muere-incendio-vivienda-bermeo-vizcaya/00031552833298670464538.htm',\n",
    "'https://www.lavozdegalicia.es/noticia/espana/2019/03/17/padres-ninos-godella-reconocen-papel-doble-crimen/00031552830925978604217.htm',\n",
    "'https://www.lavozdegalicia.es/noticia/espana/2019/03/17/sanchez-lamina-criticos-listas-generales-europeas/00031552825058882482395.htm',\n",
    "'https://www.lavozdegalicia.es/noticia/espana/2019/03/16/madre-ninos-asesinados-godella-dice-enterro-tras-hallarlos-muertos/00031552775365761881220.htm',\n",
    "'https://www.lavozdegalicia.es/noticia/espana/2019/03/16/independentismo-desmonta-propios-argumentos/00031552768505899489309.htm',\n",
    "'https://www.lavozdegalicia.es/noticia/espana/2019/03/16/independentismo-manifiesta-madrid-protestar-juicio-desafio-secesionista/00031552755618423876659.htm',\n",
    "'https://www.lavozdegalicia.es/noticia/espana/2019/03/16/prision-fianza-padre-dos-ninosasesinados-godella/00031552763264599264295.htm',\n",
    "'https://www.lavozdegalicia.es/noticia/espana/2019/03/16/desequilibros-psiquicos-drogas-dramatico-coctel-doble-parricidio-godella/00031552742648599864255.htm',\n",
    "'https://www.lavozdegalicia.es/noticia/espana/2019/03/16/incendio-afecta-juan-carlos-i-buque-insignia-armada/00031552738226955424740.htm',\n",
    "'https://www.lavozdegalicia.es/noticia/espana/2019/03/16/trapero-destinaba-comisario-arrestar-miembro-gobierno/00031552736309859238131.htm',\n",
    "'https://www.lavozdegalicia.es/noticia/espana/2019/03/18/jec-concede-quim-torra-prorroga-24-horas-retire-lazos/00031552928710534536527.htm',\n",
    "'https://www.lavozdegalicia.es/noticia/espana/2019/03/19/mitad-movilizados-detenidos-2018-espana-marroquies/0003_201903G19P20995.htm',\n",
    "'https://www.lavozdegalicia.es/noticia/elecciones/2019/03/17/casado-plantea-28a-plebiscito-independentismo-unidad/00031552839703571985450.htm',\n",
    "'https://www.lavozdegalicia.es/noticia/espana/2019/03/19/jueza-manresa-aprecia-exceso-policial-1-o/0003_201903G19P19992.htm',\n",
    "'https://www.lavozdegalicia.es/noticia/espana/2019/03/19/lucha-antiterrorista-prima-neutralizar-yihadistas-retornados-autorradicalizados/0003_201903G19P20994.htm',\n",
    "'https://www.lavozdegalicia.es/noticia/espana/2019/03/18/incognitas-planean-sobre-godella/00031552923103854457978.htm',\n",
    "'https://www.lavozdegalicia.es/noticia/internacional/2019/03/19/tercera-votacion-acuerdo-bloqueada/0003_201903G19P23992.htm',\n",
    "'https://www.lavozdegalicia.es/noticia/internacional/2019/03/18/varias-personas-heridas-tiroteo-contra-tranvia-ciudad-holandesa-utrecht/00031552906850087906931.htm',\n",
    "'https://www.lavozdegalicia.es/noticia/internacional/2019/03/18/beira-cuarta-ciudad-mozambique-destruida-90-ciclon-idai/00031552903391128912737.htm',\n",
    "'https://www.lavozdegalicia.es/noticia/internacional/2019/03/18/principe-heredero-saudi-contaba-equipo-dedicado-torturar-secuestrar/00031552900335838669759.htm',\n",
    "'https://www.lavozdegalicia.es/noticia/internacional/2019/03/17/primera-crisis-bolsonaro-hijos/00031552846986707560111.htm',\n",
    "'https://www.lavozdegalicia.es/noticia/internacional/2019/03/17/cinco-mil-personas-siguen-ultimo-reducto-estado-islamico/00031552856510668871619.htm',\n",
    "'https://www.lavozdegalicia.es/noticia/internacional/2019/03/18/berlin-quiere-acabar-institucion-vela-actas-stasi/0003_201903E18P40991.htm',\n",
    "'https://www.lavozdegalicia.es/noticia/internacional/2019/03/17/heroe-planto-cara-asesinos-masacre-nueva-zelanda/00031552844454748542376.htm',\n",
    "'https://www.lavozdegalicia.es/noticia/internacional/2019/03/17/5000-personas-ultimo-reducto-estado-islamico-siria/00031552835661082992819.htm',\n",
    "'https://www.lavozdegalicia.es/noticia/internacional/2019/03/17/theresa-may-renunciar-nueva-votacion-sobre-acuerdo-ue/00031552834450789471897.htm',\n",
    "'https://www.lavozdegalicia.es/noticia/internacional/2019/03/17/terrorista-christchurch-envio-manifiesto-30-personas-9-minutos-atentar/00031552808272925501342.htm',\n",
    "'https://www.lavozdegalicia.es/noticia/internacional/2019/03/16/nueva-zelanda-prohibira-armas-automaticas-tras-doble-atentado/00031552769312812401325.htm',\n",
    "'https://www.lavozdegalicia.es/noticia/internacional/2019/03/16/consumidor-webs-ultras-queria-seguir-matando-detenido/00031552769687446676405.htm',\n",
    "'https://www.lavozdegalicia.es/noticia/internacional/2019/03/16/socialdemocratas-alemanes-cerca-romper-coalicion-gobierno-cdu/00031552770283233480514.htm',\n",
    "'https://www.lavozdegalicia.es/noticia/internacional/2019/03/19/ue-lista-inminente-peticion-prorroga-brexit/0003_201903G19P23991.htm',\n",
    "'https://www.lavozdegalicia.es/noticia/internacional/2019/03/19/mozambique-teme-mil-muertos-ciclon/0003_201903G19P22992.htm',\n",
    "'https://www.lavozdegalicia.es/noticia/internacional/2019/03/10/futuro-cuba-crisis-venezolana/00031552247385654420349.htm',\n",
    "'https://www.lavozdegalicia.es/noticia/internacional/2019/03/19/maduro-responde-presion-exterior-remodelacion-gobierno/0003_201903G19P22991.htm',\n",
    "'https://www.lavozdegalicia.es/noticia/internacional/2019/03/17/maduro-sobrevive-poder-costa-expolio-oro-venezolano/00031552846911630589581.htm',\n",
    "'https://www.lavozdegalicia.es/noticia/internacional/2019/03/19/tiroteo-tres-muertos-activa-maxima-alerta-terrorista-utrecht/0003_201903G19P21991.htm',\n",
    "'https://www.lavozdegalicia.es/noticia/deportes/2019/03/18/iker-casillas-cerrado-etapa-seleccion-ilusion-regresar/00031552944241464676628.htm',\n",
    "'https://www.lavozdegalicia.es/noticia/deportes/2019/03/19/varane-plantea-dejar-real-madrid-segun-lequipe/00031552985090463525591.htm',\n",
    "'https://www.lavozdegalicia.es/noticia/deportes/2019/03/18/saul-releva-fabian-convocatoria-luis-enrique/00031552941805256237916.htm',\n",
    "'https://www.lavozdegalicia.es/noticia/barbanza/ribeira/2019/03/19/span-langglqueria-saber-sente-ringspan/0003_201903B19C8997.htm',\n",
    "'https://www.lavozdegalicia.es/noticia/deportes/2019/03/17/futbolistas-claman-contra-discriminacion-violencia-machista-denigrante-inadmisible/00031552844105414847332.htm',\n",
    "'https://www.lavozdegalicia.es/noticia/ourense/2019/03/19/parecia-ganariamos-paso-cuarto/0003_201903O19C9991.htm',\n",
    "'https://www.lavozdegalicia.es/noticia/ferrol/ferrol/2019/03/18/pablo-rey-leyenda/00031552937218705928262.htm',\n",
    "'https://www.lavozdegalicia.es/noticia/deportes/2019/03/18/leyma-clama-venganza-contra-granada-equipo-aplasto-ida/00031552941043304828280.htm',\n",
    "'https://www.lavozdegalicia.es/noticia/forzabreo/2019/03/18/breogan-despide-lezkano-guia-regreso-acb/00031552946555090223935.htm',\n",
    "'https://www.lavozdegalicia.es/noticia/arousa/vilagarcia-de-arousa/2019/03/19/span-langgl-arousa-comeza-preparar-cadro-sua-finalisima-coa-ud-ourensespan/0003_201903A19C9995.htm',\n",
    "'https://www.lavozdegalicia.es/noticia/ferrol/ferrol/2019/03/19/final-pasada-liga-fuimos-desguace-pagamos/0003_201903F19P40991.htm',\n",
    "'https://www.lavozdegalicia.es/noticia/pontevedra/pontevedra/2019/03/19/paso-atras-partido-fuera/0003_201903P19C8991.htm',\n",
    "'https://www.lavozdegalicia.es/noticia/pontevedra/2019/03/19/siete-goles-90-minutos/0003_201903P19C9991.htm',\n",
    "'https://www.lavozdegalicia.es/noticia/andarmiudino/2019/03/19/obradoiro-pasa-pagina-arbitraje/0003_201903S19P37991.htm',\n",
    "'https://www.lavozdegalicia.es/noticia/futbolgallego/2019/03/18/agresor-arbitro-menor-edad-ourense-sera-excluido-club/00031552937841741407760.htm',\n",
    "'https://www.lavozdegalicia.es/noticia/deportes/2019/03/18/vuelta-globo-balon/00031552939837404564158.htm',\n",
    "'https://www.lavozdegalicia.es/noticia/gradario/2019/03/18/olaza-hugo-kevin-pierna-cambiada-alternativas-br-junca/00031552939624802520433.htm',\n",
    "'https://www.lavozdegalicia.es/noticia/gradario/2019/03/18/iago-aspas-ultima-esperanza/00031552939144621645995.htm',\n",
    "'https://www.lavozdegalicia.es/noticia/torremarathon/2019/03/18/quique-nahuel-trabajan-precaucion-retorno-entrenamientos/00031552935948613302755.htm',\n",
    "'https://www.lavozdegalicia.es/noticia/torremarathon/2019/03/18/trujillo-suarez-arbitro-eliminacion-copera-pitara-viernes/00031552936244687299512.htm']\n"
   ]
  },
  {
   "cell_type": "code",
   "execution_count": 2,
   "metadata": {},
   "outputs": [],
   "source": [
    "# List of false news' urls (later we will add some false news scraped by hand)\n",
    "\n",
    "false_news_urls = ['https://www.elmundotoday.com/noticias/deportes/page/2/',\n",
    "'https://www.elmundotoday.com/2019/03/barca-tv-adquiere-los-derechos-del-documental-que-esta-grabando-sergio-ramos/', \n",
    "'https://www.elmundotoday.com/2019/03/el-barca-pide-jugar-la-vuelta-de-los-octavos-contra-el-lyon-en-el-santiago-bernabeu/',\n",
    "'https://www.elmundotoday.com/2019/02/iglesias-villanueva-recurrio-al-telescopio-nustar-de-la-nasa-para-pitar-el-penalti-a-casemiro/',\n",
    "'https://www.elmundotoday.com/2019/02/ronaldo-acepta-pagar-otros-19-millones-a-cambio-de-no-volver-a-jugar-contra-el-atletico-de-madrid/',\n",
    "'https://www.elmundotoday.com/2019/03/los-empleados-de-limpieza-llevan-todo-el-dia-retirando-los-plasticos-y-desechos-que-dejaron-los-manifestantes-contra-el-calentamiento-global/',\n",
    "'https://www.elmundotoday.com/2019/02/los-jugadores-del-real-madrid-piden-que-vuelva-lopetegui-para-dar-emocion-a-sus-partidos/',\n",
    "'https://www.elmundotoday.com/2019/02/leo-messi-fingio-una-lesion-para-no-tener-que-enfrentarse-el-miercoles-a-vinicius/',\n",
    "'https://www.elmundotoday.com/2019/02/te-explicamos-las-normas-basicas-del-futbol-americano-para-que-puedas-seguir-la-super-bowl/',\n",
    "'https://www.elmundotoday.com/2019/01/sandro-rosell-recuerda-que-el-puede-conseguirle-un-pie-nuevo-a-neymar/',\n",
    "'https://www.elmundotoday.com/2019/01/crean-un-desodorante-que-huele-a-sudor-para-fingir-que-se-ha-hecho-deporte/',\n",
    "'https://www.elmundotoday.com/2019/01/trump-reconoce-a-lopetegui-como-entrenador-de-la-seleccion/',\n",
    "'https://www.elmundotoday.com/2019/01/los-equipos-saldran-directamente-con-diez-jugadores-contra-el-barca-para-evitar-expulsiones/',\n",
    "'https://www.elmundotoday.com/2019/01/el-colegiado-del-var-no-pito-la-falta-de-luis-suarez-porque-estaba-viendo-la-gala-de-operacion-triunfo/',\n",
    "'https://www.elmundotoday.com/2019/01/audiencias-el-barca-cometio-alineacion-indebida-por-jugar-con-catalanes-en-la-copa-del-rey/',\n",
    "'https://www.elmundotoday.com/2019/01/el-chiringuito-de-jugones-ya-es-la-principal-salida-laboral-de-los-estudiantes-espanoles-de-arquitectura/',\n",
    "'https://www.elmundotoday.com/2019/01/el-var-revisara-si-los-terremotos-de-2013-en-castellon-fueron-provocados-por-florentino-perez/',\n",
    "'https://www.elmundotoday.com/2018/12/reino-unido-no-seguira-con-el-brexit-porque-ya-se-ha-deshecho-de-mourinho/',\n",
    "'https://www.elmundotoday.com/2019/03/los-empleados-de-limpieza-llevan-todo-el-dia-retirando-los-plasticos-y-desechos-que-dejaron-los-manifestantes-contra-el-calentamiento-global/',\n",
    "'https://www.elmundotoday.com/2018/12/el-espanyol-inicia-una-huelga-de-goles-en-solidaridad-con-los-politicos-presos/',\n",
    "'https://www.elmundotoday.com/2018/12/los-jugadores-del-leganes-volvieron-ciegos-a-madrid-por-culpa-de-las-luces-de-navidad-de-vigo/', \n",
    "'https://www.elmundotoday.com/2019/01/los-britanicos-admiten-que-no-ultimaran-el-brexit-hasta-que-la-india-pakistan-nueva-zelanda-y-estados-unidos-se-unan-de-nuevo-al-imperio-britanico/',\n",
    "'https://www.elmundotoday.com/2019/01/carlos-de-inglaterra-lleva-tres-decadas-reinando-disfrazado-de-anciana/',\n",
    "'https://www.elmundotoday.com/2018/11/trump-asegura-que-va-a-hacer-lo-posible-para-dar-por-finalizada-la-primera-guerra-mundial-cuanto-antes/',\n",
    "'https://www.elmundotoday.com/2018/11/a-donald-trump-no-le-importa-haber-perdido-el-congreso-porque-se-puede-comprar-otro/',\n",
    "'https://www.elmundotoday.com/2018/10/la-comision-europea-ensena-las-dos-lamparas-que-se-encenderan-gratis-este-invierno-gracias-a-la-energia-ahorrada-con-el-cambio-de-hora/',\n",
    "'https://www.elmundotoday.com/2018/10/tras-un-error-en-el-cambio-de-hora-anochecera-a-las-dos-de-la-tarde-durante-todo-el-invierno/',\n",
    "'https://www.elmundotoday.com/2018/10/el-titanic-2-estara-listo-para-navegar-en-cuanto-se-acabe-de-construir-el-iceberg-2/',\n",
    "'https://www.elmundotoday.com/2018/10/el-alcalde-de-liberty-city-culpa-a-los-videojuegos-de-los-altos-indices-de-criminalidad-de-la-ciudad/',\n",
    "'https://www.elmundotoday.com/2018/10/la-onu-exige-a-arabia-saudi-que-mate-a-sus-disidentes-antes-de-descuartizarlos/',\n",
    "'https://www.elmundotoday.com/2019/03/los-empleados-de-limpieza-llevan-todo-el-dia-retirando-los-plasticos-y-desechos-que-dejaron-los-manifestantes-contra-el-calentamiento-global/',\n",
    "'https://www.elmundotoday.com/2019/03/le-obligan-a-guardar-la-maleta-en-la-bodega-del-avion-y-cuando-la-recoge-esta-totalmente-borracha/',\n",
    "'https://www.elmundotoday.com/2019/03/aparece-la-primera-cara-de-belmez-en-codigo-qr/',\n",
    "'https://www.elmundotoday.com/2019/03/una-joven-feminista-obligada-a-coger-cada-dia-el-autobus-de-hazte-oir-porque-es-el-unico-que-la-acerca-al-trabajo/',\n",
    "'https://www.elmundotoday.com/2019/03/un-20-de-los-manifestantes-del-pasado-8m-eran-mujeres-un-10-mas-que-el-ano-pasado/',\n",
    "'https://www.elmundotoday.com/2019/03/las-mujeres-se-ven-obligadas-a-inventar-un-nuevo-feminismo-feminista-para-desmarcarse-del-feminismo-de-los-hombres/',\n",
    "'https://www.elmundotoday.com/2019/03/miles-de-hombres-se-disfrazan-de-feministas-para-celebrar-el-carnaval/',\n",
    "'https://www.elmundotoday.com/2019/03/los-empleados-de-limpieza-llevan-todo-el-dia-retirando-los-plasticos-y-desechos-que-dejaron-los-manifestantes-contra-el-calentamiento-global/',\n",
    "'https://www.elmundotoday.com/2019/03/miles-de-independentistas-que-fueron-a-madrid-a-manifestarse-abandonaron-el-secesionismo-al-probar-la-primera-tapa-gratis/',\n",
    "'https://www.elmundotoday.com/2019/03/le-dan-a-probar-el-vino-y-pide-la-opinion-de-los-156-comensales-del-restaurante/', \n",
    "'https://www.elmundotoday.com/2019/03/un-matrimonio-decide-tener-seis-hijos-para-salvar-la-relacion-porque-saben-que-con-uno-no-bastara/',\n",
    "'https://www.elmundotoday.com/2019/03/las-mujeres-aceptan-que-cada-vez-falta-menos-para-que-los-hombres-asuman-el-feminismo-como-un-invento-suyo/',\n",
    "'https://www.elmundotoday.com/2019/03/evax-lanza-al-mercado-una-compresa-de-color-rosa-para-mujeres/',\n",
    "'https://www.elmundotoday.com/2019/03/dos-de-cada-tres-espanoles-prefieren-acudir-a-un-restaurante-y-preguntar-si-hay-un-medico-en-la-sala-antes-que-ir-al-ambulatorio/',\n",
    "'https://www.elmundotoday.com/2019/03/la-gente-que-espia-a-los-vecinos-lamenta-que-ya-solo-vean-series-en-el-sofa/',\n",
    "'https://www.elmundotoday.com/2019/02/el-autobus-de-hazte-oir-asegura-que-no-es-violencia-de-genero-ha-sido-un-accidente-despues-de-atropellar-a-varias-mujeres/',\n",
    "'https://www.elmundotoday.com/2019/02/el-imserso-ingreso-ancianos-en-suiza-y-andorra-de-manera-fraudulenta/',\n",
    "'https://www.elmundotoday.com/2018/11/todos-los-italianos-llevan-anos-sorbiendo-del-mismo-plato-de-espaguetis/',\n",
    "'https://www.elmundotoday.com/2018/11/el-plan-de-theresa-may-para-el-brexit-es-seguir-sumiando-al-reino-unido-en-el-caos-hasta-que-deje-de-cumplir-requisitos-para-permanecer-en-la-union/',\n",
    "'https://thepatriota.com/primark-lanza-unas-nuevas-sandalias-ecologicas-para-el-verano/',\n",
    "'https://thepatriota.com/vox-anuncia-que-quiere-cerrar-tv3-tras-no-poder-cerrar-canal-sur/',\n",
    "'https://thepatriota.com/un-estudio-revela-que-a-las-mujeres-que-beben-cerveza-se-les-pone-el-culo-respingon/',\n",
    "'https://thepatriota.com/se-agota-el-disfraz-de-santiago-abascal-para-estos-carnavales/',\n",
    "'https://thepatriota.com/multas-de-hasta-1000e-a-las-personas-que-crucen-con-el-semaforo-en-rojo/',\n",
    "'https://thepatriota.com/la-dgt-anuncia-que-multara-a-los-conductores-que-vayan-disfrazados/',\n",
    "'https://thepatriota.com/se-inaugura-en-almeria-sexdog-un-local-de-sexo-para-perros/',\n",
    "'https://thepatriota.com/el-gobierno-aprueba-la-incorporacion-de-clases-de-sexologia-en-las-aulas/',\n",
    "'https://thepatriota.com/la-dgt-anuncia-un-fin-de-semana-sin-multas-para-febrero/',\n",
    "'https://thepatriota.com/un-municipio-catalan-solicita-emanciparse-de-cataluna/', \n",
    "'https://thepatriota.com/nuevas-becas-de-estudio-para-chicas-que-demuestren-su-virginidad/',\n",
    "'https://thepatriota.com/el-gobierno-aprobara-una-ley-para-tener-1h-laboral-de-sexo-pagada/',\n",
    "'https://thepatriota.com/detenido-un-joven-por-mandar-a-fregar-a-las-mujeres-durante-el-8m/',\n",
    "'https://thepatriota.com/las-mujeres-espanolas-son-las-mas-sexys-de-europa-segun-una-universidad-de-alemania/',\n",
    "'https://thepatriota.com/inventan-un-nuevo-farmaco-que-incrementa-las-ganas-de-estudiar/',\n",
    "'https://thepatriota.com/el-gobierno-se-plantea-imitar-a-la-pelicula-la-purga-y-ofrecera-un-dia-en-el-que-todo-valga/',\n",
    "'https://thepatriota.com/multas-de-hasta-1000e-a-las-personas-que-crucen-con-el-semaforo-en-rojo/',\n",
    "'https://thepatriota.com/el-ministerio-de-educacion-oficializa-el-master-de-sexo-oral/',\n",
    "'https://thepatriota.com/un-vagabundo-pasa-de-pedir-limosna-en-la-calle-a-ser-concejal-de-un-pueblo-en-2-meses/',\n",
    "'https://thepatriota.com/inauguran-la-primera-iglesia-nudista-en-espana/',\n",
    "'https://thepatriota.com/el-parlamento-se-opone-a-seguir-subvencionando-la-tauromaquia/',\n",
    "'https://thepatriota.com/se-celebrara-en-espana-el-primer-concurso-para-ver-quien-tiene-mas-larga-la-raja-del-culo/',\n",
    "'https://thepatriota.com/el-gobierno-anuncia-que-la-semana-santa-este-ano-durara-4-dias/',\n",
    "'https://thepatriota.com/el-national-geographic-declara-al-macho-iberico-en-peligro-de-extincion/',\n",
    "'https://thepatriota.com/un-estudio-revela-que-la-moda-de-los-vaqueros-ensenando-tobillos-causa-200-000-resfriados-al-ano/',\n",
    "'https://thepatriota.com/una-joven-pide-a-ronaldo-que-le-preste-su-esperma-para-tener-un-hijo/',\n",
    "'https://thepatriota.com/abren-en-espana-el-primer-gimnasio-nudista/',\n",
    "'https://thepatriota.com/detenido-por-amenazar-a-los-jugadores-del-madrid-con-una-catana-tras-perder-5000e-en-una-apuesta/',\n",
    "'https://thepatriota.com/gimnasio-cobrara-una-cuota-menor-a-quienes-vayan-solo-a-hacerse-fotos/', \n",
    "'https://thepatriota.com/ronaldinho-en-la-ruina-con-menos-de-6e-en-el-banco/',\n",
    "'https://thepatriota.com/aficionado-del-madrid-intenta-atropellar-a-un-pronosticador-tras-perder-5000e-en-una-apuesta/',\n",
    "'https://thepatriota.com/lopetegui-pide-a-paco-alcacer-para-ocupar-la-delantera-del-real-madrid/',\n",
    "'https://thepatriota.com/se-suspende-un-torneo-de-culturismo-por-abandono-de-la-mayoria-de-participantes-tras-conocer-que-habia-pruebas-de-antidopaje/',\n",
    "'https://thepatriota.com/florentino-perez-ofrece-el-puesto-de-entrenador-del-real-madrid-a-carles-puigdemont/',\n",
    "'https://thepatriota.com/acude-a-donar-esperma-con-una-botella-de-2-litros-de-su-semen/',\n",
    "'https://thepatriota.com/la-sanidad-propone-una-sesion-gratis-de-masajes-con-final-feliz-a-pacientes-con-depresion/',\n",
    "'https://thepatriota.com/gana-el-reintegro-de-la-primitiva-y-se-va-con-los-amigos-a-celebrarlo-a-un-puticlub/',\n",
    "'https://thepatriota.com/lo-echan-del-grupo-de-amigos-por-tirarse-12-pedos-durante-la-comida/',\n",
    "'https://thepatriota.com/viaja-a-egipto-y-a-la-vuelta-se-trae-una-momia-en-lugar-de-su-suegra/',\n",
    "'https://thepatriota.com/se-olvida-de-su-aniversario-y-su-novia-se-venga-de-una-manera-sorprendente/',\n",
    "'https://thepatriota.com/solicita-la-baja-al-dia-siguiente-de-empezar-a-trabajar/',\n",
    "'https://thepatriota.com/deja-a-su-novia-embarazada-de-penalti-y-solicita-el-var/',\n",
    "'https://thepatriota.com/sale-de-fiesta-con-los-amigos-y-acaba-durmiendo-en-la-caseta-del-perro/',\n",
    "'https://thepatriota.com/joven-tiene-una-cita-a-ciegas-y-le-presentan-a-su-prima/',\n",
    "'https://thepatriota.com/manda-una-foto-del-pene-al-grupo-del-trabajo-pensando-que-se-lo-enviaba-a-su-pareja/',\n",
    "'https://thepatriota.com/el-gobierno-se-plantea-imitar-a-la-pelicula-la-purga-y-ofrecera-un-dia-en-el-que-todo-valga/',\n",
    "'https://thepatriota.com/oriol-junqueras-busca-su-media-naranja-en-first-dates/',\n",
    "'https://thepatriota.com/detenido-un-joven-por-mandar-a-fregar-a-las-mujeres-durante-el-8m/', \n",
    "'https://thepatriota.com/se-celebrara-en-espana-el-primer-concurso-para-ver-quien-tiene-mas-larga-la-raja-del-culo/',\n",
    "'https://thepatriota.com/abren-una-discoteca-unicamente-destinada-para-feos/',\n",
    "'https://haynoticia.es/la-dgt-multara-estas-navidades-a-los-conductores-que-hayan-comido-en-exceso7777/',\n",
    "'https://haynoticia.es/en-2019-sera-obligatorio-dar-de-alta-al-robot-roomba-como-trabajador-empleado-de-hogar9999/',\n",
    "'https://haynoticia.es/las-carceles-instalaran-dispensadores-de-jabon-para-que-los-presos-no-se-agachen-a-por-la-pastilla5555/',\n",
    "'https://haynoticia.es/las-multas-por-velocidad-tambien-se-aplicaran-al-copiloto-por-no-corregir-al-conductor9999/',\n",
    "'https://haynoticia.es/los-presos-tendran-que-trabajar-para-cubrir-gastos-de-comida-y-mantenimiento-de-la-carcel9999/',\n",
    "'https://haynoticia.es/las-peluquerias-tendran-que-firmar-un-contrato-para-no-contar-nada-de-lo-que-hablen-con-sus-clientes7777/',\n",
    "'https://haynoticia.es/la-d-g-t-informa-que-en-2019-los-miopes-deberan-llevar-graduada-la-luna-de-su-coche9999/',\n",
    "'https://haynoticia.es/nueva-ley-permitira-a-los-ciudadanos-cagar-en-la-calle-si-lo-recogen-despues-en-una-bolsa-3333/',\n",
    "'https://haynoticia.es/los-abuelos-que-cuiden-a-sus-nietos-deberan-darse-de-alta-como-autonomos-4444/',\n",
    "'https://haynoticia.es/en-cataluna-las-campanadas-seran-a-las-010-para-no-coincidir-con-las-de-espana4444/',\n",
    "'https://haynoticia.es/las-carceles-instalaran-dispensadores-de-jabon-para-que-los-presos-no-se-agachen-a-por-la-pastilla5555/',\n",
    "'https://haynoticia.es/2personas-usen-gafas-seran-consideradas-discapacitadas-partir-20187777/',\n",
    "'https://haynoticia.es/podemos-propone-en-el-congreso-que-la-bandera-de-espana-sea-por-un-lado-la-actual-y-por-el-otro-la-republicana-4444/',\n",
    "'https://haynoticia.es/podemos-propone-que-la-loteria-de-navidad-no-pueda-tocarle-dos-veces-al-mismo/',\n",
    "'https://haynoticia.es/le-queman-el-tendedero-por-un-lazo-amarillo-y-resulta-ser-un-tanga-de-su-novia-3333/',\n",
    "'https://haynoticia.es/detenido-por-pasear-con-un-lazo-amarillo-en-el-pene-para-que-alguien-se-lo-tocase-3333/',\n",
    "'https://haynoticia.es/colas-de-50-metros-en-eroskis-de-madrid-para-comprar-la-crema-de-cifuentes/', \n",
    "'https://haynoticia.es/normativa-sanitaria-obliga-a-los-bares-a-cobrar-los-sobres-de-azucar-a-sus-clientes-3333/',\n",
    "'https://haynoticia.es/los-ninos-que-hagan-la-comunion-y-sus-padres-tendran-15-dias-de-permiso-4444/',\n",
    "'https://haynoticia.es/la-iglesia-permite-el-sexo-fuera-del-matrimonio-siempre-que-sea-con-amor/',\n",
    "'https://haynoticia.es/127-ingresados-con-depresion-tras-un-concierto-de-alex-ubago/',\n",
    "'https://haynoticia.es/david-guetta-suspende-su-actuacion-en-santander-porque-ha-olvidado-su-pendrive/',\n",
    "'https://haynoticia.es/los-mejores-lugares-que-visitar-en-aragon/',\n",
    "'https://haynoticia.es/la-tv-francesa-pone-espana-de-mierda-como-cancion-de-amaia-y-alfred-por-error/',\n",
    "'https://haynoticia.es/ingresado-tras-clavarse-en-la-mano-una-banderilla-para-demostrar-que-los-toros-no-sufren5555/',\n",
    "'https://haynoticia.es/prohiben-a-un-nazareno-ir-descalzo-porque-le-huelen-mucho-los-pies3333/',\n",
    "'https://haynoticia.es/inicia-una-pelea-por-gritarle-ole-tu-p0lla-morena-al-gran-poder3333/',\n",
    "'https://haynoticia.es/procesion-llega-a-su-iglesia-3-horas-tarde-porque-se-paraba-en-todos-los-semaforos3333/',\n",
    "'https://haynoticia.es/banda-de-musica-gaditana-se-confunde-y-toca-una-chirigota-durante-la-procesion3333/',\n",
    "'https://haynoticia.es/alemania-medita-no-disputar-la-fase-de-clasificacion-a-la-eurocopa-de-2020-por-unos-memes/',\n",
    "'https://haynoticia.es/un-corredor-tarda-en-completar-un-maraton-9-horas-porque-se-paraba-en-todos-los-semaforos5555/',\n",
    "'https://haynoticia.es/un-estudio-revela-que-los-hombres-recurren-al-padel-porque-carecen-de-sexo-en-casa7777/',\n",
    "'https://haynoticia.es/fallece-su-suegro-sevillista-y-guarda-las-cenizas-en-una-urna-con-el-escudo-del-betis-3333/',\n",
    "'https://haynoticia.es/rossi-dice-que-no-hara-las-paces-con-marquez-hasta-que-le-deje-ganar1111/',\n",
    "'https://haynoticia.es/manolo-el-del-bombo-dice-que-no-servira-mas-ensaladilla-rusa-en-su-bar9999/',\n",
    "'https://haynoticia.es/japon-cambio-a-3-jugadores-en-el-descanso-sin-que-nadie-se-diera-cuenta-frente-a-colombia/', \n",
    "'https://haynoticia.es/pillan-a-un-gimnasio-que-trucaba-todas-sus-pesas-para-subir-la-moral-de-sus-clientes3333/',\n",
    "'https://haynoticia.es/messi-jugara-con-la-seleccion-espanola/',\n",
    "'https://haynoticia.es/gana-un-ironman-y-se-lesiona-subiendo-al-podio-4444/',\n",
    "'https://haynoticia.es/a-partir-de-2019-sera-obligatorio-tener-el-carnet-de-conducir-para-ocupar-la-plaza-de-copiloto-3333/',\n",
    "'https://haynoticia.es/el-gobierno-subvencionara-a-las-personas-que-tengan-mas-de-2-gatos-en-casa7777/',\n",
    "'https://haynoticia.es/las-mujeres-que-lleven-pechos-de-silicona-deberan-llevar-la-etiqueta-material-inflamable9999/',\n",
    "'https://haynoticia.es/la-cancion-sin-pijama-ha-sido-la-culpable-del-55-de-los-resfriados-segun-sanidad-3333/',\n",
    "'https://haynoticia.es/la-seguridad-social-pagara-vasectomias-a-los-feos-para-que-no-se-reproduzcan-4444/',\n",
    "'https://haynoticia.es/la-seguridad-social-no-atendera-los-resfriados-ocasionados-por-llevar-los-tobillos-al-aire9999/',\n",
    "'https://haynoticia.es/alejandro-sanz-acude-a-las-audiciones-de-la-voz-por-sorpresa-y-ningun-coach-se-gira-3333/',\n",
    "'https://haynoticia.es/el-gobierno-propone-que-san-valentin-sea-festivo-para-aquellos-que-tengan-pareja/',\n",
    "'https://haynoticia.es/nueva-ley-obliga-a-llamar-a-los-camareros-por-su-nombre7777/',\n",
    "'https://haynoticia.es/se-divorcia-porque-no-sabe-que-regalar-a-su-mujer-por-san-valentin-4444/',\n",
    "'https://haynoticia.es/mayores-de-65-anos-podran-fumar-porros-para-disfrutar-de-lo-poco-que-les-queda7777/',\n",
    "'http://www.alertadigital.com/2012/06/19/escolares-musulmanes-de-un-colegio-de-tarrasa-impiden-comer-bocadillos-de-jamon-a-los-ninos-autoctonos/',\n",
    "'http://www.alertadigital.com/2016/03/28/los-musulmanes-demandaran-a-espana-ante-el-tribunal-de-estrasburgo-por-las-procesiones-de-semana-santa-es-una-ofensa-al-islam/',\n",
    "'http://www.alertadigital.com/2017/09/04/en-cataluna-los-musulmanes-procedentes-de-marruecos-vive-en-un-80-por-ciento-de-las-ayudas-sociales-y-siete-mil-ni-siquiera-residen-en-espana/',\n",
    "'http://www.alertadigital.com/2018/07/03/arnold-schwarzenegger-contra-la-exhumacion-de-franco-fue-un-gran-heroe-que-salvo-a-los-espanoles-del-comunismo/',\n",
    "'http://www.alertadigital.com/2018/07/17/reino-unido-advierte-de-ataques-yihadistas-suicidas-en-canarias-y-otras-zonas-turisticas-de-espana-este-verano/',\n",
    "'http://www.alertadigital.com/2018/08/12/el-antipapa-francisco-incita-a-las-mujeres-europeas-a-reproducirse-con-los-inmigrantes-musulmanes-para-combatir-la-baja-tasa-de-natalidad/',\n",
    "'http://www.alertadigital.com/2018/08/28/el-caos-se-apodera-de-espana-un-grupo-de-manteros-intenta-asaltar-el-cuartel-de-la-policia-local-en-benicarlo-para-recuperar-la-mercancia-falsificada-confiscada/',\n",
    "'http://www.alertadigital.com/2018/09/13/la-nueva-ministra-de-sanidad-en-2014-si-el-estado-islamico-degolla-ninos-en-irak-es-por-culpa-de-aznar-no-del-islam/',\n",
    "'https://mediterraneodigital.com/espana/politica/podemos-presenta-su-medida-bomba-pagara-1-200-euros-al-mes-a-todos-los-inmigrantes.html',\n",
    "'https://okdiario.com/espana/agreden-hombre-almeria-ser-guardia-civil-llevar-polo-bandera-espana-3522323',\n",
    "'https://okdiario.com/espana/ayuntamiento-carmena-expedienta-echenique-obras-ilegales-piso-barrio-mas-caro-3238285',\n",
    "'https://okdiario.com/espana/detenidos-dos-magrebies-que-portaban-pistola-madrilena-puerta-del-sol-3532125',\n",
    "'https://okdiario.com/espana/independentistas-baleares-votaron-contra-tener-base-ume-espanolista-3219874',\n",
    "'https://okdiario.com/espana/instituto-huelva-castiga-sin-recreo-ninos-8m-que-comprendan-mujer-3788038',\n",
    "'https://okdiario.com/espana/sanchez-quiere-obligar-que-ninos-toda-espana-estudien-catalan-2742698',\n",
    "'https://okdiario.com/investigacion/casoplon-pablo-iglesias-irene-montero-ilegal-esta-construido-parque-natural-protegido-3583239',\n",
    "'https://okdiario.com/investigacion/tramposa-carcedo-siguio-cobrando-dietas-viaje-ser-cazada-porque-puso-piso-nombre-del-hijo-3290214',\n",
    "'https://okdiario.com/videos/plebiscito-del-casoplon-iglesias-cachondeo-periodistas-okdiario-votan-8-veces-cada-uno-2318456',\n",
    "'https://www.lavanguardia.com/comer/al-dia/20181105/452749799482/restaurante-vegetariano-bangkok-carne-humana.html',\n",
    "'https://www.lavanguardia.com/comer/al-dia/20190111/454072343169/ayuntamiento-londres-aceite-comida-basura.html',\n",
    "'https://www.lavanguardia.com/local/paisvasco/20181113/452904496255/navarra-skolae-canciones-machistas-amaral-el-canto-del-loco.html',\n",
    "'https://www.periodistadigital.com/periodismo/tv/2018/06/05/la-caprichosa-y-millonaria-primera-decision-de-begona-gomez-sobre-la-moncloa.shtml',\n",
    "'https://www.periodistadigital.com/periodismo/tv/2018/08/30/sanchez-e-iglesias-lo-han-conseguido-tve-fulmina-la-misa-del-domingo.shtml',\n",
    "'https://www.periodistadigital.com/politica/autonomias/2018/07/22/bomberos-catalanes-organizan-un-cuerpo-armado-y-violento-contra-los-espanoles.shtml',\n",
    "'https://www.periodistadigital.com/politica/gobierno/2018/08/12/el-socialista-pedro-sanchez-y-su-mujer-abucheados-en-sanlucar-de-barrameda-fuera-sinverguenzas.shtml',\n",
    "'https://www.periodistadigital.com/politica/gobierno/2018/11/17/felipe-gonzalez-afirma-que-incluso-franco-hubiera-sido-preferible-a-lo-que-nos-quiere-imponer-podemos.shtml',\n",
    "'https://www.mediterraneodigital.com/espana/andalucia/el-gobierno-cambiara-los-cementerios-espanoles-para-adaptarlos-a-los-musulmanes.html',\n",
    "'https://www.mediterraneodigital.com/espana/casa-real/tve-silencia-la-bronca-y-los-pitidos-a-sanchez-en-el-desfile-de-las-fuerzas-armadas.html',\n",
    "'https://www.mediterraneodigital.com/espana/cataluna/confidencial-un-policia-nacional-saca-a-albert-rivera-de-un-control-de-drogas-en-el-aeropuerto-de-barcelona-el-prat.html',\n",
    "'https://www.mediterraneodigital.com/espana/comunidad-valenciana/refugiados-sirios-rechazan-un-piso-gratis-en-alicante-porque-no-tiene-ascensor.html',\n",
    "'https://www.mediterraneodigital.com/espana/espana/el-gobierno-prohibira-el-dia-del-padre-y-el-dia-de-la-madre-para-no-ofender-a-los-gais.html',\n",
    "'https://www.mediterraneodigital.com/espana/galicia/ser-gay-o-lgtbi-sumara-puntos-para-ser-funcionario.html',\n",
    "'https://www.mediterraneodigital.com/espana/mundo/el-primer-puente-feminista-de-la-historia-construido-solo-por-mujeres-se-derrumba-en-24-horas.html',\n",
    "'https://www.mediterraneodigital.com/espana/murcia/solo-tres-gitanos-de-un-colegio-de-lorca-saben-hablar-el-castellano.html',\n",
    "'https://www.mediterraneodigital.com/espana/nacional/alerta-sanitaria-inmigrantes-con-sarna-tuberculosis-y-vih-contagian-a-la-policia-nacional.html',\n",
    "'https://www.mediterraneodigital.com/espana/nacional/marroquies-rumanos-y-colombianos-son-ya-la-mitad-de-los-presos-en-las-carceles-espanolas.html',\n",
    "'https://www.mediterraneodigital.com/espana/pais-vasco/amnistia-internacional-pide-a-espana-que-no-llame-banda-terrorista-a-eta-para-no-ofender-a-los-etarras.html',\n",
    "'https://www.mediterraneodigital.com/espana/pais-vasco/bomba-otegi-pide-el-voto-para-pedro-sanchez.html',\n",
    "'https://www.mediterraneodigital.com/espana/pais-vasco/el-gobierno-aprueba-que-la-universidad-sera-gratis-para-los-refugiados.html',\n",
    "'https://www.mediterraneodigital.com/espana/politica/ada-colau-ofrece-contratos-de-trabajo-a-todos-los-inmigrantes-del-aquarius.html',\n",
    "'https://www.mediterraneodigital.com/gente-y-tv/ultimas-noticias-gente-y-tv/television/barcelona-subvencionara-cursos-para-convertirte-en-puta-por-45-euros.html',\n",
    "'https://www.mediterraneodigital.com/historia/historia-2/francia-rechaza-retirarle-a-franco-la-legion-de-honor-es-un-heroe-de-guerra.html',\n",
    "'https://www.mediterraneodigital.com/identitarios/ultimas-noticias-identitarios/identitarios-1/las-bases-de-podemos-exigen-a-espana-que-pida-perdon-a-los-musulmanes-por-la-toma-de-granada.html',\n",
    "'https://www.mediterraneodigital.com/identitarios/ultimas-noticias-identitarios/identitarios-2/podemos-creara-en-espana-las-nuevas-playas-para-mujeres-musulmanas.html',\n",
    "'https://www.mediterraneodigital.com/portada/nacional/edicion-comunidad-madrid/comunidad-de-madrid-1/manuela-carmena-debatio-un-toque-de-queda-para-hombres-para-evitar-las-violaciones-en-madrid.html',\n",
    "'https://www.mediterraneodigital.com/portada/nacional/edicion-comunidad-madrid/comunidad-de-madrid-3/podemos-prohibira-los-reyes-magos-porque-son-una-tradicion-podrida-y-cristofascista.html',\n",
    "'https://www.mediterraneodigital.com/portada/nacional/edicion-comunidad-valenciana/alicante/podemos-prohibira-la-tradicion-de-los-moros-y-cristianos-para-no-ofender-al-islam.html',\n",
    "'https://www.mediterraneodigital.com/portada/nacional/nacional/los-papeles-clasificados-del-23f-salen-a-la-luz-el-rey-juan-carlos-organizo-el-golpe-de-estado.html',\n",
    "'https://www.mediterraneodigital.com/sociedad-y-tiempo-libre/ultimas-noticias-sociedad-y-tiempo-libre/st1/los-transexuales-podran-viajar-gratis-para-siempre-en-autobus-y-metro-por-la-igualdad.html',\n",
    "'https://www.mediterraneodigital.com/sociedad-y-tiempo-libre/ultimas-noticias-sociedad-y-tiempo-libre/st2/el-gobierno-quita-la-religion-catolica-de-la-educacion-pero-se-podra-elegir-la-islamica.html',\n",
    "'https://www.mediterraneodigital.com/sociedad-y-tiempo-libre/ultimas-noticias-sociedad-y-tiempo-libre/st2/feminazis-guarrindongas-van-a-simular-un-aborto-a-una-iglesia-de-valladolid.html',\n",
    "'https://www.mediterraneodigital.com/sucesos-espana/ultimas-noticias-sucesos-espana/se1/detenidos-6-marroquies-en-cadiz-por-violar-analmente-a-dos-ninas-espanolas-de-12-anos.html',\n",
    "'https://www.mediterraneodigital.com/sucesos-espana/ultimas-noticias-sucesos-espana/se2/pillan-a-un-magrebi-saboteando-las-vias-del-tren-y-dice-que-es-un-conjuro-de-amor.html']\n"
   ]
  },
  {
   "cell_type": "code",
   "execution_count": 61,
   "metadata": {},
   "outputs": [],
   "source": [
    "url1 = 'https://www.periodistadigital.com/periodismo/tv/2018/08/30/sanchez-e-iglesias-lo-han-conseguido-tve-fulmina-la-misa-del-domingo.shtml'"
   ]
  },
  {
   "cell_type": "code",
   "execution_count": 62,
   "metadata": {},
   "outputs": [
    {
     "data": {
      "text/plain": [
       "{'url': 'https://www.periodistadigital.com/periodismo/tv/2018/08/30/sanchez-e-iglesias-lo-han-conseguido-tve-fulmina-la-misa-del-domingo.shtml',\n",
       " 'h1': 'Pedro Sánchez y Pablo Iglesias lo han conseguido: TVE fulmina la Misa del domingo',\n",
       " 'h2': '',\n",
       " 'author': '                        Salomon Lush',\n",
       " 'body': 'Rosa María Mateo se ha convertido en una de las mayores censoras de la historia de las televisiones públicas españolas. Ha ido cancelando programas incómodos (Hora Punta de Javier Cárdenas es un ejemplo) y a diario aumenta la lista de periodistas, directivos y presentadores purgados por la nueva televisión de Pedro Sánchez y Pablo Iglesias (¿Dónde está Ana Pastor clamando a gritos por los purgados de RTVE como lo hacía cuando la purgaron a ella?).Ahora, según ha podido saber Periodista Digital de fuentes internas de TVE, con el apoyo incondicional de consejeros como Cristina Fallarás la dirección del ente RTVE ha decidido terminar con las emisiones de la Eucaristía en La 2 y romper así con una tradición de casi 40 años. Más concretamente, Televisión española lleva emitiendo ininterrumpidamente en directo la Misa desde el año 1982 (El sectario doble rasero de El País con RTVE: cuando gobierna el PP, se llama \\'purga\\' pero si gobierna Sánchez, es \\'relevo\\').Según las fuentes consultadas, la decisión se hará firme durante el mes de septiembre y se justificará en dos patas. La primera atendiendo al carácter político del \"nuevo Gobierno\" de Pedro Sánchez y a la petición de uno de sus principales socios en la moción de censura contra Rajoy, Pablo Iglesias y Podemos y en la propuesta de la formación morada que ya en marzo de 2017 presentaba una proposición no de ley para la eliminación de las misas en RTVE apelando de esta forma a una televisión pública \"neutral\" sin \"favorecer a ninguna creencia o religión\".La otra \"pata\" en la que se apoya la nueva Televisión Española, así lo explicará Rosa María Mateo según las fuentes consultadas, será los criterios económicos dado el \"elevado coste\" que representa la retransmisión en directo de la Eucaristía todos los domingos.Pero la decisión solo atiende a criterios de purga política. A nadie se le escapa que una de las nuevas consejeras del ente, la polémica Cristina Fallarás, ha soltado literalmente peste contra la Iglesia y la religión católica. Fallarás, sin apenas inmutarse, confesaba en una entrevista que siente \"repugnancia hacia las misas en general\". Una plural y excelente carta de presentación para una consejera que debe representar todas las sensibilidades.La supresión de la misa, tal y como indican a PD las fuentes consultadas, es firme pese a que El día del Señor\\xa0es el programa más visto de todo el canal, con una\\xa0audiencia media del 8% y 600.000 espectadores. Paradójicamente tras conocerse, el pasado mes de marzo, la intención de eliminar esta religiosa retransmisión en TVE por parte de Podemos, la Santa Misa triplicaba su audiencia: pasaba de un 7% a un 19,3% de cuota de pantalla y superaba con creces el millón de espectadores, todo un hito para el segundo canal de Televisión Española.',\n",
       " 'label': False}"
      ]
     },
     "execution_count": 62,
     "metadata": {},
     "output_type": "execute_result"
    }
   ],
   "source": [
    "news_scraper(url1)"
   ]
  },
  {
   "cell_type": "markdown",
   "metadata": {},
   "source": [
    "WEB SCFAPER FUNCTION"
   ]
  },
  {
   "cell_type": "code",
   "execution_count": 59,
   "metadata": {},
   "outputs": [],
   "source": [
    "# Building a function for scraping the targeted news.\n",
    "\n",
    "def news_scraper(url):\n",
    "    '''\n",
    "    Input: a string with the URL of the new\n",
    "    Output: a dictionary with thes key-value pairs:\n",
    "        'url': a string with the new's url \n",
    "        'h1': a string with the headline of the new\n",
    "        'h2': a string with the subtitle of the new\n",
    "        'author': a string with the author of the new\n",
    "        'body': a string with the body of the new\n",
    "    '''\n",
    "    \n",
    "    new_scraped = {}\n",
    "    html = requests.get(url).content\n",
    "    soup = BeautifulSoup(html, \"lxml\")\n",
    "    if 'elpais.com' in url:\n",
    "        new_scraped['url'] = url\n",
    "        new_scraped['h1'] = ''.join(element.text for element in soup.find_all('h1',{'itemprop':\"headline\"}))\n",
    "        new_scraped['h2'] = ''.join(element.text for element in soup.find_all('h2',{'itemprop':\"alternativeHeadline\"}))\n",
    "        new_scraped['author'] = ''.join(element.text.replace(\"\\n\",\"\") for element in soup.find_all('span',{'class':\"autor-nombre\"}))\n",
    "        new_scraped['body'] = ''.join(element.text.replace('\\n', '') for element in soup.find_all('p')).split('NEWSLETTER')[0]\n",
    "        new_scraped['label'] = True\n",
    "        \n",
    "    elif 'elmundo.es' in url:\n",
    "        new_scraped['url'] = url\n",
    "        new_scraped['h1'] = ''.join(element.text for element in soup.find_all('h1'))\n",
    "        new_scraped['h2'] = ''.join(element.text for element in soup.find_all('p',{'class':\"ue-c-article__standfirst\"}))\n",
    "        new_scraped['author'] = ''.join(element.text.replace(\"\\n\",\"\") for element in soup.find_all('div',{'class':\"ue-c-article__byline-name\"}))\n",
    "        new_scraped['body'] = ''.join(element.text.replace('\\n', ' ') for element in soup.find_all('div',{'class':\"ue-l-article__body ue-c-article__body\"})).split('Conforme a los criterios deThe Trust Project')[0]\n",
    "        new_scraped['label'] = True\n",
    "    \n",
    "    elif 'abc.es' in url:\n",
    "        new_scraped['url'] = url\n",
    "        new_scraped['h1'] = ''.join(element.text for element in soup.find_all('span',{'class':\"titular\"}))\n",
    "        new_scraped['h2'] = ''.join(element.text for element in soup.find_all('h2',{'class':\"subtitulo\"}))\n",
    "        new_scraped['author'] = ''.join(element.text for element in soup.find_all('a',{'class':\"autor\"}))\n",
    "        new_scraped['body'] = ''.join(element.text.replace(\"''\", '') for element in soup.find_all('p')).split('¡Hola, !')[0]\n",
    "        new_scraped['label'] = True\n",
    "        \n",
    "    elif 'lavozdegalicia.es' in url:\n",
    "        new_scraped['url'] = url\n",
    "        new_scraped['h1'] = ''.join(element.text for element in soup.find_all('h1',{'itemprop':\"headline\"}))\n",
    "        new_scraped['h2'] = ''.join(element.text for element in soup.find_all('h2',{'itemprop':\"alternativeHeadline\"}))\n",
    "        new_scraped['author'] = ''.join([element.text for element in soup.find_all('span',{'itemprop':\"name\"})][8])\n",
    "        new_scraped['body'] = ''.join(element.text for element in soup.find_all('p')).split('Hemos creado para ti una selección de contenidos para que los recibas')[0]\n",
    "        new_scraped['label'] = True\n",
    "    \n",
    "    elif 'lavanguardia.com' in url:\n",
    "        new_scraped['url'] = url\n",
    "        new_scraped['h1'] = ''.join(element.text for element in soup.find_all('h1',{'itemprop':\"headline\"}))\n",
    "        new_scraped['h2'] = ''.join(element.text for element in soup.find_all('h2',{'itemprop':\"alternativeHeadline\"}))\n",
    "        new_scraped['author'] = ''.join(element.text for element in soup.find_all('span',{'itemprop':\"name\"}))\n",
    "        new_scraped['body'] = ''.join(element.text.replace('\\n', '') for element in soup.find_all('div',{'itemprop':\"articleBody\"}))\n",
    "        new_scraped['label'] = True\n",
    "  \n",
    "    elif 'elmundotoday.com' in url:\n",
    "        new_scraped['url'] = url\n",
    "        new_scraped['h1'] = ''.join(element.text for element in soup.find_all('h1',{'class':\"entry-title\"}))\n",
    "        new_scraped['h2'] = ''.join(element.text for element in soup.find_all('p',{'class':\"td-post-sub-title\"}))\n",
    "        new_scraped['author'] = ''.join([element.text for element in soup.find_all('div',{'class':\"td-post-author-name\"})][0][4:])\n",
    "        new_scraped['body'] = ''.join(element.text.replace('\\n', '') for element in soup.find_all('div',{'class':\"td-pb-span10\"}))\n",
    "        new_scraped['label'] = False\n",
    "    \n",
    "    elif 'alertadigital.com' in url:\n",
    "        new_scraped['url'] = url\n",
    "        new_scraped['h1'] = ''.join(element.text for element in soup.find_all('h2'))\n",
    "        new_scraped['h2'] = None\n",
    "        new_scraped['author'] = ''.join(element.text for element in soup.find_all('div',{'id':\"datemeta_r\"})).split('|')[0]\n",
    "        new_scraped['body'] = ''.join(element.text.replace('\\n', '') for element in soup.find_all('div',{'class':\"entry\"})).replace('\\xa0', '')\n",
    "        new_scraped['label'] = False\n",
    "    \n",
    "    elif 'okdiario.com' in url:\n",
    "        new_scraped['url'] = url\n",
    "        new_scraped['h1'] = ''.join(element.text for element in soup.find_all('h1',{'class':\"entry-title\"}))\n",
    "        new_scraped['h2'] = ''.join(element.text for element in soup.find_all('h2',{'itemprop':\"alternativeHeadline\"}))\n",
    "        new_scraped['author'] = ''.join(element.text.replace('\\n', '') for element in soup.find_all('li',{'class':\"author-name\"}))\n",
    "        new_scraped['body'] = ''.join(element.text.replace('\\n', '') for element in soup.find_all('div',{'class':\"entry-content\"}))\n",
    "        new_scraped['label'] = False\n",
    "    \n",
    "    elif 'mediterraneodigital.com' in url:\n",
    "        new_scraped['url'] = url\n",
    "        new_scraped['h1'] = ''.join(element.text.replace('\\t', '') for element in soup.find_all('h2',{'class':\"contentheading\"})).replace('\\n', '')\n",
    "        new_scraped['h2'] = None\n",
    "        new_scraped['author'] = ''.join(element.text.replace('\\t', '') for element in soup.find_all('dd',{'class':\"createdby\"})).replace('Escrito por', '').replace('\\n', '')\n",
    "        new_scraped['body'] = (''.join(element.text for element in soup.find_all('p',{'style':\"text-align: justify;\"}))).split('\\xa0©\\xa0GRUP')[0]\n",
    "        new_scraped['label'] = False\n",
    "    \n",
    "    elif 'periodistadigital.com' in url:\n",
    "        new_scraped['url'] = url\n",
    "        new_scraped['h1'] = ''.join(element.text for element in soup.find_all('h1'))\n",
    "        new_scraped['h2'] = ''.join(element.text for element in soup.find_all('p',{'class':\"subtitle\"}))\n",
    "        new_scraped['author'] = (''.join(element.text for element in soup.find_all('div',{'class':\"page-header-author text-left\"}))).split(',')[0].replace('\\n', '')\n",
    "        new_scraped['body'] = ''.join(element.text for element in soup.find_all('div',{'class':\"text-block\"})).replace('\\n', '')\n",
    "        new_scraped['label'] = False\n",
    "  \n",
    "    elif 'haynoticia.es' in url:\n",
    "        new_scraped['url'] = url\n",
    "        new_scraped['h1'] = ''.join(element.text.replace('\\n', '') for element in soup.find_all('h1',{'class':\"entry-title\"})).replace('\\t', '')\n",
    "        new_scraped['h2'] = None\n",
    "        new_scraped['author'] = ''.join(element.text.replace(\"\\n\",\"\") for element in soup.find_all('span',{'class':\"author vcard\"}))\n",
    "        new_scraped['body'] = ''.join(element.text.replace('\\xa0', ' ') for element in soup.find_all('p')).replace('No creas todo lo que lees por Internet', '')\n",
    "        new_scraped['label']  = False\n",
    "    \n",
    "    elif 'thepatriota.com' in url:\n",
    "        new_scraped['url'] = url\n",
    "        new_scraped['h1'] = ''.join(element.text for element in soup.find_all('h1',{'class':\"entry-title\"}))\n",
    "        new_scraped['h2'] = None\n",
    "        new_scraped['author'] = ''.join(element.text.replace('Por','') for element in soup.find_all('div',{'class':\"td-post-author-name\"})).replace('-', '')\n",
    "        new_scraped['body'] = ''.join(element.text for element in soup.find_all('p')).split('Nuestra web es un sitio de humor')[0]\n",
    "        new_scraped['label'] = False\n",
    "              \n",
    "    \n",
    "    return new_scraped\n",
    "        \n",
    "        "
   ]
  },
  {
   "cell_type": "markdown",
   "metadata": {},
   "source": [
    "www.elpais.com scraper"
   ]
  },
  {
   "cell_type": "code",
   "execution_count": 64,
   "metadata": {},
   "outputs": [],
   "source": [
    "url = 'https://elpais.com/politica/2019/03/16/actualidad/1552754061_452912.html'"
   ]
  },
  {
   "cell_type": "code",
   "execution_count": 65,
   "metadata": {},
   "outputs": [],
   "source": [
    "html = requests.get(url).content\n",
    "soup = BeautifulSoup(html, \"lxml\")\n"
   ]
  },
  {
   "cell_type": "code",
   "execution_count": 73,
   "metadata": {},
   "outputs": [
    {
     "data": {
      "text/plain": [
       "['Pedro Sánchez veta a los afines de Susana Díaz en las listas de las provincias andaluzas donde no hubo acuerdo']"
      ]
     },
     "execution_count": 73,
     "metadata": {},
     "output_type": "execute_result"
    }
   ],
   "source": [
    "h1 = [element.text for element in soup.find_all('h1',{'itemprop':\"headline\"})]\n",
    "h1"
   ]
  },
  {
   "cell_type": "code",
   "execution_count": 74,
   "metadata": {},
   "outputs": [
    {
     "data": {
      "text/plain": [
       "['\"Tomo nota\", dice la expresidenta de la Junta y responsable de la mayor federación del PSOE, que ha emitido un voto particular en la comisión de listas']"
      ]
     },
     "execution_count": 74,
     "metadata": {},
     "output_type": "execute_result"
    }
   ],
   "source": [
    "h2 = [element.text for element in soup.find_all('h2',{'itemprop':\"alternativeHeadline\"})]\n",
    "h2"
   ]
  },
  {
   "cell_type": "code",
   "execution_count": 75,
   "metadata": {},
   "outputs": [
    {
     "data": {
      "text/plain": [
       "['José Marcos']"
      ]
     },
     "execution_count": 75,
     "metadata": {},
     "output_type": "execute_result"
    }
   ],
   "source": [
    "author = [element.text.replace(\"\\n\",\"\") for element in soup.find_all('span',{'class':\"autor-nombre\"})]\n",
    "author"
   ]
  },
  {
   "cell_type": "code",
   "execution_count": 72,
   "metadata": {},
   "outputs": [
    {
     "data": {
      "text/plain": [
       "'Pedro Sánchez ha impuesto su dominio de los órganos del PSOE y ha vetado a los afines de Susana Díaz en las provincias donde la federación andaluza ha mantenido el pulso con la dirección del PSOE hasta el final, aun a sabiendas de que lo perdería. La expresión de esa falta de consenso ha sido la remodelación de los puestos de salida en las cuatro provincias en las que no ha habido pacto. Se trata de Sevilla, Cádiz, Córdoba y Almería, precisamente las circunscripciones andaluzas cuyos cabezas de lista serán ministros. El caso más llamativo es el de Antonio Pradas, diputado que ha sido la mano derecha de la expresidenta de la Junta en el Congreso y que se queda fuera de las Cortes. No ha sido el único en sufrir las consecuencias de la falta de acuerdo, que Ferraz ha entendido como un pulso de Díaz. Javier Lambán, presidente de Aragón, el otro territorio que junto a Andalucía ha puesto objeciones a la elaboración de las listas, no ha acudido a la cita del mayor órgano de decisión del PSOE. Lambán ha justificado su ausencia para ver a su padre \"en la visita matinal de los domingos\". La dirección de Sánchez pone como ejemplo de la voluntad de cerrar acuerdos a Castilla-La Mancha cuyo presidente, Emiliano García-Page, fue de los más críticos con la gestión del Gobierno de la crisis en Cataluña y la necesidad del voto de los independentistas para la aprobación de los Presupuestos.“Nosotros en Andalucía hemos tenido la mano tendida en todo el proceso para hacer compatibles las peticiones de [la dirección] federal con la decisión soberana de los militantes. Eso no ha sido posible. Bueno, tomo nota\", ha dicho Díaz a su llegada al comité federal. Aun así, no ha tenido otra opción que acatar las listas definitivas dado el control de Sánchez de los órganos internos: “A partir de mañana todos a trabajar para que tengamos el mejor resultado posible” en las elecciones generales del 28 de abril. \"Aquí todos tomamos nota. El comité federal ha tomado nota de unas buenas listas. Este era el momento de la dirección federal y tenemos que pensar en los grupos que queremos hacer\", le ha replicado una vez finalizado el cónclave José Luis Ábalos, secretario de Organización y ministro de Fomento. \"No hay heridas\", ha incidido el número tres del PSOE, que ha recalcado que el comité federal es \"un órgano soberano\". De esta manera se ha desligado de las votaciones en las asambleas locales de militantes, en las que los cuatro ministros por Andalucía quedaron en puestos muy retrasados. Estas consultas a las bases son consultivas y, por tanto, no vinculantes. Sánchez ha afirmado que las listas están \"llenas de energía, ilusión y esperanza\".El representante andaluz en la comisión de listas, Juan Cornejo, ha emitido un voto particular en la aprobación de las candidaturas, que posteriormente han sido ratificadas por unanimidad en el comité federal. La delegación andaluza fiel a Díaz no ha votado al completo. Díaz y Cornejo figuran entre quienes no han levantado la mano, según han indicado fuentes presentes en el comité federal, y otros miembros de la principal federación del PSOE han optado por ausentarse de la votación. Tras la intervención de Sánchez nadie ha pedido el turno de palabra, por lo que el comité apenas ha durado una hora. Un periodo de tiempo cortísimo al que en el PSOE no están acostumbrados.Díaz proponía a Pradas como número dos por Sevilla, tras la ministra de Hacienda, María Jesús Montero, y en lugar de Alfonso Rodríguez de Celis, delegado del Gobierno en Andalucía al que la federación andaluza proponía como número cuatro por la única circunscripción en la que un mismo partido, el PSOE, se ha impuesto en todas las elecciones. Ante la falta de acuerdo y lo que en Ferraz han entendido como un desafío, Pradas no irá a ni al Congreso ni al Senado. \"La lista de Sevilla es nuestra\", han resumido fuentes de la dirección socialista. La tercera al Congreso será Beatriz Micaela Carrillo, activista gitana, y el cuarto Paco Salazar, actual director general de análisis y estudios en La Moncloa. El número uno al Senado será Antonio Gutiérrez Limones.Tampoco irán en los puestos que Díaz quería otros de sus incondicionales. Por ejemplo, en Córdoba María Jesús Serrano, que formó parte de la gestora que dirigió el PSOE entre la dimisión de Sánchez en el convulso comité federal del 1 de octubre de 2016 y su reelección como secretario general en las primarias de mayo de 2017. El PSOE andaluz planteó a Serrano como número dos al Congreso -donde ha sido diputada-, se tendrá que conformar con el tercer puesto en las listas al Senado, lo que no garantiza su puesto en la Cámara alta. La lista al Congreso por esta circunscripción la encabeza Luis Planas, ministro de Agricultura. La segunda será Rafaela Crespín -secretaria de organización de la provincia- y el tercero Antonio Hurtado, que ya fue diputado esta legislatura y repite en la misma posición.Los avisos de que Sánchez iría al choque con Díaz y se impondría en las listas no eran una bravata. El presidente del Gobierno y líder del PSOE ha impuesto la potestad que le otorga su control de la comisión federal de listas y del comité federal, los dos órganos que este domingo han aprobado las candidaturas electorales al Congreso, Senado, europeas, parlamentos autonómicos y Ayuntamientos de más de 50.000 habitantes. Otro ejemplo de la respuesta severa de Ferraz a la falta de entendimiento con Andalucía se ha producido en la lista de Cádiz. Tampoco repite como diputada Miriam Arconchel, que aspiraba a repetir como segunda en la candidatura del ministro de Interior, Fernando Grande-Marlaska. Tampoco irá al Senado. En Almería Sonia Ferrer, diputada en la legislatura que finaliza, sí se mantiene detrás de José Guirao, ministro de Cultura y Deportes.\"Se está trabajando. Hay un clima de entendimiento. Desde el jueves se está combinando por un lado la voluntad de los militantes y las necesidades del secretario general en la configuración de su equipo\", había afirmado Díaz la víspera del comité federal. \"La militancia ha dado un proceso que ha sido muy bonito, las direcciones provinciales han salido con más del 90%, es lógico también que el secretario general quiera contar con personas de su equipo. Todo eso al final tendrá un buen resultado para lo que a mí me importa, que el lunes vayan los compañeros que vayan en las listas, yo me doy a dejar el pellejo y batir el cobre\", aseveró.El repaso final de las listas comenzó el sábado en Ferraz pasadas las seis de la tarde. Concluyó pasada la medianoche. Encabezaban el comité encargado de su elaboración la vicesecretaria general, Adriana Lastra, el secretario de Organización y ministro de Fomento, José Luis Ábalos, y Santos Cerdán, su número dos y secretario ejecutivo de Coordinación Territorial. Los dos últimos regresaron a Madrid con antelación para examinar las candidaturas que este domingo se ratificarán en el comité federal del PSOE: Ábalos dio al mediodía un mitin en Albacete mientras Cerdán participó el viernes por la tarde en un acto de partido con Sánchez en Pamplona. También estuvo presente Iratxe García, portavoz en el Parlamento Europeo.Aragón es, después de Andalucía, la otra federación que más resistencia ha presentado a que Sánchez configurase las candidaturas. Miembros destacados de la dirección federal sostienen que había un acuerdo que se incumplió el lunes, en la votación del comité regional. El presidente aragonés, Javier Lambán, acudió el martes a la sede del PSOE pero la falta de entendimiento se ha mantenido desde entonces. Ferraz reemplazará a Óscar Galeano como número dos al Congreso por Zaragoza. Le sustituirá Pau Marí-Klose, alto comisionado del Gobierno para la lucha contra la pobreza infantil. En Teruel tampoco repetirá Ignacio Urquizu, diputado desde 2015. El escogido es Herminio Sancho.La dirección del PSOE celebró este domingo una reunión una hora antes de que comenzara la del máximo órgano de decisión de los socialistas, convocado a las 10.30 y concluido hacia las 12. A las 10.00 la comisión de listas ha aprobado las candidaturas, lo que implica que los críticos no han dispuesto de ningún margen de maniobra y se han encontrado con los cambios definitivos poco antes del comité federal, máximo órgano decisor del PSOE entre congresos.La mayoría de los 21 componentes de la comisión federal de listas (en la que la delegación andaluza ha presentado un voto particular) están alineados con la dirección del PSOE. El secretario de Organización de la federación andaluza, Juan Cornejo, forma parte de este órgano, a diferencia de su homólogo de Aragón, el otro territorio que ha mantenido sus diferencias con Ferraz hasta el final.Tras las reuniones de este domingo, Sánchez se ha garantizado la lealtad del grupo parlamentario socialista en el Congreso y en el Senado con unas listas a su medida. '"
      ]
     },
     "execution_count": 72,
     "metadata": {},
     "output_type": "execute_result"
    }
   ],
   "source": [
    "body = ''.join(element.text.replace('\\n', '') for element in soup.find_all('p')).split('NEWSLETTER')[0]\n",
    "body"
   ]
  },
  {
   "cell_type": "markdown",
   "metadata": {},
   "source": [
    "www.elmundo.es scraper, www.lavozdegalicia.es, www.lavanguardia.com, www.abc.es"
   ]
  },
  {
   "cell_type": "code",
   "execution_count": 53,
   "metadata": {},
   "outputs": [],
   "source": [
    "url = 'https://www.elmundo.es/espana/2019/03/17/5c8e3698fc6c83674b8b46d0.html'"
   ]
  },
  {
   "cell_type": "code",
   "execution_count": 54,
   "metadata": {},
   "outputs": [],
   "source": [
    "html = requests.get(url).content\n",
    "soup = BeautifulSoup(html, \"lxml\")"
   ]
  },
  {
   "cell_type": "code",
   "execution_count": 55,
   "metadata": {},
   "outputs": [
    {
     "data": {
      "text/plain": [
       "['El independentismo vuelve a señalar la casa del juez Llarena con pintadas e insultos']"
      ]
     },
     "execution_count": 55,
     "metadata": {},
     "output_type": "execute_result"
    }
   ],
   "source": [
    "h1 = [element.text for element in soup.find_all('h1')]\n",
    "h1"
   ]
  },
  {
   "cell_type": "code",
   "execution_count": 56,
   "metadata": {},
   "outputs": [
    {
     "data": {
      "text/plain": [
       "['En las paredes de la vivienda del magistrado del Tribunal Supremo han vuelto a aparecer insultos tras la manifestación de este sábado en Madrid']"
      ]
     },
     "execution_count": 56,
     "metadata": {},
     "output_type": "execute_result"
    }
   ],
   "source": [
    "h2 = [element.text for element in soup.find_all('p',{'class':\"ue-c-article__standfirst\"})]\n",
    "h2"
   ]
  },
  {
   "cell_type": "code",
   "execution_count": 57,
   "metadata": {},
   "outputs": [
    {
     "data": {
      "text/plain": [
       "['MANUEL MARRACO']"
      ]
     },
     "execution_count": 57,
     "metadata": {},
     "output_type": "execute_result"
    }
   ],
   "source": [
    "author = [element.text.replace(\"\\n\",\"\") for element in soup.find_all('div',{'class':\"ue-c-article__byline-name\"})]\n",
    "author"
   ]
  },
  {
   "cell_type": "code",
   "execution_count": 58,
   "metadata": {},
   "outputs": [],
   "source": [
    "body = re.split('Conforme a los criterios deThe Trust Project', str([element.text for element in soup.find_all('div',{'class':\"ue-l-article__body ue-c-article__body\"})]))[0]"
   ]
  },
  {
   "cell_type": "markdown",
   "metadata": {},
   "source": [
    " scraper, www.elmundotoday.com"
   ]
  },
  {
   "cell_type": "code",
   "execution_count": null,
   "metadata": {},
   "outputs": [],
   "source": [
    "#url1 = 'https://www.elmundotoday.com/2019/03/miles-de-jovenes-hipocritas-de-todo-el-mundo-salen-a-las-calles-a-protestar-por-el-cambio-climatico-pero-solo-porque-a-ellos-si-que-les-afecta/'\n",
    "html1 = requests.get(url1).content\n",
    "soup1 = BeautifulSoup(html1, \"lxml\")\n"
   ]
  },
  {
   "cell_type": "code",
   "execution_count": 46,
   "metadata": {},
   "outputs": [
    {
     "data": {
      "text/plain": [
       "['Miles de jóvenes hipócritas de todo el mundo salen a las calles a protestar por el cambio climático pero solo porque a ellos sí que les afecta']"
      ]
     },
     "execution_count": 46,
     "metadata": {},
     "output_type": "execute_result"
    }
   ],
   "source": [
    "h1 = [element.text for element in soup1.find_all('h1',{'class':\"entry-title\"})]\n",
    "h1"
   ]
  },
  {
   "cell_type": "code",
   "execution_count": 48,
   "metadata": {},
   "outputs": [
    {
     "data": {
      "text/plain": [
       "['INCLUSO ELLOS SABEN EN EL FONDO QUE, SI TUVIERAN NUESTRA EDAD, LES DARÍA IGUAL EL FUTURO']"
      ]
     },
     "execution_count": 48,
     "metadata": {},
     "output_type": "execute_result"
    }
   ],
   "source": [
    "h2 = [element.text for element in soup1.find_all('p',{'class':\"td-post-sub-title\"})]\n",
    "h2"
   ]
  },
  {
   "cell_type": "code",
   "execution_count": 73,
   "metadata": {},
   "outputs": [
    {
     "data": {
      "text/plain": [
       "'Kike García'"
      ]
     },
     "execution_count": 73,
     "metadata": {},
     "output_type": "execute_result"
    }
   ],
   "source": [
    "author = [element.text for element in soup1.find_all('div',{'class':\"td-post-author-name\"})][0][4:]\n",
    "author"
   ]
  },
  {
   "cell_type": "code",
   "execution_count": null,
   "metadata": {},
   "outputs": [],
   "source": [
    "\n",
    "\n",
    "body = [element.text for element in soup1.find_all('div',{'class':\"td-pb-span10\"})]\n",
    "body"
   ]
  },
  {
   "cell_type": "markdown",
   "metadata": {},
   "source": [
    "www.lavanguardia.com scraper"
   ]
  },
  {
   "cell_type": "code",
   "execution_count": 5,
   "metadata": {},
   "outputs": [],
   "source": [
    "#url2 = 'https://www.lavanguardia.com/local/barcelona/20190318/461083674799/turismo-turistas-barcelona.html'\n",
    "html2 = requests.get(url2).content\n",
    "soup2 = BeautifulSoup(html2, \"lxml\")"
   ]
  },
  {
   "cell_type": "code",
   "execution_count": 17,
   "metadata": {},
   "outputs": [
    {
     "data": {
      "text/plain": [
       "['Barcelona recibe más turistas extranjeros y dejan más dinero']"
      ]
     },
     "execution_count": 17,
     "metadata": {},
     "output_type": "execute_result"
    }
   ],
   "source": [
    "h1 = [element.text for element in soup2.find_all('h1',{'itemprop':\"headline\"})]"
   ]
  },
  {
   "cell_type": "code",
   "execution_count": 18,
   "metadata": {},
   "outputs": [
    {
     "data": {
      "text/plain": [
       "['El número de visitantes internacionales creció un 4,3% en el 2018, y su gasto global, un 6,9%']"
      ]
     },
     "execution_count": 18,
     "metadata": {},
     "output_type": "execute_result"
    }
   ],
   "source": [
    "h2 = [element.text for element in soup2.find_all('h2',{'itemprop':\"alternativeHeadline\"})]\n",
    "h2"
   ]
  },
  {
   "cell_type": "code",
   "execution_count": 29,
   "metadata": {},
   "outputs": [
    {
     "data": {
      "text/plain": [
       "'Óscar Muñoz'"
      ]
     },
     "execution_count": 29,
     "metadata": {},
     "output_type": "execute_result"
    }
   ],
   "source": [
    "author = [element.text for element in soup2.find_all('span',{'itemprop':\"name\"})][1]\n",
    "author"
   ]
  },
  {
   "cell_type": "code",
   "execution_count": null,
   "metadata": {},
   "outputs": [],
   "source": [
    "body = [element.text for element in soup2.find_all('div',{'itemprop':\"articleBody\"})]\n",
    "body"
   ]
  },
  {
   "cell_type": "markdown",
   "metadata": {},
   "source": [
    "www.lavozdegalicia.es/ scraper"
   ]
  },
  {
   "cell_type": "code",
   "execution_count": 6,
   "metadata": {},
   "outputs": [],
   "source": [
    "#url3 = 'https://www.lavozdegalicia.es/noticia/galicia/2019/03/18/presenta-propuesta-ley-impulso-demografico-galicia/0003_201903G18P11991.htm'\n",
    "html3 = requests.get(url3).content\n",
    "soup3 = BeautifulSoup(html3, \"lxml\")"
   ]
  },
  {
   "cell_type": "code",
   "execution_count": 24,
   "metadata": {},
   "outputs": [
    {
     "data": {
      "text/plain": [
       "['Nadie presenta propuesta alguna a la ley de impulso demográfico de Galicia']"
      ]
     },
     "execution_count": 24,
     "metadata": {},
     "output_type": "execute_result"
    }
   ],
   "source": [
    "h1 = [element.text for element in soup3.find_all('h1',{'itemprop':\"headline\"})]\n",
    "h1"
   ]
  },
  {
   "cell_type": "code",
   "execution_count": 25,
   "metadata": {},
   "outputs": [
    {
     "data": {
      "text/plain": [
       "['La Xunta abrió la posibilidad a la sociedad civil de plantear ideas durante 15 días, pero no ha habido sugerencias; queda ahora a expensas de los partidos']"
      ]
     },
     "execution_count": 25,
     "metadata": {},
     "output_type": "execute_result"
    }
   ],
   "source": [
    "h2 = [element.text for element in soup3.find_all('h2',{'itemprop':\"alternativeHeadline\"})]\n",
    "h2"
   ]
  },
  {
   "cell_type": "code",
   "execution_count": 28,
   "metadata": {},
   "outputs": [
    {
     "data": {
      "text/plain": [
       "'carlos punzón'"
      ]
     },
     "execution_count": 28,
     "metadata": {},
     "output_type": "execute_result"
    }
   ],
   "source": [
    "author = [element.text for element in soup3.find_all('span',{'itemprop':\"name\"})][8]\n",
    "author"
   ]
  },
  {
   "cell_type": "code",
   "execution_count": null,
   "metadata": {},
   "outputs": [],
   "source": [
    "body = re.split('Hemos creado para ti una selección de contenidos para que los recibas', str([element.text for element in soup3.find_all('p')]))[0]\n",
    "body"
   ]
  },
  {
   "cell_type": "markdown",
   "metadata": {},
   "source": [
    "www.abc.es scraper"
   ]
  },
  {
   "cell_type": "code",
   "execution_count": 7,
   "metadata": {},
   "outputs": [],
   "source": [
    "#url4 = 'https://www.abc.es/economia/abci-contratos-fijos-hunden-y-empleo-sufre-mas-regiones-peores-sueldos-201903171820_noticia.html'\n",
    "html4 = requests.get(url4).content\n",
    "soup4 = BeautifulSoup(html4, \"lxml\")"
   ]
  },
  {
   "cell_type": "code",
   "execution_count": 36,
   "metadata": {},
   "outputs": [
    {
     "data": {
      "text/plain": [
       "['Los contratos fijos se hunden y el empleo sufre más en regiones con peores sueldos']"
      ]
     },
     "execution_count": 36,
     "metadata": {},
     "output_type": "execute_result"
    }
   ],
   "source": [
    "h1 = [element.text for element in soup4.find_all('span',{'class':\"titular\"})]\n",
    "h1"
   ]
  },
  {
   "cell_type": "code",
   "execution_count": 38,
   "metadata": {},
   "outputs": [
    {
     "data": {
      "text/plain": [
       "['Extremadura, Canarias y Galicia son las comunidades más afectadas por el alza del 22,3% en el SMI; ',\n",
       " 'La contratación estable pasa de crecer más del 18% a caer un 3,21% ']"
      ]
     },
     "execution_count": 38,
     "metadata": {},
     "output_type": "execute_result"
    }
   ],
   "source": [
    "h2 = [element.text for element in soup4.find_all('h2',{'class':\"subtitulo\"})]\n",
    "h2"
   ]
  },
  {
   "cell_type": "code",
   "execution_count": 39,
   "metadata": {},
   "outputs": [
    {
     "data": {
      "text/plain": [
       "['Susana Alcelay']"
      ]
     },
     "execution_count": 39,
     "metadata": {},
     "output_type": "execute_result"
    }
   ],
   "source": [
    "author = [element.text for element in soup4.find_all('a',{'class':\"autor\"})]\n",
    "author"
   ]
  },
  {
   "cell_type": "code",
   "execution_count": null,
   "metadata": {},
   "outputs": [],
   "source": [
    "body = re.split('¡Hola, !', str([element.text for element in soup4.find_all('p')]))[0]\n",
    "body"
   ]
  },
  {
   "cell_type": "code",
   "execution_count": 82,
   "metadata": {},
   "outputs": [],
   "source": []
  },
  {
   "cell_type": "markdown",
   "metadata": {},
   "source": []
  },
  {
   "cell_type": "code",
   "execution_count": 5,
   "metadata": {},
   "outputs": [],
   "source": [
    "urls = ['https://www.elmundo.es/espana/2019/03/17/5c8e3698fc6c83674b8b46d0.html', \n",
    "     'https://elpais.com/politica/2019/03/16/actualidad/1552754061_452912.html',\n",
    "'https://www.elmundotoday.com/2019/03/miles-de-jovenes-hipocritas-de-todo-el-mundo-salen-a-las-calles-a-protestar-por-el-cambio-climatico-pero-solo-porque-a-ellos-si-que-les-afecta/',\n",
    "'https://www.lavanguardia.com/local/barcelona/20190318/461083674799/turismo-turistas-barcelona.html',\n",
    "'https://www.lavozdegalicia.es/noticia/galicia/2019/03/18/presenta-propuesta-ley-impulso-demografico-galicia/0003_201903G18P11991.htm',\n",
    "'https://www.abc.es/economia/abci-contratos-fijos-hunden-y-empleo-sufre-mas-regiones-peores-sueldos-201903171820_noticia.html']"
   ]
  },
  {
   "cell_type": "code",
   "execution_count": 6,
   "metadata": {},
   "outputs": [],
   "source": [
    "news = [news_scraper(url) for url in urls]"
   ]
  },
  {
   "cell_type": "code",
   "execution_count": null,
   "metadata": {},
   "outputs": [],
   "source": [
    "news"
   ]
  },
  {
   "cell_type": "code",
   "execution_count": 7,
   "metadata": {},
   "outputs": [],
   "source": [
    "df = pd.DataFrame(news)"
   ]
  },
  {
   "cell_type": "code",
   "execution_count": 8,
   "metadata": {},
   "outputs": [
    {
     "data": {
      "text/html": [
       "<div>\n",
       "<style scoped>\n",
       "    .dataframe tbody tr th:only-of-type {\n",
       "        vertical-align: middle;\n",
       "    }\n",
       "\n",
       "    .dataframe tbody tr th {\n",
       "        vertical-align: top;\n",
       "    }\n",
       "\n",
       "    .dataframe thead th {\n",
       "        text-align: right;\n",
       "    }\n",
       "</style>\n",
       "<table border=\"1\" class=\"dataframe\">\n",
       "  <thead>\n",
       "    <tr style=\"text-align: right;\">\n",
       "      <th></th>\n",
       "      <th>author</th>\n",
       "      <th>body</th>\n",
       "      <th>h1</th>\n",
       "      <th>h2</th>\n",
       "      <th>label</th>\n",
       "      <th>url</th>\n",
       "    </tr>\n",
       "  </thead>\n",
       "  <tbody>\n",
       "    <tr>\n",
       "      <th>0</th>\n",
       "      <td>MANUEL MARRACO</td>\n",
       "      <td>['\\nIndependentismo.\\n\\nAcoso independentista ...</td>\n",
       "      <td>El independentismo vuelve a señalar la casa de...</td>\n",
       "      <td>En las paredes de la vivienda del magistrado d...</td>\n",
       "      <td>True</td>\n",
       "      <td>https://www.elmundo.es/espana/2019/03/17/5c8e3...</td>\n",
       "    </tr>\n",
       "    <tr>\n",
       "      <th>1</th>\n",
       "      <td>José Marcos</td>\n",
       "      <td>\\n\\n\\n\\nMÁS INFORMACIÓN\\n\\n\\n\\n\\n\\n\\nDíaz y La...</td>\n",
       "      <td>Pedro Sánchez veta a los afines de Susana Díaz...</td>\n",
       "      <td>\"Tomo nota\", dice la expresidenta de la Junta ...</td>\n",
       "      <td>True</td>\n",
       "      <td>https://elpais.com/politica/2019/03/16/actuali...</td>\n",
       "    </tr>\n",
       "    <tr>\n",
       "      <th>2</th>\n",
       "      <td>Kike García</td>\n",
       "      <td>\\nMovidos por el más absoluto egoísmo, miles d...</td>\n",
       "      <td>Miles de jóvenes hipócritas de todo el mundo s...</td>\n",
       "      <td>INCLUSO ELLOS SABEN EN EL FONDO QUE, SI TUVIER...</td>\n",
       "      <td>False</td>\n",
       "      <td>https://www.elmundotoday.com/2019/03/miles-de-...</td>\n",
       "    </tr>\n",
       "    <tr>\n",
       "      <th>3</th>\n",
       "      <td>La VanguardiaÓscar MuñozLocalBarcelona</td>\n",
       "      <td>\\nEn el 2018 no sólo llegaron más turistas ext...</td>\n",
       "      <td>Barcelona recibe más turistas extranjeros y de...</td>\n",
       "      <td>El número de visitantes internacionales creció...</td>\n",
       "      <td>True</td>\n",
       "      <td>https://www.lavanguardia.com/local/barcelona/2...</td>\n",
       "    </tr>\n",
       "    <tr>\n",
       "      <th>4</th>\n",
       "      <td>carlos punzón</td>\n",
       "      <td>['Economistas, médicos, demógrafos, analistas ...</td>\n",
       "      <td>Nadie presenta propuesta alguna a la ley de im...</td>\n",
       "      <td>La Xunta abrió la posibilidad a la sociedad ci...</td>\n",
       "      <td>True</td>\n",
       "      <td>https://www.lavozdegalicia.es/noticia/galicia/...</td>\n",
       "    </tr>\n",
       "  </tbody>\n",
       "</table>\n",
       "</div>"
      ],
      "text/plain": [
       "                                   author  \\\n",
       "0                          MANUEL MARRACO   \n",
       "1                             José Marcos   \n",
       "2                             Kike García   \n",
       "3  La VanguardiaÓscar MuñozLocalBarcelona   \n",
       "4                           carlos punzón   \n",
       "\n",
       "                                                body  \\\n",
       "0  ['\\nIndependentismo.\\n\\nAcoso independentista ...   \n",
       "1  \\n\\n\\n\\nMÁS INFORMACIÓN\\n\\n\\n\\n\\n\\n\\nDíaz y La...   \n",
       "2  \\nMovidos por el más absoluto egoísmo, miles d...   \n",
       "3  \\nEn el 2018 no sólo llegaron más turistas ext...   \n",
       "4  ['Economistas, médicos, demógrafos, analistas ...   \n",
       "\n",
       "                                                  h1  \\\n",
       "0  El independentismo vuelve a señalar la casa de...   \n",
       "1  Pedro Sánchez veta a los afines de Susana Díaz...   \n",
       "2  Miles de jóvenes hipócritas de todo el mundo s...   \n",
       "3  Barcelona recibe más turistas extranjeros y de...   \n",
       "4  Nadie presenta propuesta alguna a la ley de im...   \n",
       "\n",
       "                                                  h2  label  \\\n",
       "0  En las paredes de la vivienda del magistrado d...   True   \n",
       "1  \"Tomo nota\", dice la expresidenta de la Junta ...   True   \n",
       "2  INCLUSO ELLOS SABEN EN EL FONDO QUE, SI TUVIER...  False   \n",
       "3  El número de visitantes internacionales creció...   True   \n",
       "4  La Xunta abrió la posibilidad a la sociedad ci...   True   \n",
       "\n",
       "                                                 url  \n",
       "0  https://www.elmundo.es/espana/2019/03/17/5c8e3...  \n",
       "1  https://elpais.com/politica/2019/03/16/actuali...  \n",
       "2  https://www.elmundotoday.com/2019/03/miles-de-...  \n",
       "3  https://www.lavanguardia.com/local/barcelona/2...  \n",
       "4  https://www.lavozdegalicia.es/noticia/galicia/...  "
      ]
     },
     "execution_count": 8,
     "metadata": {},
     "output_type": "execute_result"
    }
   ],
   "source": [
    "df.head()"
   ]
  },
  {
   "cell_type": "markdown",
   "metadata": {},
   "source": [
    "Scraper for alertadigital.com"
   ]
  },
  {
   "cell_type": "code",
   "execution_count": 71,
   "metadata": {},
   "outputs": [],
   "source": [
    "url = 'http://www.alertadigital.com/2012/06/19/escolares-musulmanes-de-un-colegio-de-tarrasa-impiden-comer-bocadillos-de-jamon-a-los-ninos-autoctonos/'\n",
    "\n",
    "html = requests.get(url).content\n",
    "soup = BeautifulSoup(html, \"lxml\")\n",
    "\n",
    "h1 = ''.join(element.text for element in soup.find_all('h2'))\n",
    "h2 = None\n",
    "author = str([element.text for element in soup.find_all('div',{'id':\"datemeta_r\"})]).split('|')[0]\n",
    "body = ''.join(element.text for element in soup.find_all('div',{'class':\"entry\"}))\n",
    "label = False\n",
    "                  \n"
   ]
  },
  {
   "cell_type": "code",
   "execution_count": null,
   "metadata": {},
   "outputs": [],
   "source": [
    "body"
   ]
  },
  {
   "cell_type": "markdown",
   "metadata": {},
   "source": [
    "Scraper for okdiario"
   ]
  },
  {
   "cell_type": "code",
   "execution_count": 15,
   "metadata": {},
   "outputs": [],
   "source": [
    "url = 'https://okdiario.com/espana/agreden-hombre-almeria-ser-guardia-civil-llevar-polo-bandera-espana-3522323'\n",
    "\n",
    "html = requests.get(url).content\n",
    "soup = BeautifulSoup(html, \"lxml\")\n",
    "\n",
    "h1 = ''.join(element.text for element in soup.find_all('h1',{'class':\"entry-title\"}))\n",
    "h2 = ''.join(element.text for element in soup.find_all('h2',{'itemprop':\"alternativeHeadline\"}))\n",
    "author = ''.join(element.text for element in soup.find_all('li',{'class':\"author-name\"}))\n",
    "body = ''.join(element.text for element in soup.find_all('div',{'class':\"entry-content\"}))\n",
    "label = False"
   ]
  },
  {
   "cell_type": "code",
   "execution_count": 16,
   "metadata": {},
   "outputs": [
    {
     "data": {
      "text/plain": [
       "'Cristina Seguí\\n '"
      ]
     },
     "execution_count": 16,
     "metadata": {},
     "output_type": "execute_result"
    }
   ],
   "source": [
    "author"
   ]
  },
  {
   "cell_type": "markdown",
   "metadata": {},
   "source": [
    "Scraper for mediterraneodigital.com"
   ]
  },
  {
   "cell_type": "code",
   "execution_count": 11,
   "metadata": {},
   "outputs": [],
   "source": [
    "url = 'https://www.mediterraneodigital.com/espana/andalucia/el-gobierno-cambiara-los-cementerios-espanoles-para-adaptarlos-a-los-musulmanes.html'\n",
    "\n",
    "html = requests.get(url).content\n",
    "soup = BeautifulSoup(html, \"lxml\")\n",
    "\n",
    "h1 = ''.join(element.text for element in soup.find_all('h2',{'class':\"contentheading\"}))\n",
    "h2 = None\n",
    "author = ''.join(element.text for element in soup.find_all('dd',{'class':\"createdby\"})).replace('\\n\\t\\t\\t\\tEscrito por ', '')\n",
    "body = (''.join(element.text for element in soup.find_all('p',{'style':\"text-align: justify;\"}))).split('\\xa0©\\xa0GRUP')[0]\n",
    "label = False"
   ]
  },
  {
   "cell_type": "code",
   "execution_count": null,
   "metadata": {},
   "outputs": [],
   "source": [
    "body"
   ]
  },
  {
   "cell_type": "markdown",
   "metadata": {},
   "source": [
    "Scraper for periodistadigital.com"
   ]
  },
  {
   "cell_type": "code",
   "execution_count": 9,
   "metadata": {},
   "outputs": [],
   "source": [
    "url = 'https://www.periodistadigital.com/periodismo/tv/2018/06/05/la-caprichosa-y-millonaria-primera-decision-de-begona-gomez-sobre-la-moncloa.shtml'\n",
    "\n",
    "html = requests.get(url).content\n",
    "soup = BeautifulSoup(html, \"lxml\")\n",
    "\n",
    "h1 = ''.join(element.text for element in soup.find_all('h1'))\n",
    "h2 = ''.join(element.text for element in soup.find_all('p',{'class':\"subtitle\"}))\n",
    "author = (''.join(element.text for element in soup.find_all('div',{'class':\"page-header-author text-left\"}))).split(',')[0].replace('\\n', '')\n",
    "body = ''.join(element.text for element in soup.find_all('div',{'class':\"text-block\"})).replace('\\n', '')\n",
    "label = False"
   ]
  },
  {
   "cell_type": "markdown",
   "metadata": {},
   "source": [
    "Scraper for haynoticia.es"
   ]
  },
  {
   "cell_type": "code",
   "execution_count": 26,
   "metadata": {},
   "outputs": [],
   "source": [
    "url = 'https://haynoticia.es/ingresado-tras-clavarse-en-la-mano-una-banderilla-para-demostrar-que-los-toros-no-sufren5555/'\n",
    "\n",
    "html = requests.get(url).content\n",
    "soup = BeautifulSoup(html, \"lxml\")\n",
    "\n",
    "h1 = ''.join(element.text.replace('\\n', '') for element in soup.find_all('h1',{'class':\"entry-title\"})).replace('\\t', '')\n",
    "h2 = None\n",
    "author = ''.join(element.text.replace(\"\\n\",\"\") for element in soup.find_all('span',{'class':\"author vcard\"}))\n",
    "body = ''.join(element.text.replace('\\xa0', ' ') for element in soup.find_all('p')).replace('No creas todo lo que lees por Internet', '')\n",
    "label = False"
   ]
  },
  {
   "cell_type": "code",
   "execution_count": 27,
   "metadata": {},
   "outputs": [
    {
     "data": {
      "text/plain": [
       "'   Ingresado tras clavarse en el brazo una banderilla para demostrar que los toros no sufren   '"
      ]
     },
     "execution_count": 27,
     "metadata": {},
     "output_type": "execute_result"
    }
   ],
   "source": [
    "h1"
   ]
  },
  {
   "cell_type": "markdown",
   "metadata": {},
   "source": [
    "Scraper for thepatriota.com"
   ]
  },
  {
   "cell_type": "code",
   "execution_count": 42,
   "metadata": {},
   "outputs": [],
   "source": [
    "url = 'https://thepatriota.com/vox-anuncia-que-quiere-cerrar-tv3-tras-no-poder-cerrar-canal-sur/'\n",
    "\n",
    "html = requests.get(url).content\n",
    "soup = BeautifulSoup(html, \"lxml\")\n",
    "\n",
    "h1 = ''.join(element.text for element in soup.find_all('h1',{'class':\"entry-title\"}))\n",
    "h2 = ''.join(element.text for element in soup.find_all('h2',{'itemprop':\"alternativeHeadline\"}))\n",
    "author = ''.join(element.text.replace('Por','') for element in soup.find_all('div',{'class':\"td-post-author-name\"})).replace('-', '')\n",
    "body = ''.join(element.text for element in soup.find_all('p')).split('Nuestra web es un sitio de humor')[0]\n",
    "label = False"
   ]
  },
  {
   "cell_type": "code",
   "execution_count": 43,
   "metadata": {},
   "outputs": [
    {
     "data": {
      "text/plain": [
       "'Una de las primeras medidas que quería tomar Vox en Andalucía era la de cerrar Canal Sur. Ante la imposibilidad de llevar a cabo esto, según parece por el finiquito que había que darle a Juan Y Medio, ahora Vox trata de cerrar TV3.Desde la televisión catalana se afirma que harán todo lo posible porque el partido de Santiago Abascal no consiga su propósito. Por lo que pudiera pasar, hemos podido saber que algunos de los presentadores de la cadena están enviando sus curriculums a otras cadenas.Es posible que TV3 se informe de lo que ha realizado Canal Sur para que no le cierren la cadena y poder ponerlo en práctica.En los próximos días se prevé en Cataluña una serie de manifestación para mostrar el apoyo a TV3 frente a las diversas sedes de Vox en la capital. Y es que, aunque no hay muchas sedes, las que hay se van a enterar de que no lo van a conseguir tan fácilmente.Seguiremos informando sobre esto que pretenden realizar y que puede marcar un antes y un después a las televisiones autonómicas.'"
      ]
     },
     "execution_count": 43,
     "metadata": {},
     "output_type": "execute_result"
    }
   ],
   "source": [
    "body"
   ]
  }
 ],
 "metadata": {
  "kernelspec": {
   "display_name": "Python 3",
   "language": "python",
   "name": "python3"
  },
  "language_info": {
   "codemirror_mode": {
    "name": "ipython",
    "version": 3
   },
   "file_extension": ".py",
   "mimetype": "text/x-python",
   "name": "python",
   "nbconvert_exporter": "python",
   "pygments_lexer": "ipython3",
   "version": "3.6.7"
  }
 },
 "nbformat": 4,
 "nbformat_minor": 2
}
