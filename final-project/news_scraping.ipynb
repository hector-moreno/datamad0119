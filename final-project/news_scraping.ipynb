{
 "cells": [
  {
   "cell_type": "code",
   "execution_count": 1,
   "metadata": {},
   "outputs": [],
   "source": [
    "# libraries importation\n",
    "import requests\n",
    "from bs4 import BeautifulSoup\n",
    "import pandas as pd\n",
    "import urllib.request\n",
    "from urllib.request import urlopen\n",
    "import re\n",
    "import json\n",
    "import numpy as np"
   ]
  },
  {
   "cell_type": "markdown",
   "metadata": {},
   "source": [
    "www.elpais.com scraper"
   ]
  },
  {
   "cell_type": "code",
   "execution_count": null,
   "metadata": {},
   "outputs": [],
   "source": [
    "url = 'https://elpais.com/politica/2019/03/16/actualidad/1552754061_452912.html'"
   ]
  },
  {
   "cell_type": "code",
   "execution_count": 4,
   "metadata": {},
   "outputs": [],
   "source": [
    "html = requests.get(url).content\n",
    "soup = BeautifulSoup(html, \"lxml\")\n"
   ]
  },
  {
   "cell_type": "code",
   "execution_count": 5,
   "metadata": {},
   "outputs": [],
   "source": [
    "h1 = [element.text for element in soup.find_all('h1',{'itemprop':\"headline\"})]"
   ]
  },
  {
   "cell_type": "code",
   "execution_count": 6,
   "metadata": {},
   "outputs": [],
   "source": [
    "h2 = [element.text for element in soup.find_all('h2',{'itemprop':\"alternativeHeadline\"})]"
   ]
  },
  {
   "cell_type": "code",
   "execution_count": 7,
   "metadata": {},
   "outputs": [],
   "source": [
    "author = [element.text.replace(\"\\n\",\"\") for element in soup.find_all('span',{'class':\"autor-nombre\"})]"
   ]
  },
  {
   "cell_type": "code",
   "execution_count": 8,
   "metadata": {},
   "outputs": [],
   "source": [
    "body = [element.text for element in soup.find_all('div',{'class':\"articulo-cuerpo\"})]"
   ]
  },
  {
   "cell_type": "markdown",
   "metadata": {},
   "source": [
    "www.elmundo.es scraper, www.lavozdegalicia.es, www.lavanguardia.com, www.abc.es"
   ]
  },
  {
   "cell_type": "code",
   "execution_count": 53,
   "metadata": {},
   "outputs": [],
   "source": [
    "url = 'https://www.elmundo.es/espana/2019/03/17/5c8e3698fc6c83674b8b46d0.html'"
   ]
  },
  {
   "cell_type": "code",
   "execution_count": 54,
   "metadata": {},
   "outputs": [],
   "source": [
    "html = requests.get(url).content\n",
    "soup = BeautifulSoup(html, \"lxml\")"
   ]
  },
  {
   "cell_type": "code",
   "execution_count": 55,
   "metadata": {},
   "outputs": [
    {
     "data": {
      "text/plain": [
       "['El independentismo vuelve a señalar la casa del juez Llarena con pintadas e insultos']"
      ]
     },
     "execution_count": 55,
     "metadata": {},
     "output_type": "execute_result"
    }
   ],
   "source": [
    "h1 = [element.text for element in soup.find_all('h1')]\n",
    "h1"
   ]
  },
  {
   "cell_type": "code",
   "execution_count": 56,
   "metadata": {},
   "outputs": [
    {
     "data": {
      "text/plain": [
       "['En las paredes de la vivienda del magistrado del Tribunal Supremo han vuelto a aparecer insultos tras la manifestación de este sábado en Madrid']"
      ]
     },
     "execution_count": 56,
     "metadata": {},
     "output_type": "execute_result"
    }
   ],
   "source": [
    "h2 = [element.text for element in soup.find_all('p',{'class':\"ue-c-article__standfirst\"})]\n",
    "h2"
   ]
  },
  {
   "cell_type": "code",
   "execution_count": 57,
   "metadata": {},
   "outputs": [
    {
     "data": {
      "text/plain": [
       "['MANUEL MARRACO']"
      ]
     },
     "execution_count": 57,
     "metadata": {},
     "output_type": "execute_result"
    }
   ],
   "source": [
    "author = [element.text.replace(\"\\n\",\"\") for element in soup.find_all('div',{'class':\"ue-c-article__byline-name\"})]\n",
    "author"
   ]
  },
  {
   "cell_type": "code",
   "execution_count": 58,
   "metadata": {},
   "outputs": [],
   "source": [
    "body = re.split('Conforme a los criterios deThe Trust Project', str([element.text for element in soup.find_all('div',{'class':\"ue-l-article__body ue-c-article__body\"})]))[0]"
   ]
  },
  {
   "cell_type": "markdown",
   "metadata": {},
   "source": [
    " scraper, www.elmundotoday.com"
   ]
  },
  {
   "cell_type": "code",
   "execution_count": null,
   "metadata": {},
   "outputs": [],
   "source": [
    "#url1 = 'https://www.elmundotoday.com/2019/03/miles-de-jovenes-hipocritas-de-todo-el-mundo-salen-a-las-calles-a-protestar-por-el-cambio-climatico-pero-solo-porque-a-ellos-si-que-les-afecta/'\n",
    "html1 = requests.get(url1).content\n",
    "soup1 = BeautifulSoup(html1, \"lxml\")\n"
   ]
  },
  {
   "cell_type": "code",
   "execution_count": 46,
   "metadata": {},
   "outputs": [
    {
     "data": {
      "text/plain": [
       "['Miles de jóvenes hipócritas de todo el mundo salen a las calles a protestar por el cambio climático pero solo porque a ellos sí que les afecta']"
      ]
     },
     "execution_count": 46,
     "metadata": {},
     "output_type": "execute_result"
    }
   ],
   "source": [
    "h1 = [element.text for element in soup1.find_all('h1',{'class':\"entry-title\"})]\n",
    "h1"
   ]
  },
  {
   "cell_type": "code",
   "execution_count": 48,
   "metadata": {},
   "outputs": [
    {
     "data": {
      "text/plain": [
       "['INCLUSO ELLOS SABEN EN EL FONDO QUE, SI TUVIERAN NUESTRA EDAD, LES DARÍA IGUAL EL FUTURO']"
      ]
     },
     "execution_count": 48,
     "metadata": {},
     "output_type": "execute_result"
    }
   ],
   "source": [
    "h2 = [element.text for element in soup1.find_all('p',{'class':\"td-post-sub-title\"})]\n",
    "h2"
   ]
  },
  {
   "cell_type": "code",
   "execution_count": 73,
   "metadata": {},
   "outputs": [
    {
     "data": {
      "text/plain": [
       "'Kike García'"
      ]
     },
     "execution_count": 73,
     "metadata": {},
     "output_type": "execute_result"
    }
   ],
   "source": [
    "author = [element.text for element in soup1.find_all('div',{'class':\"td-post-author-name\"})][0][4:]\n",
    "author"
   ]
  },
  {
   "cell_type": "code",
   "execution_count": null,
   "metadata": {},
   "outputs": [],
   "source": [
    "\n",
    "\n",
    "body = [element.text for element in soup1.find_all('div',{'class':\"td-pb-span10\"})]\n",
    "body"
   ]
  },
  {
   "cell_type": "markdown",
   "metadata": {},
   "source": [
    "www.lavanguardia.com scraper"
   ]
  },
  {
   "cell_type": "code",
   "execution_count": 5,
   "metadata": {},
   "outputs": [],
   "source": [
    "#url2 = 'https://www.lavanguardia.com/local/barcelona/20190318/461083674799/turismo-turistas-barcelona.html'\n",
    "html2 = requests.get(url2).content\n",
    "soup2 = BeautifulSoup(html2, \"lxml\")"
   ]
  },
  {
   "cell_type": "code",
   "execution_count": 17,
   "metadata": {},
   "outputs": [
    {
     "data": {
      "text/plain": [
       "['Barcelona recibe más turistas extranjeros y dejan más dinero']"
      ]
     },
     "execution_count": 17,
     "metadata": {},
     "output_type": "execute_result"
    }
   ],
   "source": [
    "h1 = [element.text for element in soup2.find_all('h1',{'itemprop':\"headline\"})]"
   ]
  },
  {
   "cell_type": "code",
   "execution_count": 18,
   "metadata": {},
   "outputs": [
    {
     "data": {
      "text/plain": [
       "['El número de visitantes internacionales creció un 4,3% en el 2018, y su gasto global, un 6,9%']"
      ]
     },
     "execution_count": 18,
     "metadata": {},
     "output_type": "execute_result"
    }
   ],
   "source": [
    "h2 = [element.text for element in soup2.find_all('h2',{'itemprop':\"alternativeHeadline\"})]\n",
    "h2"
   ]
  },
  {
   "cell_type": "code",
   "execution_count": 29,
   "metadata": {},
   "outputs": [
    {
     "data": {
      "text/plain": [
       "'Óscar Muñoz'"
      ]
     },
     "execution_count": 29,
     "metadata": {},
     "output_type": "execute_result"
    }
   ],
   "source": [
    "author = [element.text for element in soup2.find_all('span',{'itemprop':\"name\"})][1]\n",
    "author"
   ]
  },
  {
   "cell_type": "code",
   "execution_count": null,
   "metadata": {},
   "outputs": [],
   "source": [
    "body = [element.text for element in soup2.find_all('div',{'itemprop':\"articleBody\"})]\n",
    "body"
   ]
  },
  {
   "cell_type": "markdown",
   "metadata": {},
   "source": [
    "www.lavozdegalicia.es/ scraper"
   ]
  },
  {
   "cell_type": "code",
   "execution_count": 6,
   "metadata": {},
   "outputs": [],
   "source": [
    "#url3 = 'https://www.lavozdegalicia.es/noticia/galicia/2019/03/18/presenta-propuesta-ley-impulso-demografico-galicia/0003_201903G18P11991.htm'\n",
    "html3 = requests.get(url3).content\n",
    "soup3 = BeautifulSoup(html3, \"lxml\")"
   ]
  },
  {
   "cell_type": "code",
   "execution_count": 24,
   "metadata": {},
   "outputs": [
    {
     "data": {
      "text/plain": [
       "['Nadie presenta propuesta alguna a la ley de impulso demográfico de Galicia']"
      ]
     },
     "execution_count": 24,
     "metadata": {},
     "output_type": "execute_result"
    }
   ],
   "source": [
    "h1 = [element.text for element in soup3.find_all('h1',{'itemprop':\"headline\"})]\n",
    "h1"
   ]
  },
  {
   "cell_type": "code",
   "execution_count": 25,
   "metadata": {},
   "outputs": [
    {
     "data": {
      "text/plain": [
       "['La Xunta abrió la posibilidad a la sociedad civil de plantear ideas durante 15 días, pero no ha habido sugerencias; queda ahora a expensas de los partidos']"
      ]
     },
     "execution_count": 25,
     "metadata": {},
     "output_type": "execute_result"
    }
   ],
   "source": [
    "h2 = [element.text for element in soup3.find_all('h2',{'itemprop':\"alternativeHeadline\"})]\n",
    "h2"
   ]
  },
  {
   "cell_type": "code",
   "execution_count": 28,
   "metadata": {},
   "outputs": [
    {
     "data": {
      "text/plain": [
       "'carlos punzón'"
      ]
     },
     "execution_count": 28,
     "metadata": {},
     "output_type": "execute_result"
    }
   ],
   "source": [
    "author = [element.text for element in soup3.find_all('span',{'itemprop':\"name\"})][8]\n",
    "author"
   ]
  },
  {
   "cell_type": "code",
   "execution_count": null,
   "metadata": {},
   "outputs": [],
   "source": [
    "body = re.split('Hemos creado para ti una selección de contenidos para que los recibas', str([element.text for element in soup3.find_all('p')]))[0]\n",
    "body"
   ]
  },
  {
   "cell_type": "markdown",
   "metadata": {},
   "source": [
    "www.abc.es scraper"
   ]
  },
  {
   "cell_type": "code",
   "execution_count": 7,
   "metadata": {},
   "outputs": [],
   "source": [
    "#url4 = 'https://www.abc.es/economia/abci-contratos-fijos-hunden-y-empleo-sufre-mas-regiones-peores-sueldos-201903171820_noticia.html'\n",
    "html4 = requests.get(url4).content\n",
    "soup4 = BeautifulSoup(html4, \"lxml\")"
   ]
  },
  {
   "cell_type": "code",
   "execution_count": 36,
   "metadata": {},
   "outputs": [
    {
     "data": {
      "text/plain": [
       "['Los contratos fijos se hunden y el empleo sufre más en regiones con peores sueldos']"
      ]
     },
     "execution_count": 36,
     "metadata": {},
     "output_type": "execute_result"
    }
   ],
   "source": [
    "h1 = [element.text for element in soup4.find_all('span',{'class':\"titular\"})]\n",
    "h1"
   ]
  },
  {
   "cell_type": "code",
   "execution_count": 38,
   "metadata": {},
   "outputs": [
    {
     "data": {
      "text/plain": [
       "['Extremadura, Canarias y Galicia son las comunidades más afectadas por el alza del 22,3% en el SMI; ',\n",
       " 'La contratación estable pasa de crecer más del 18% a caer un 3,21% ']"
      ]
     },
     "execution_count": 38,
     "metadata": {},
     "output_type": "execute_result"
    }
   ],
   "source": [
    "h2 = [element.text for element in soup4.find_all('h2',{'class':\"subtitulo\"})]\n",
    "h2"
   ]
  },
  {
   "cell_type": "code",
   "execution_count": 39,
   "metadata": {},
   "outputs": [
    {
     "data": {
      "text/plain": [
       "['Susana Alcelay']"
      ]
     },
     "execution_count": 39,
     "metadata": {},
     "output_type": "execute_result"
    }
   ],
   "source": [
    "author = [element.text for element in soup4.find_all('a',{'class':\"autor\"})]\n",
    "author"
   ]
  },
  {
   "cell_type": "code",
   "execution_count": null,
   "metadata": {},
   "outputs": [],
   "source": [
    "body = re.split('¡Hola, !', str([element.text for element in soup4.find_all('p')]))[0]\n",
    "body"
   ]
  },
  {
   "cell_type": "code",
   "execution_count": 82,
   "metadata": {},
   "outputs": [],
   "source": []
  },
  {
   "cell_type": "markdown",
   "metadata": {},
   "source": [
    "WEB SCFAPER FUNCTION"
   ]
  },
  {
   "cell_type": "code",
   "execution_count": 11,
   "metadata": {},
   "outputs": [],
   "source": [
    "# Building a function for scraping the targeted news.\n",
    "\n",
    "def news_scraper(url):\n",
    "    '''\n",
    "    Input: a string with the URL of the new\n",
    "    Output: a dictionary with thes key-value pairs:\n",
    "        'url': a string with the new's url \n",
    "        'h1': a string with the headline of the new\n",
    "        'h2': a string with the subtitle of the new\n",
    "        'author': a string with the author of the new\n",
    "        'body': a string with the body of the new\n",
    "    '''\n",
    "    new_scraped = {}\n",
    "    html = requests.get(url).content\n",
    "    soup = BeautifulSoup(html, \"lxml\")\n",
    "    if 'elpais.com' in url:\n",
    "        new_scraped['url'] = url\n",
    "        new_scraped['h1'] = ''.join(element.text for element in soup.find_all('h1',{'itemprop':\"headline\"}))\n",
    "        new_scraped['h2'] = ''.join(element.text for element in soup.find_all('h2',{'itemprop':\"alternativeHeadline\"}))\n",
    "        new_scraped['author'] = ''.join(element.text.replace(\"\\n\",\"\") for element in soup.find_all('span',{'class':\"autor-nombre\"}))\n",
    "        new_scraped['body'] = ''.join(element.text for element in soup.find_all('div',{'class':\"articulo-cuerpo\"}))\n",
    "      \n",
    "    elif 'elmundo.es' in url:\n",
    "        new_scraped['url'] = url\n",
    "        new_scraped['h1'] = ''.join(element.text for element in soup.find_all('h1'))\n",
    "        new_scraped['h2'] = ''.join(element.text for element in soup.find_all('p',{'class':\"ue-c-article__standfirst\"}))\n",
    "        new_scraped['author'] = ''.join(element.text.replace(\"\\n\",\"\") for element in soup.find_all('div',{'class':\"ue-c-article__byline-name\"}))\n",
    "        new_scraped['body'] = ''.join(re.split('Conforme a los criterios deThe Trust Project', str([element.text for element in soup.find_all('div',{'class':\"ue-l-article__body ue-c-article__body\"})]))[0])\n",
    "\n",
    "    \n",
    "    elif 'abc.es' in url:\n",
    "        new_scraped['url'] = url\n",
    "        new_scraped['h1'] = ''.join(element.text for element in soup4.find_all('span',{'class':\"titular\"}))\n",
    "        new_scraped['h2'] = ''.join(element.text for element in soup4.find_all('h2',{'class':\"subtitulo\"}))\n",
    "        new_scraped['author'] = ''.join(element.text for element in soup4.find_all('a',{'class':\"autor\"}))\n",
    "        new_scraped['body'] = ''.join(re.split('¡Hola, !', str([element.text for element in soup4.find_all('p')]))[0])\n",
    "\n",
    "    elif 'lavozdegalicia.es' in url:\n",
    "        new_scraped['url'] = url\n",
    "        new_scraped['h1'] = ''.join(element.text for element in soup3.find_all('h1',{'itemprop':\"headline\"}))\n",
    "        new_scraped['h2'] = ''.join(element.text for element in soup3.find_all('h2',{'itemprop':\"alternativeHeadline\"}))\n",
    "        new_scraped['author'] = ''.join(element.text for element in soup3.find_all('span',{'itemprop':\"name\"})][8])\n",
    "        new_scraped['body'] = ''.join(re.split('Hemos creado para ti una selección de contenidos para que los recibas', str([element.text for element in soup3.find_all('p')]))[0])\n",
    "    \n",
    "    elif 'lavanguardia.com' in url:\n",
    "        new_scraped['url'] = url\n",
    "        new_scraped['h1'] = ''.join(element.text for element in soup2.find_all('h1',{'itemprop':\"headline\"})])\n",
    "        new_scraped['h2'] = ''.join(element.text for element in soup2.find_all('h2',{'itemprop':\"alternativeHeadline\"}))\n",
    "        new_scraped['author'] = ''.join(element.text for element in soup2.find_all('span',{'itemprop':\"name\"}))\n",
    "        new_scraped['body'] = ''.join(element.text for element in soup2.find_all('div',{'itemprop':\"articleBody\"}))\n",
    "        \n",
    "  \n",
    "    elif 'elmundotoday.com' in url:\n",
    "        new_scraped['url'] = url\n",
    "        new_scraped['h1'] = ''.join(element.text for element in soup1.find_all('h1',{'class':\"entry-title\"}))\n",
    "        new_scraped['h2'] = ''.join(element.text for element in soup1.find_all('p',{'class':\"td-post-sub-title\"}))\n",
    "        new_scraped['author'] = ''.join([element.text for element in soup1.find_all('div',{'class':\"td-post-author-name\"})][0][4:])\n",
    "        new_scraped['body'] = ''.join(element.text for element in soup1.find_all('div',{'class':\"td-pb-span10\"}))\n",
    "\n",
    "    \n",
    "    return new_scraped\n",
    "        \n",
    "        "
   ]
  },
  {
   "cell_type": "code",
   "execution_count": 13,
   "metadata": {},
   "outputs": [],
   "source": [
    "urls = ['https://www.elmundo.es/espana/2019/03/17/5c8e3698fc6c83674b8b46d0.html', \n",
    "     'https://elpais.com/politica/2019/03/16/actualidad/1552754061_452912.html',\n",
    "'https://www.elmundotoday.com/2019/03/miles-de-jovenes-hipocritas-de-todo-el-mundo-salen-a-las-calles-a-protestar-por-el-cambio-climatico-pero-solo-porque-a-ellos-si-que-les-afecta/',\n",
    "'https://www.lavanguardia.com/local/barcelona/20190318/461083674799/turismo-turistas-barcelona.html',\n",
    "'https://www.lavozdegalicia.es/noticia/galicia/2019/03/18/presenta-propuesta-ley-impulso-demografico-galicia/0003_201903G18P11991.htm',\n",
    "'https://www.abc.es/economia/abci-contratos-fijos-hunden-y-empleo-sufre-mas-regiones-peores-sueldos-201903171820_noticia.html']"
   ]
  }
 ],
 "metadata": {
  "kernelspec": {
   "display_name": "Python 3",
   "language": "python",
   "name": "python3"
  },
  "language_info": {
   "codemirror_mode": {
    "name": "ipython",
    "version": 3
   },
   "file_extension": ".py",
   "mimetype": "text/x-python",
   "name": "python",
   "nbconvert_exporter": "python",
   "pygments_lexer": "ipython3",
   "version": "3.6.7"
  }
 },
 "nbformat": 4,
 "nbformat_minor": 2
}
