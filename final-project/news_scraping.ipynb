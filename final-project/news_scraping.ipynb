{
 "cells": [
  {
   "cell_type": "code",
   "execution_count": 1,
   "metadata": {},
   "outputs": [],
   "source": [
    "# libraries importation\n",
    "import requests\n",
    "from bs4 import BeautifulSoup\n",
    "import pandas as pd\n",
    "import urllib.request\n",
    "from urllib.request import urlopen\n",
    "import re\n",
    "import json\n",
    "import numpy as np"
   ]
  },
  {
   "cell_type": "markdown",
   "metadata": {},
   "source": [
    "www.elpais.com scraper"
   ]
  },
  {
   "cell_type": "code",
   "execution_count": 2,
   "metadata": {},
   "outputs": [],
   "source": [
    "url = 'https://elpais.com/politica/2019/03/16/actualidad/1552754061_452912.html'"
   ]
  },
  {
   "cell_type": "code",
   "execution_count": 4,
   "metadata": {},
   "outputs": [],
   "source": [
    "html = requests.get(url).content\n",
    "soup = BeautifulSoup(html, \"lxml\")\n"
   ]
  },
  {
   "cell_type": "code",
   "execution_count": 5,
   "metadata": {},
   "outputs": [],
   "source": [
    "h1 = [element.text for element in soup.find_all('h1',{'itemprop':\"headline\"})]"
   ]
  },
  {
   "cell_type": "code",
   "execution_count": 6,
   "metadata": {},
   "outputs": [],
   "source": [
    "h2 = [element.text for element in soup.find_all('h2',{'itemprop':\"alternativeHeadline\"})]"
   ]
  },
  {
   "cell_type": "code",
   "execution_count": 7,
   "metadata": {},
   "outputs": [],
   "source": [
    "author = [element.text.replace(\"\\n\",\"\") for element in soup.find_all('span',{'class':\"autor-nombre\"})]"
   ]
  },
  {
   "cell_type": "code",
   "execution_count": 8,
   "metadata": {},
   "outputs": [],
   "source": [
    "body = [element.text for element in soup.find_all('div',{'class':\"articulo-cuerpo\"})]"
   ]
  },
  {
   "cell_type": "markdown",
   "metadata": {},
   "source": [
    "www.elmundo.es scraper, www.lavozdegalicia.es, www.lavanguardia.com, www.abc.es"
   ]
  },
  {
   "cell_type": "code",
   "execution_count": 53,
   "metadata": {},
   "outputs": [],
   "source": [
    "url = 'https://www.elmundo.es/espana/2019/03/17/5c8e3698fc6c83674b8b46d0.html'"
   ]
  },
  {
   "cell_type": "code",
   "execution_count": 54,
   "metadata": {},
   "outputs": [],
   "source": [
    "html = requests.get(url).content\n",
    "soup = BeautifulSoup(html, \"lxml\")"
   ]
  },
  {
   "cell_type": "code",
   "execution_count": 55,
   "metadata": {},
   "outputs": [
    {
     "data": {
      "text/plain": [
       "['El independentismo vuelve a señalar la casa del juez Llarena con pintadas e insultos']"
      ]
     },
     "execution_count": 55,
     "metadata": {},
     "output_type": "execute_result"
    }
   ],
   "source": [
    "h1 = [element.text for element in soup.find_all('h1')]\n",
    "h1"
   ]
  },
  {
   "cell_type": "code",
   "execution_count": 56,
   "metadata": {},
   "outputs": [
    {
     "data": {
      "text/plain": [
       "['En las paredes de la vivienda del magistrado del Tribunal Supremo han vuelto a aparecer insultos tras la manifestación de este sábado en Madrid']"
      ]
     },
     "execution_count": 56,
     "metadata": {},
     "output_type": "execute_result"
    }
   ],
   "source": [
    "h2 = [element.text for element in soup.find_all('p',{'class':\"ue-c-article__standfirst\"})]\n",
    "h2"
   ]
  },
  {
   "cell_type": "code",
   "execution_count": 57,
   "metadata": {},
   "outputs": [
    {
     "data": {
      "text/plain": [
       "['MANUEL MARRACO']"
      ]
     },
     "execution_count": 57,
     "metadata": {},
     "output_type": "execute_result"
    }
   ],
   "source": [
    "author = [element.text.replace(\"\\n\",\"\") for element in soup.find_all('div',{'class':\"ue-c-article__byline-name\"})]\n",
    "author"
   ]
  },
  {
   "cell_type": "code",
   "execution_count": 58,
   "metadata": {},
   "outputs": [],
   "source": [
    "body = re.split('Conforme a los criterios deThe Trust Project', str([element.text for element in soup.find_all('div',{'class':\"ue-l-article__body ue-c-article__body\"})]))[0]"
   ]
  },
  {
   "cell_type": "code",
   "execution_count": 59,
   "metadata": {},
   "outputs": [
    {
     "data": {
      "text/plain": [
       "'[\\'\\\\nIndependentismo.\\\\n\\\\nAcoso independentista al juez Llarena en Cataluña\\\\n\\\\nCrónica.\\\\n\\\\nEl juez Llarena en las fauces del \\\\\\'procés\\\\\\'; por Emilia Landaluce\\\\nLa casa del magistrado del Tribunal SupremoPablo Llarena en Barcelona ha vuelto a ser asaltada esta noche. En las paredes del edificio de San Cugat del Vallès han aparecido este domingo dos pintadas. En una de ellas se lee su apellido junto a las siglas FDP, que significan fill de puta (hijo de puta). Para resaltar aún más que ese es el domicilio del juez que instruyó la causa del 1-O, aparecen pintadas de amarillo las cuatro primeras letras del apellido (Llar, que significa casa). La segunda pintada es un lazo como los que habitualmente se emplean para reclamar la liberación de los encarcelados por el 1-O. No está pintado del habitual amarillo, sino de rojo. Dado que la primera pintada sí empelaba el amarillo, no parece que la elección del rojo fuera porque se les hubiera acabado ese color.La pintadas se hicieron pocas horas después de la multitudinaria manifestación independentista en el centro de Madrid para reclamar la liberación de los encarcelados. No son las primeras que sufre el magistrado del Supremo en su domicilio, ni las más aparatosas. El pasado noviembre, la organización juvenil independentista de la CUP cubrió de pintura amarilla el portal del edificio, en el que reside habitualmente un familiar del magistrado. En las redes sociales, Arran dejó entonces este mensaje: \"El pueblo manda, Arran obedece. Ocho meses después, por petición popular y con una resolución de la instrucción judicial que prevé sentencias desmesuradas, lo hemos vuelto a hacer: señalamos al juez Llarena como símbolo del régimen del 78\". El asalto provocó que el CGPJ reclamara una mayor seguridad para el magistrado y su entorno. Interior dijo que revisaría las medidas entonces vigentes, si bien el ministro Fernando Grande-Marlaskarestó importancia a lo sucedido. En marzo del año pasado Arran ya había llevado a cabo una acción similar frente a la casa del magistrado en Das (Girona), con pintadas en el asfalto acusándole de \"fascista\".'"
      ]
     },
     "execution_count": 59,
     "metadata": {},
     "output_type": "execute_result"
    }
   ],
   "source": [
    "body"
   ]
  }
 ],
 "metadata": {
  "kernelspec": {
   "display_name": "Python 3",
   "language": "python",
   "name": "python3"
  },
  "language_info": {
   "codemirror_mode": {
    "name": "ipython",
    "version": 3
   },
   "file_extension": ".py",
   "mimetype": "text/x-python",
   "name": "python",
   "nbconvert_exporter": "python",
   "pygments_lexer": "ipython3",
   "version": "3.6.7"
  }
 },
 "nbformat": 4,
 "nbformat_minor": 2
}
