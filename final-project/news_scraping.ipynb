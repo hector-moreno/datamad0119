{
 "cells": [
  {
   "cell_type": "code",
   "execution_count": 2,
   "metadata": {},
   "outputs": [],
   "source": [
    "# libraries importation\n",
    "import requests\n",
    "from bs4 import BeautifulSoup\n",
    "import pandas as pd\n",
    "import urllib.request\n",
    "from urllib.request import urlopen\n",
    "import re\n",
    "import json\n",
    "import numpy as np"
   ]
  },
  {
   "cell_type": "markdown",
   "metadata": {},
   "source": [
    "www.elpais.com scraper"
   ]
  },
  {
   "cell_type": "code",
   "execution_count": 2,
   "metadata": {},
   "outputs": [],
   "source": [
    "url = 'https://elpais.com/politica/2019/03/16/actualidad/1552754061_452912.html'"
   ]
  },
  {
   "cell_type": "code",
   "execution_count": 4,
   "metadata": {},
   "outputs": [],
   "source": [
    "html = requests.get(url).content\n",
    "soup = BeautifulSoup(html, \"lxml\")\n"
   ]
  },
  {
   "cell_type": "code",
   "execution_count": 5,
   "metadata": {},
   "outputs": [],
   "source": [
    "h1 = [element.text for element in soup.find_all('h1',{'itemprop':\"headline\"})]"
   ]
  },
  {
   "cell_type": "code",
   "execution_count": 6,
   "metadata": {},
   "outputs": [],
   "source": [
    "h2 = [element.text for element in soup.find_all('h2',{'itemprop':\"alternativeHeadline\"})]"
   ]
  },
  {
   "cell_type": "code",
   "execution_count": 7,
   "metadata": {},
   "outputs": [],
   "source": [
    "author = [element.text.replace(\"\\n\",\"\") for element in soup.find_all('span',{'class':\"autor-nombre\"})]"
   ]
  },
  {
   "cell_type": "code",
   "execution_count": 8,
   "metadata": {},
   "outputs": [],
   "source": [
    "body = [element.text for element in soup.find_all('div',{'class':\"articulo-cuerpo\"})]"
   ]
  },
  {
   "cell_type": "markdown",
   "metadata": {},
   "source": [
    "www.elmundo.es scraper, www.lavozdegalicia.es, www.lavanguardia.com, www.abc.es"
   ]
  },
  {
   "cell_type": "code",
   "execution_count": 53,
   "metadata": {},
   "outputs": [],
   "source": [
    "url = 'https://www.elmundo.es/espana/2019/03/17/5c8e3698fc6c83674b8b46d0.html'"
   ]
  },
  {
   "cell_type": "code",
   "execution_count": 54,
   "metadata": {},
   "outputs": [],
   "source": [
    "html = requests.get(url).content\n",
    "soup = BeautifulSoup(html, \"lxml\")"
   ]
  },
  {
   "cell_type": "code",
   "execution_count": 55,
   "metadata": {},
   "outputs": [
    {
     "data": {
      "text/plain": [
       "['El independentismo vuelve a señalar la casa del juez Llarena con pintadas e insultos']"
      ]
     },
     "execution_count": 55,
     "metadata": {},
     "output_type": "execute_result"
    }
   ],
   "source": [
    "h1 = [element.text for element in soup.find_all('h1')]\n",
    "h1"
   ]
  },
  {
   "cell_type": "code",
   "execution_count": 56,
   "metadata": {},
   "outputs": [
    {
     "data": {
      "text/plain": [
       "['En las paredes de la vivienda del magistrado del Tribunal Supremo han vuelto a aparecer insultos tras la manifestación de este sábado en Madrid']"
      ]
     },
     "execution_count": 56,
     "metadata": {},
     "output_type": "execute_result"
    }
   ],
   "source": [
    "h2 = [element.text for element in soup.find_all('p',{'class':\"ue-c-article__standfirst\"})]\n",
    "h2"
   ]
  },
  {
   "cell_type": "code",
   "execution_count": 57,
   "metadata": {},
   "outputs": [
    {
     "data": {
      "text/plain": [
       "['MANUEL MARRACO']"
      ]
     },
     "execution_count": 57,
     "metadata": {},
     "output_type": "execute_result"
    }
   ],
   "source": [
    "author = [element.text.replace(\"\\n\",\"\") for element in soup.find_all('div',{'class':\"ue-c-article__byline-name\"})]\n",
    "author"
   ]
  },
  {
   "cell_type": "code",
   "execution_count": 58,
   "metadata": {},
   "outputs": [],
   "source": [
    "body = re.split('Conforme a los criterios deThe Trust Project', str([element.text for element in soup.find_all('div',{'class':\"ue-l-article__body ue-c-article__body\"})]))[0]"
   ]
  },
  {
   "cell_type": "code",
   "execution_count": 59,
   "metadata": {},
   "outputs": [
    {
     "data": {
      "text/plain": [
       "'[\\'\\\\nIndependentismo.\\\\n\\\\nAcoso independentista al juez Llarena en Cataluña\\\\n\\\\nCrónica.\\\\n\\\\nEl juez Llarena en las fauces del \\\\\\'procés\\\\\\'; por Emilia Landaluce\\\\nLa casa del magistrado del Tribunal SupremoPablo Llarena en Barcelona ha vuelto a ser asaltada esta noche. En las paredes del edificio de San Cugat del Vallès han aparecido este domingo dos pintadas. En una de ellas se lee su apellido junto a las siglas FDP, que significan fill de puta (hijo de puta). Para resaltar aún más que ese es el domicilio del juez que instruyó la causa del 1-O, aparecen pintadas de amarillo las cuatro primeras letras del apellido (Llar, que significa casa). La segunda pintada es un lazo como los que habitualmente se emplean para reclamar la liberación de los encarcelados por el 1-O. No está pintado del habitual amarillo, sino de rojo. Dado que la primera pintada sí empelaba el amarillo, no parece que la elección del rojo fuera porque se les hubiera acabado ese color.La pintadas se hicieron pocas horas después de la multitudinaria manifestación independentista en el centro de Madrid para reclamar la liberación de los encarcelados. No son las primeras que sufre el magistrado del Supremo en su domicilio, ni las más aparatosas. El pasado noviembre, la organización juvenil independentista de la CUP cubrió de pintura amarilla el portal del edificio, en el que reside habitualmente un familiar del magistrado. En las redes sociales, Arran dejó entonces este mensaje: \"El pueblo manda, Arran obedece. Ocho meses después, por petición popular y con una resolución de la instrucción judicial que prevé sentencias desmesuradas, lo hemos vuelto a hacer: señalamos al juez Llarena como símbolo del régimen del 78\". El asalto provocó que el CGPJ reclamara una mayor seguridad para el magistrado y su entorno. Interior dijo que revisaría las medidas entonces vigentes, si bien el ministro Fernando Grande-Marlaskarestó importancia a lo sucedido. En marzo del año pasado Arran ya había llevado a cabo una acción similar frente a la casa del magistrado en Das (Girona), con pintadas en el asfalto acusándole de \"fascista\".'"
      ]
     },
     "execution_count": 59,
     "metadata": {},
     "output_type": "execute_result"
    }
   ],
   "source": [
    "body"
   ]
  },
  {
   "cell_type": "code",
   "execution_count": null,
   "metadata": {},
   "outputs": [],
   "source": [
    "#url1 = 'https://www.elmundotoday.com/2019/03/miles-de-jovenes-hipocritas-de-todo-el-mundo-salen-a-las-calles-a-protestar-por-el-cambio-climatico-pero-solo-porque-a-ellos-si-que-les-afecta/'\n",
    "html1 = requests.get(url1).content\n",
    "soup1 = BeautifulSoup(html1, \"lxml\")"
   ]
  },
  {
   "cell_type": "code",
   "execution_count": 46,
   "metadata": {},
   "outputs": [
    {
     "data": {
      "text/plain": [
       "['Miles de jóvenes hipócritas de todo el mundo salen a las calles a protestar por el cambio climático pero solo porque a ellos sí que les afecta']"
      ]
     },
     "execution_count": 46,
     "metadata": {},
     "output_type": "execute_result"
    }
   ],
   "source": [
    "h1 = [element.text for element in soup1.find_all('h1',{'class':\"entry-title\"})]\n",
    "h1"
   ]
  },
  {
   "cell_type": "code",
   "execution_count": 48,
   "metadata": {},
   "outputs": [
    {
     "data": {
      "text/plain": [
       "['INCLUSO ELLOS SABEN EN EL FONDO QUE, SI TUVIERAN NUESTRA EDAD, LES DARÍA IGUAL EL FUTURO']"
      ]
     },
     "execution_count": 48,
     "metadata": {},
     "output_type": "execute_result"
    }
   ],
   "source": [
    "h2 = [element.text for element in soup1.find_all('p',{'class':\"td-post-sub-title\"})]\n",
    "h2"
   ]
  },
  {
   "cell_type": "code",
   "execution_count": 73,
   "metadata": {},
   "outputs": [
    {
     "data": {
      "text/plain": [
       "'Kike García'"
      ]
     },
     "execution_count": 73,
     "metadata": {},
     "output_type": "execute_result"
    }
   ],
   "source": [
    "author = [element.text for element in soup1.find_all('div',{'class':\"td-post-author-name\"})][0][4:]\n",
    "author"
   ]
  },
  {
   "cell_type": "code",
   "execution_count": 81,
   "metadata": {},
   "outputs": [
    {
     "data": {
      "text/plain": [
       "['\\nMovidos por el más absoluto egoísmo, miles de jóvenes de cientos de ciudades han salido hoy a las calles a decir “basta” a un problema que sí que les afecta, pero creyendo que lo hacen por convicciones morales, según han informado medios de todo el mundo. “Los políticos no están haciendo lo suficiente”, se lamenta desde Adelaida (Australia) Tomás Webster Arbizu, un adolescente de 13 años que, si fuera un anciano a punto de morirse, no se preocuparía nada por el calentamiento global y le daría igual lo que pueda ocurrir en el futuro.\\nEstos jóvenes, a los que solo les preocupa que la Tierra vaya a ser un páramo inhabitable porque les va a tocar vivir ahí y no porque les interesen realmente el planeta o los osos polares, exigen a los gobiernos que actúen ya ante una amenaza que, dicen, “nos afecta a todos”, aunque saben que en realidad solo les afecta a ellos.\\nEn algunos países, las protestas han sido ya masivas y se han llenado de estudiantes hipócritas que, si tuvieran 50 años y les quedaran 20 años para morirse, no moverían un dedo por esta causa.\\n“Necesitamos que los adultos se impliquen”, han dicho creyéndose mejores que los adultos y sin ser conscientes, probablemente debido a su inexperiencia e ignorancia, de que si ellos también estuvieran al borde de la muerte no se implicarían por nada y se centrarían en estar en casa con el aire acondicionado a tope.\\nAl cierre de la edición, y mientras contemplan las fotografías de las movilizaciones con ilusión y condescendencia, millones de adultos de todo el mundo confían en que, cuando en un futuro estos adolescentes crezcan y sean personas maduras, podrán comprender por qué a ciertas edades ya da igual todo.\\n']"
      ]
     },
     "execution_count": 81,
     "metadata": {},
     "output_type": "execute_result"
    }
   ],
   "source": [
    "\n",
    "\n",
    "body = [element.text for element in soup1.find_all('div',{'class':\"td-pb-span10\"})]\n",
    "body"
   ]
  },
  {
   "cell_type": "code",
   "execution_count": null,
   "metadata": {},
   "outputs": [],
   "source": []
  },
  {
   "cell_type": "code",
   "execution_count": 5,
   "metadata": {},
   "outputs": [],
   "source": [
    "#url2 = 'https://www.lavanguardia.com/local/barcelona/20190318/461083674799/turismo-turistas-barcelona.html'\n",
    "html2 = requests.get(url2).content\n",
    "soup2 = BeautifulSoup(html2, \"lxml\")"
   ]
  },
  {
   "cell_type": "code",
   "execution_count": 17,
   "metadata": {},
   "outputs": [
    {
     "data": {
      "text/plain": [
       "['Barcelona recibe más turistas extranjeros y dejan más dinero']"
      ]
     },
     "execution_count": 17,
     "metadata": {},
     "output_type": "execute_result"
    }
   ],
   "source": [
    "h1 = [element.text for element in soup2.find_all('h1',{'itemprop':\"headline\"})]"
   ]
  },
  {
   "cell_type": "code",
   "execution_count": 18,
   "metadata": {},
   "outputs": [
    {
     "data": {
      "text/plain": [
       "['El número de visitantes internacionales creció un 4,3% en el 2018, y su gasto global, un 6,9%']"
      ]
     },
     "execution_count": 18,
     "metadata": {},
     "output_type": "execute_result"
    }
   ],
   "source": [
    "h2 = [element.text for element in soup2.find_all('h2',{'itemprop':\"alternativeHeadline\"})]\n",
    "h2"
   ]
  },
  {
   "cell_type": "code",
   "execution_count": 29,
   "metadata": {},
   "outputs": [
    {
     "data": {
      "text/plain": [
       "'Óscar Muñoz'"
      ]
     },
     "execution_count": 29,
     "metadata": {},
     "output_type": "execute_result"
    }
   ],
   "source": [
    "author = [element.text for element in soup2.find_all('span',{'itemprop':\"name\"})][1]\n",
    "author"
   ]
  },
  {
   "cell_type": "code",
   "execution_count": null,
   "metadata": {},
   "outputs": [],
   "source": [
    "body = [element.text for element in soup2.find_all('div',{'itemprop':\"articleBody\"})]\n",
    "body"
   ]
  },
  {
   "cell_type": "code",
   "execution_count": null,
   "metadata": {},
   "outputs": [],
   "source": []
  },
  {
   "cell_type": "code",
   "execution_count": null,
   "metadata": {},
   "outputs": [],
   "source": []
  },
  {
   "cell_type": "code",
   "execution_count": 6,
   "metadata": {},
   "outputs": [],
   "source": [
    "#url3 = 'https://www.lavozdegalicia.es/noticia/galicia/2019/03/18/presenta-propuesta-ley-impulso-demografico-galicia/0003_201903G18P11991.htm'\n",
    "html3 = requests.get(url3).content\n",
    "soup3 = BeautifulSoup(html3, \"lxml\")"
   ]
  },
  {
   "cell_type": "code",
   "execution_count": 24,
   "metadata": {},
   "outputs": [
    {
     "data": {
      "text/plain": [
       "['Nadie presenta propuesta alguna a la ley de impulso demográfico de Galicia']"
      ]
     },
     "execution_count": 24,
     "metadata": {},
     "output_type": "execute_result"
    }
   ],
   "source": [
    "h1 = [element.text for element in soup3.find_all('h1',{'itemprop':\"headline\"})]\n",
    "h1"
   ]
  },
  {
   "cell_type": "code",
   "execution_count": 25,
   "metadata": {},
   "outputs": [
    {
     "data": {
      "text/plain": [
       "['La Xunta abrió la posibilidad a la sociedad civil de plantear ideas durante 15 días, pero no ha habido sugerencias; queda ahora a expensas de los partidos']"
      ]
     },
     "execution_count": 25,
     "metadata": {},
     "output_type": "execute_result"
    }
   ],
   "source": [
    "h2 = [element.text for element in soup3.find_all('h2',{'itemprop':\"alternativeHeadline\"})]\n",
    "h2"
   ]
  },
  {
   "cell_type": "code",
   "execution_count": 28,
   "metadata": {},
   "outputs": [
    {
     "data": {
      "text/plain": [
       "'carlos punzón'"
      ]
     },
     "execution_count": 28,
     "metadata": {},
     "output_type": "execute_result"
    }
   ],
   "source": [
    "author = [element.text for element in soup3.find_all('span',{'itemprop':\"name\"})][8]\n",
    "author"
   ]
  },
  {
   "cell_type": "code",
   "execution_count": 35,
   "metadata": {},
   "outputs": [
    {
     "data": {
      "text/plain": [
       "\"['Economistas, médicos, demógrafos, analistas de las disciplinas más diversas, sindicalistas o políticos están de acuerdo en que la caída de la natalidad, el avejentamiento y la despoblación es el problema más decisivo, grave y urgente que tiene Galicia como sociedad y el que más condicionará su futuro. Pero ese convencimiento generalizado semeja que no ha trascendido a la ciudadanía, o que la Administración no ha acertado a la hora de hacer partícipe a la población de la posibilidad de aportar ideas para tratar de atajar lo que en resumen se clasifica como crisis demográfica. A través del portal de Transparencia, el Gobierno gallego abrió en febrero una ventana a la ciudadanía para que hiciera llegar propuestas para ser estudiadas para su inclusión en la futura Lei de Impulso Demográfico de Galicia.', 'Transcurridos los 15 días habilitados para realizar dichas aportaciones, nadie -ni personas individuales, ni colectivos, ni asociaciones u organizaciones- ha presentado ninguna, como constata la Consellería de Política Social. El departamento que dirige Fabiola García considera que «non é extraordinario» que nadie se haya interesado por plantear alguna idea cuando se abre en ocasiones la posibilidad a la sociedad de tomar la palabra por la vía abierta desde la Xunta, pero en la misma invitación que el Ejecutivo hizo para animar a enviar sugerencias para luchar contra el problema demográfico se recalcó que en esta ocasión se trata de una ley de peso notable, con un «carácter global e transversal e sen precedente normativo anterior».', 'En la explicación de la consulta abierta sin resultado finalmente, la dirección xeral de Familia, Infancia e Dinamización Demográfica señalaba que «Galicia está a experimentar de cheo o fenómeno que se coñece como segunda transición», que es la etapa surgida desde la II Guerra Mundial y que registra un fuerte descenso de la fecundidad y la aparición de la migración como elemento demográfico de mucho peso. «O actual réxime demográfico de Galicia, de modo parello ao de España e Europa, caracterízase polo envellecemento de estrutura por idades da súa poboación, ao ter unha alta proporción de individuos en idades avanzadas», describe el texto que animaba a hacer aportaciones. Se añadía que las áreas rurales, excepto las situadas en los alrededores de las ciudades del eje atlántico, necesitan de una actuación más decidida, al ser las más castigadas por las migraciones a ciudades, y un saldo vegetativo adverso.\\\\xa0', 'Y finalmente, la Xunta demandaba respuestas e ideas que permitieran emanciparse a edades más tempranas; tener el número de hijos deseados; favorecer el envejecimiento activo y saludable para que las personas puedan permanecer en su entorno habitual el mayor tiempo posible; impulsar oportunidades de empleo y potenciar la estructura económica de las áreas rurales, y finalmente, cómo atraer nueva población y capital para toda Galicia y en especial para su área rural.', 'A la espera de que los grupos políticos hagan sus propuestas al anteproyecto de ley, representantes de universidades, sindicatos, CES, IGE, Delegación del Gobierno, ayuntamientos y Xunta ya consensuaron en el Observatorio Galego de Dinamización Demográfica un texto técnico que será aprovechado para confeccionar la citada ley.', 'Las primeras medidas a la vista', 'A la espera de que se concrete definitivamente la ley de impulso demográfico, la Xunta quiere incluir en su redacción ayudas públicas para las familias numerosas, de tal forma que accedan a descuentos en la compra de coche y de vivienda, adaptada a sus necesidades. También tratan de implicar a los concellos con rebajas en impuestos locales.', '', '\""
      ]
     },
     "execution_count": 35,
     "metadata": {},
     "output_type": "execute_result"
    }
   ],
   "source": [
    "body = re.split('Hemos creado para ti una selección de contenidos para que los recibas', str([element.text for element in soup3.find_all('p')]))[0]\n",
    "body"
   ]
  },
  {
   "cell_type": "code",
   "execution_count": 7,
   "metadata": {},
   "outputs": [],
   "source": [
    "#url4 = 'https://www.abc.es/economia/abci-contratos-fijos-hunden-y-empleo-sufre-mas-regiones-peores-sueldos-201903171820_noticia.html'\n",
    "html4 = requests.get(url4).content\n",
    "soup4 = BeautifulSoup(html4, \"lxml\")"
   ]
  },
  {
   "cell_type": "code",
   "execution_count": 36,
   "metadata": {},
   "outputs": [
    {
     "data": {
      "text/plain": [
       "['Los contratos fijos se hunden y el empleo sufre más en regiones con peores sueldos']"
      ]
     },
     "execution_count": 36,
     "metadata": {},
     "output_type": "execute_result"
    }
   ],
   "source": [
    "h1 = [element.text for element in soup4.find_all('span',{'class':\"titular\"})]\n",
    "h1"
   ]
  },
  {
   "cell_type": "code",
   "execution_count": 38,
   "metadata": {},
   "outputs": [
    {
     "data": {
      "text/plain": [
       "['Extremadura, Canarias y Galicia son las comunidades más afectadas por el alza del 22,3% en el SMI; ',\n",
       " 'La contratación estable pasa de crecer más del 18% a caer un 3,21% ']"
      ]
     },
     "execution_count": 38,
     "metadata": {},
     "output_type": "execute_result"
    }
   ],
   "source": [
    "h2 = [element.text for element in soup4.find_all('h2',{'class':\"subtitulo\"})]\n",
    "h2"
   ]
  },
  {
   "cell_type": "code",
   "execution_count": 39,
   "metadata": {},
   "outputs": [
    {
     "data": {
      "text/plain": [
       "['Susana Alcelay']"
      ]
     },
     "execution_count": 39,
     "metadata": {},
     "output_type": "execute_result"
    }
   ],
   "source": [
    "author = [element.text for element in soup4.find_all('a',{'class':\"autor\"})]\n",
    "author"
   ]
  },
  {
   "cell_type": "code",
   "execution_count": 41,
   "metadata": {},
   "outputs": [
    {
     "data": {
      "text/plain": [
       "\"['', '', '', '', '', '', 'La subida del salario mínimo hasta 900 euros mensuales y el aumento de los impuestos al empleo son barreras que han encarecido la contratación y se traducirán este año en que     la economía española requerirá de un mayor crecimiento de la actividad para poder crear puestos de trabajo, a diferencia de lo que venía ocurriendo en los últimos años. Los datos de afiliación, el termómetro más fiable para medir el empleo, reflejan desde el verano una clara desaceleración, en línea con la economía, que se agudiza cada mes. ', 'La literatura económica no es clara respecto al impacto que puede tener en el mercado de trabajo el incremento del 22,3% aplicado desde enero en el SMI, pero en España hay coincidencia en que el efecto sobre el empleo es negativo. También lo creen Bruselas y organismos internacionales como el FMI e incluso la propia Seguridad Social. El secretario de Estado, Octavio Granado, reconoció que pueden existir empresarios que tengan «la tentación de contratar en vez de a 20 trabajadores a 18. No tiene sentido que lo neguemos», aseguró. ', 'La opinión mayoritaria es que los efectos sobre el mercado laboral no se verán de forma inmediata. Sin embargo,     en solo dos meses de aplicación del nuevo SMI las consecuencias ya se perciben. La contratación indefinida prácticamente se ha hundido y el empleo se ha desacelerado en toda España; ha pasado de crecer a ritmos anuales superiores al 3% a final de 2018 a hacerlo al 2,8% en febrero. Un retroceso que están padeciendo en especial las regiones que tienen sueldos más bajos y en las que, por tanto, el esfuerzo que deben realizar las empresas para igualar las rentas de los trabajadores que ganan menos al nuevo salario mínimo es mayor.', '', 'Valentín Bote, director del Randstad Research, explica a ABC que la afiliación ya ha comenzado a echar el freno desde enero y agrega que esta evolución negativa puede estar relacionada con la desaceleración económica general, aunque también reconoce que en determinadas comunidades autónomas, en las que los salarios son más bajos en promedio y, por tanto, están más afectadas por la subida del SMI, la desaceleración está siendo mayor. Uno de estos casos es el de Extremadura, región con los sueldos más bajos en España, donde en dos meses la creación interanual de empleo ha pasado del 2,46% al 1,97%. También está ocurriendo en Canarias, donde la generación de puestos de trabajo ha pasado del 3,37% al 2,58% y, en menor medida, en Galicia. En esta región, la cuarta con rentas más bajas, la ocupación ha pasado de crecer a ritmos del 2,1% a hacerlo al 1,9%. ', 'Pero si hay un indicador, cuya evolución está siendo sido más negativa en los últimos dos meses, es la contratación indefinida, según reflejan los datos del Ministerio de Trabajo y destaca Valentín Bote. Desde que en 2012 se aprobó la reforma laboral esta variable ha sumado récord tras récord. En 2018 registró un crecimiento de más del 18% respecto al año anterior, una evolución que se ha frenado de forma brusca en lo que va de año. En enero ya creció por debajo del 5% en tasa interanual y en febrero descendió un 3,21% respecto al mismo mes de 2018.', '', 'Los datos generales de contratación no están siendo buenos desde que comenzó 2019. En febrero los contratos realizados cayeron un 15,45% respecto a enero, con un total de 1,57 millones de contratos. El descenso fue más intenso en el caso de la contratación temporal, con una caída de un 16,37%, frente a un -6,98% en el caso de la indefinida. En términos interanuales, la contratación estable registró en el segundo mes del año el citado descenso del 3,21%, mientras que la temporal creció, pero solo un 2,20%. Es la primera vez en cinco años que se ha reducido la contratación fija en términos interanuales.', 'Uno de los efectos más evidentes del incremento del salario mínimo se está produciendo en la evolución de los sueldos pactados en convenio, según reconoce la patronal CEOE en su último informe sobre negociación colectiva al que ha tenido acceso ABC. Los datos de Trabajo reflejan que la variación media pactada en los convenios hasta febrero es del 2,23% frente al 1,7% registrada a cierre de 2018.', '', 'La principal queja de la patronal respecto al alza aplicada en el salario mínimo ha estado ligada al periodo de implantación de la medida. Los 900 euros actuales no están tan lejos del acuerdo pactado en 2017 entre empresarios y sindicatos con el Gobierno de Rajoy, que planteaba una subida hasta los 850 euros. La gran diferencia está en el tiempo que se ha dado a las empresas para adaptarse al cambio, teniendo en cuenta también que desde enero están teniendo que hacer frente a una subida de impuestos al empleo. Las bases mínimas de cotización subieron en idéntico porcentaje que el SMI dado que ambas variables están referenciadas, y las bases máximas lo hicieron en un 7%. ', 'Mientras que el acuerdo rubricado en 2017 apuntaba a una implantación gradual de la medida hasta completarla en 2020, el plan acordado entre el presidente del Gobierno en funciones, Pedro Sánchez, y el líder de Podemos, Pablo Iglesias se ha realizado de golpe este ejercicio.', '', '«Desde CEOE reiteramos la necesidad de dar estabilidad y seguridad jurídica para consolidar decisiones de inversión y potenciar la creación de empleo», dice la patronal en la circular de negociación colectiva. Añade que para «continuar avanzando en una tendencia favorable a la estabilidad del empleo, convendría llevar a cabo una rebaja generalizada de las cotizaciones». ', '\""
      ]
     },
     "execution_count": 41,
     "metadata": {},
     "output_type": "execute_result"
    }
   ],
   "source": [
    "body = re.split('¡Hola, !', str([element.text for element in soup4.find_all('p')]))[0]\n",
    "body"
   ]
  },
  {
   "cell_type": "code",
   "execution_count": 82,
   "metadata": {},
   "outputs": [],
   "source": [
    "#body = ''.join(element.text for element in soup1.find_all('div',{'class':\"td-pb-span10\"}))"
   ]
  },
  {
   "cell_type": "markdown",
   "metadata": {},
   "source": [
    "WEB SCFAPER FUNCTION"
   ]
  },
  {
   "cell_type": "code",
   "execution_count": null,
   "metadata": {},
   "outputs": [],
   "source": [
    "# Building a function for scraping the targeted news.\n",
    "\n",
    "def news_scraper(URL):\n",
    "    '''\n",
    "    Input: a string with the URL of the new\n",
    "    Output: a dictionary with thes key-value pairs:\n",
    "        'URL': a string with the new's url \n",
    "        'h1': a string with the headline of the new\n",
    "        'h2': a string with the subtitle of the new\n",
    "        'author': a string with the author of the new\n",
    "        'body': a string with the body of the new\n",
    "    '''\n",
    "    if elpais.com in URL:\n",
    "    elif elmundo.es in URL:\n",
    "    elif "
   ]
  },
  {
   "cell_type": "code",
   "execution_count": null,
   "metadata": {},
   "outputs": [],
   "source": []
  }
 ],
 "metadata": {
  "kernelspec": {
   "display_name": "Python 3",
   "language": "python",
   "name": "python3"
  },
  "language_info": {
   "codemirror_mode": {
    "name": "ipython",
    "version": 3
   },
   "file_extension": ".py",
   "mimetype": "text/x-python",
   "name": "python",
   "nbconvert_exporter": "python",
   "pygments_lexer": "ipython3",
   "version": "3.6.7"
  }
 },
 "nbformat": 4,
 "nbformat_minor": 2
}
