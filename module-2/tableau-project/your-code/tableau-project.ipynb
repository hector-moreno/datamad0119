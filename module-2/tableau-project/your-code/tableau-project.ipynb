{
 "cells": [
  {
   "cell_type": "code",
   "execution_count": 1,
   "metadata": {},
   "outputs": [],
   "source": [
    "import pymongo\n",
    "import pandas as pd"
   ]
  },
  {
   "cell_type": "code",
   "execution_count": 2,
   "metadata": {},
   "outputs": [],
   "source": [
    "MongoClient = pymongo.MongoClient\n",
    "client = MongoClient()\n",
    "db = client.companies"
   ]
  },
  {
   "cell_type": "code",
   "execution_count": 60,
   "metadata": {},
   "outputs": [
    {
     "data": {
      "text/plain": [
       "[{'name': 'AddThis Vienna',\n",
       "  'position': {'type': 'Point', 'coordinates': (38.926172, -77.245195)}},\n",
       " {'name': 'AddThis New York',\n",
       "  'position': {'type': 'Point', 'coordinates': (40.724604, -73.996876)}},\n",
       " {'name': 'AddThis Culver City',\n",
       "  'position': {'type': 'Point', 'coordinates': (34.0263021, -118.380954)}},\n",
       " {'name': 'AddThis Troy',\n",
       "  'position': {'type': 'Point', 'coordinates': (42.557958, -83.167884)}}]"
      ]
     },
     "execution_count": 60,
     "metadata": {},
     "output_type": "execute_result"
    }
   ],
   "source": [
    "def toGeoJSON(lista):\n",
    "    return {\n",
    "            \"type\": \"Point\",\n",
    "            \"coordinates\":(lista[0],lista[1])\n",
    "        }\n",
    "\n",
    "def convertRestaurant(company):\n",
    "    lista_dict = []\n",
    "    for index in range(len(company['offices'])):\n",
    "        for key in company['offices']:\n",
    "            if key['latitude'] != None and key['longitude'] != None:\n",
    "                comp_off = {\n",
    "                \"name\": company[\"name\"]+' ' + key['city'],\n",
    "                \"position\": toGeoJSON([key['latitude'],key['longitude']])   \n",
    "                }\n",
    "                lista_dict.append(comp_off)\n",
    "        return lista_dict\n",
    "\n",
    "cursor = db.companies.find({\"name\": \"AddThis\"}).limit(5)\n",
    "ofiComp = list(map(lambda r: convertRestaurant(r),cursor))\n",
    "geoCompanies = [element for lista in ofiComp for element in lista]\n",
    "geoCompanies"
   ]
  },
  {
   "cell_type": "code",
   "execution_count": null,
   "metadata": {},
   "outputs": [],
   "source": [
    "df = pd.DataFrame(geoCompanies)\n",
    "df.head()"
   ]
  },
  {
   "cell_type": "code",
   "execution_count": null,
   "metadata": {},
   "outputs": [],
   "source": [
    "category_code\n",
    "deadpooled_year\n",
    "founded_year\n",
    "funding_rounds     raised_amount\n",
    "number_of_employees\n",
    "offices      latitude\n",
    "            longitude\n",
    "    \n",
    "    \"offices\": \n",
    "        deadpoolyear: None\n",
    "            \n",
    "            \n",
    "def toGeoJSON(lista):\n",
    "    for i in lista:\n",
    "        return {\n",
    "            \"type\":\"Point\",\n",
    "            \"coordinates\":(i['longitude'],i['latitude'])\n",
    "        }\n",
    "\n",
    "def convertRestaurant(company):\n",
    "    for diccio in company[\"offices\"]:\n",
    "            \n",
    "        return {\n",
    "        \"name\": company[\"name\"],\n",
    "        \"homepage_url\": company[\"homepage_url\"],\n",
    "        \"twitter_username\": company[\"twitter_username\"],\n",
    "        \"category_code\": company[\"category_code\"],\n",
    "        \"number_of_employees\": company[\"number_of_employees\"],\n",
    "        \"deadpooled_year\" : company[\"deadpooled_year\"],\n",
    "        \"founded_year\": company[\"founded_year\"],     \n",
    "        \"funding_rounds\": company[\"funding_rounds\"],\n",
    "        \"position\": toGeoJSON(company[\"offices\"])\n",
    "    }\n",
    "\n",
    "cursor = db.companies.find({\"name\": \"AddThis\"}).limit(5)\n",
    "geoCompanies = list(map(lambda r: convertRestaurant(r),cursor))\n",
    "geoCompanies"
   ]
  },
  {
   "cell_type": "code",
   "execution_count": null,
   "metadata": {},
   "outputs": [],
   "source": []
  },
  {
   "cell_type": "code",
   "execution_count": null,
   "metadata": {},
   "outputs": [],
   "source": []
  },
  {
   "cell_type": "code",
   "execution_count": null,
   "metadata": {},
   "outputs": [],
   "source": []
  },
  {
   "cell_type": "code",
   "execution_count": null,
   "metadata": {},
   "outputs": [],
   "source": []
  }
 ],
 "metadata": {
  "kernelspec": {
   "display_name": "Python 3",
   "language": "python",
   "name": "python3"
  },
  "language_info": {
   "codemirror_mode": {
    "name": "ipython",
    "version": 3
   },
   "file_extension": ".py",
   "mimetype": "text/x-python",
   "name": "python",
   "nbconvert_exporter": "python",
   "pygments_lexer": "ipython3",
   "version": "3.6.7"
  }
 },
 "nbformat": 4,
 "nbformat_minor": 2
}
