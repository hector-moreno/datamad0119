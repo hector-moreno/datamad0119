{
 "cells": [
  {
   "cell_type": "code",
   "execution_count": 113,
   "metadata": {},
   "outputs": [],
   "source": [
    "import pymongo\n",
    "import pandas as pd"
   ]
  },
  {
   "cell_type": "code",
   "execution_count": 114,
   "metadata": {},
   "outputs": [],
   "source": [
    "MongoClient = pymongo.MongoClient\n",
    "client = MongoClient()\n",
    "db = client.companies"
   ]
  },
  {
   "cell_type": "code",
   "execution_count": 117,
   "metadata": {},
   "outputs": [],
   "source": [
    "def toGeoJSON(lista):\n",
    "    return {\n",
    "            \"type\": \"Point\",\n",
    "            \"coordinates\":[lista[1],lista[0]]\n",
    "        }\n",
    "\n",
    "def getValuatio(funding_round):\n",
    "    valor = 0\n",
    "    for lista in funding_round:\n",
    "        valor = lista['raised_amount']\n",
    "    return valor\n",
    "\n",
    "def convertRestaurant(company):\n",
    "    lista_dict = []\n",
    "    for index in range(len(company['offices'])):\n",
    "        for key in company['offices']:\n",
    "            if key['latitude'] != None and key['longitude'] != None:\n",
    "                comp_off = {\n",
    "                \"name\": company[\"name\"],\n",
    "                \"category_code\": company[\"category_code\"],\n",
    "                \"number_of_employees\": company[\"number_of_employees\"],\n",
    "                \"founded_year\": company[\"founded_year\"],\n",
    "                \"valuation\": getValuatio(company['funding_rounds']),\n",
    "                \"position\": toGeoJSON([key['latitude'],key['longitude']])   \n",
    "                }\n",
    "                lista_dict.append(comp_off)\n",
    "        return lista_dict\n",
    "\n",
    "cursor = db.companies.find({\"$and\": [ { \"offices.latitude\": {\"$exists\": True} },{ \"offices.longitude\": {\"$exists\": True} }, { \"founded_year\": {\"$gt\": 1995} }, {\"deadpooled_year\": None}  ] },{\"_id\":0})\n",
    "ofiComp = list(map(lambda r: convertRestaurant(r),cursor))\n",
    "geoCompanies = [element for lista in ofiComp for element in lista]\n"
   ]
  },
  {
   "cell_type": "code",
   "execution_count": 118,
   "metadata": {},
   "outputs": [
    {
     "data": {
      "text/html": [
       "<div>\n",
       "<style scoped>\n",
       "    .dataframe tbody tr th:only-of-type {\n",
       "        vertical-align: middle;\n",
       "    }\n",
       "\n",
       "    .dataframe tbody tr th {\n",
       "        vertical-align: top;\n",
       "    }\n",
       "\n",
       "    .dataframe thead th {\n",
       "        text-align: right;\n",
       "    }\n",
       "</style>\n",
       "<table border=\"1\" class=\"dataframe\">\n",
       "  <thead>\n",
       "    <tr style=\"text-align: right;\">\n",
       "      <th></th>\n",
       "      <th>category_code</th>\n",
       "      <th>founded_year</th>\n",
       "      <th>name</th>\n",
       "      <th>number_of_employees</th>\n",
       "      <th>position</th>\n",
       "      <th>valuation</th>\n",
       "    </tr>\n",
       "  </thead>\n",
       "  <tbody>\n",
       "    <tr>\n",
       "      <th>0</th>\n",
       "      <td>news</td>\n",
       "      <td>2004</td>\n",
       "      <td>Digg</td>\n",
       "      <td>60.0</td>\n",
       "      <td>{'type': 'Point', 'coordinates': [-122.394523,...</td>\n",
       "      <td>5000000.0</td>\n",
       "    </tr>\n",
       "    <tr>\n",
       "      <th>1</th>\n",
       "      <td>web</td>\n",
       "      <td>1999</td>\n",
       "      <td>Postini</td>\n",
       "      <td>NaN</td>\n",
       "      <td>{'type': 'Point', 'coordinates': [-122.247573,...</td>\n",
       "      <td>0.0</td>\n",
       "    </tr>\n",
       "    <tr>\n",
       "      <th>2</th>\n",
       "      <td>web</td>\n",
       "      <td>2006</td>\n",
       "      <td>Geni</td>\n",
       "      <td>18.0</td>\n",
       "      <td>{'type': 'Point', 'coordinates': [-118.393064,...</td>\n",
       "      <td>5000000.0</td>\n",
       "    </tr>\n",
       "    <tr>\n",
       "      <th>3</th>\n",
       "      <td>web</td>\n",
       "      <td>2003</td>\n",
       "      <td>Gizmoz</td>\n",
       "      <td>NaN</td>\n",
       "      <td>{'type': 'Point', 'coordinates': [-122.169472,...</td>\n",
       "      <td>5300000.0</td>\n",
       "    </tr>\n",
       "    <tr>\n",
       "      <th>4</th>\n",
       "      <td>web</td>\n",
       "      <td>2002</td>\n",
       "      <td>StumbleUpon</td>\n",
       "      <td>NaN</td>\n",
       "      <td>{'type': 'Point', 'coordinates': [-122.419204,...</td>\n",
       "      <td>NaN</td>\n",
       "    </tr>\n",
       "  </tbody>\n",
       "</table>\n",
       "</div>"
      ],
      "text/plain": [
       "  category_code  founded_year         name  number_of_employees  \\\n",
       "0          news          2004         Digg                 60.0   \n",
       "1           web          1999      Postini                  NaN   \n",
       "2           web          2006         Geni                 18.0   \n",
       "3           web          2003       Gizmoz                  NaN   \n",
       "4           web          2002  StumbleUpon                  NaN   \n",
       "\n",
       "                                            position  valuation  \n",
       "0  {'type': 'Point', 'coordinates': [-122.394523,...  5000000.0  \n",
       "1  {'type': 'Point', 'coordinates': [-122.247573,...        0.0  \n",
       "2  {'type': 'Point', 'coordinates': [-118.393064,...  5000000.0  \n",
       "3  {'type': 'Point', 'coordinates': [-122.169472,...  5300000.0  \n",
       "4  {'type': 'Point', 'coordinates': [-122.419204,...        NaN  "
      ]
     },
     "execution_count": 118,
     "metadata": {},
     "output_type": "execute_result"
    }
   ],
   "source": [
    "df = pd.DataFrame(geoCompanies)\n",
    "df.head()"
   ]
  },
  {
   "cell_type": "code",
   "execution_count": 119,
   "metadata": {},
   "outputs": [],
   "source": [
    "df.to_json(\"comp_with_coords.json\", orient=\"records\", lines=True)"
   ]
  },
  {
   "cell_type": "code",
   "execution_count": 120,
   "metadata": {},
   "outputs": [
    {
     "ename": "OperationFailure",
     "evalue": "error processing query: ns=companies.cleanTree: GEONEAR  field=position maxdist=1e+07 isNearSphere=0\nSort: {}\nProj: {}\n planner returned error: unable to find index for $geoNear query",
     "output_type": "error",
     "traceback": [
      "\u001b[0;31m---------------------------------------------------------------------------\u001b[0m",
      "\u001b[0;31mOperationFailure\u001b[0m                          Traceback (most recent call last)",
      "\u001b[0;32m<ipython-input-120-8a2769a80291>\u001b[0m in \u001b[0;36m<module>\u001b[0;34m\u001b[0m\n\u001b[1;32m     12\u001b[0m })\n\u001b[1;32m     13\u001b[0m \u001b[0;34m\u001b[0m\u001b[0m\n\u001b[0;32m---> 14\u001b[0;31m \u001b[0mdf\u001b[0m \u001b[0;34m=\u001b[0m \u001b[0mpd\u001b[0m\u001b[0;34m.\u001b[0m\u001b[0mDataFrame\u001b[0m\u001b[0;34m(\u001b[0m\u001b[0mlist\u001b[0m\u001b[0;34m(\u001b[0m\u001b[0mcursor\u001b[0m\u001b[0;34m)\u001b[0m\u001b[0;34m)\u001b[0m\u001b[0;34m\u001b[0m\u001b[0;34m\u001b[0m\u001b[0m\n\u001b[0m\u001b[1;32m     15\u001b[0m \u001b[0mdf\u001b[0m\u001b[0;34m.\u001b[0m\u001b[0mhead\u001b[0m\u001b[0;34m(\u001b[0m\u001b[0;34m)\u001b[0m\u001b[0;34m\u001b[0m\u001b[0;34m\u001b[0m\u001b[0m\n",
      "\u001b[0;32m/usr/local/lib/python3.6/dist-packages/pymongo/cursor.py\u001b[0m in \u001b[0;36mnext\u001b[0;34m(self)\u001b[0m\n\u001b[1;32m   1187\u001b[0m         \u001b[0;32mif\u001b[0m \u001b[0mself\u001b[0m\u001b[0;34m.\u001b[0m\u001b[0m__empty\u001b[0m\u001b[0;34m:\u001b[0m\u001b[0;34m\u001b[0m\u001b[0;34m\u001b[0m\u001b[0m\n\u001b[1;32m   1188\u001b[0m             \u001b[0;32mraise\u001b[0m \u001b[0mStopIteration\u001b[0m\u001b[0;34m\u001b[0m\u001b[0;34m\u001b[0m\u001b[0m\n\u001b[0;32m-> 1189\u001b[0;31m         \u001b[0;32mif\u001b[0m \u001b[0mlen\u001b[0m\u001b[0;34m(\u001b[0m\u001b[0mself\u001b[0m\u001b[0;34m.\u001b[0m\u001b[0m__data\u001b[0m\u001b[0;34m)\u001b[0m \u001b[0;32mor\u001b[0m \u001b[0mself\u001b[0m\u001b[0;34m.\u001b[0m\u001b[0m_refresh\u001b[0m\u001b[0;34m(\u001b[0m\u001b[0;34m)\u001b[0m\u001b[0;34m:\u001b[0m\u001b[0;34m\u001b[0m\u001b[0;34m\u001b[0m\u001b[0m\n\u001b[0m\u001b[1;32m   1190\u001b[0m             \u001b[0;32mif\u001b[0m \u001b[0mself\u001b[0m\u001b[0;34m.\u001b[0m\u001b[0m__manipulate\u001b[0m\u001b[0;34m:\u001b[0m\u001b[0;34m\u001b[0m\u001b[0;34m\u001b[0m\u001b[0m\n\u001b[1;32m   1191\u001b[0m                 \u001b[0m_db\u001b[0m \u001b[0;34m=\u001b[0m \u001b[0mself\u001b[0m\u001b[0;34m.\u001b[0m\u001b[0m__collection\u001b[0m\u001b[0;34m.\u001b[0m\u001b[0mdatabase\u001b[0m\u001b[0;34m\u001b[0m\u001b[0;34m\u001b[0m\u001b[0m\n",
      "\u001b[0;32m/usr/local/lib/python3.6/dist-packages/pymongo/cursor.py\u001b[0m in \u001b[0;36m_refresh\u001b[0;34m(self)\u001b[0m\n\u001b[1;32m   1102\u001b[0m                                   \u001b[0mself\u001b[0m\u001b[0;34m.\u001b[0m\u001b[0m__session\u001b[0m\u001b[0;34m,\u001b[0m\u001b[0;34m\u001b[0m\u001b[0;34m\u001b[0m\u001b[0m\n\u001b[1;32m   1103\u001b[0m                                   self.__collection.database.client)\n\u001b[0;32m-> 1104\u001b[0;31m             \u001b[0mself\u001b[0m\u001b[0;34m.\u001b[0m\u001b[0m__send_message\u001b[0m\u001b[0;34m(\u001b[0m\u001b[0mq\u001b[0m\u001b[0;34m)\u001b[0m\u001b[0;34m\u001b[0m\u001b[0;34m\u001b[0m\u001b[0m\n\u001b[0m\u001b[1;32m   1105\u001b[0m         \u001b[0;32melif\u001b[0m \u001b[0mself\u001b[0m\u001b[0;34m.\u001b[0m\u001b[0m__id\u001b[0m\u001b[0;34m:\u001b[0m  \u001b[0;31m# Get More\u001b[0m\u001b[0;34m\u001b[0m\u001b[0;34m\u001b[0m\u001b[0m\n\u001b[1;32m   1106\u001b[0m             \u001b[0;32mif\u001b[0m \u001b[0mself\u001b[0m\u001b[0;34m.\u001b[0m\u001b[0m__limit\u001b[0m\u001b[0;34m:\u001b[0m\u001b[0;34m\u001b[0m\u001b[0;34m\u001b[0m\u001b[0m\n",
      "\u001b[0;32m/usr/local/lib/python3.6/dist-packages/pymongo/cursor.py\u001b[0m in \u001b[0;36m__send_message\u001b[0;34m(self, operation)\u001b[0m\n\u001b[1;32m    980\u001b[0m                 \u001b[0mfirst\u001b[0m \u001b[0;34m=\u001b[0m \u001b[0mdocs\u001b[0m\u001b[0;34m[\u001b[0m\u001b[0;36m0\u001b[0m\u001b[0;34m]\u001b[0m\u001b[0;34m\u001b[0m\u001b[0;34m\u001b[0m\u001b[0m\n\u001b[1;32m    981\u001b[0m                 \u001b[0mclient\u001b[0m\u001b[0;34m.\u001b[0m\u001b[0m_receive_cluster_time\u001b[0m\u001b[0;34m(\u001b[0m\u001b[0mfirst\u001b[0m\u001b[0;34m,\u001b[0m \u001b[0mself\u001b[0m\u001b[0;34m.\u001b[0m\u001b[0m__session\u001b[0m\u001b[0;34m)\u001b[0m\u001b[0;34m\u001b[0m\u001b[0;34m\u001b[0m\u001b[0m\n\u001b[0;32m--> 982\u001b[0;31m                 \u001b[0mhelpers\u001b[0m\u001b[0;34m.\u001b[0m\u001b[0m_check_command_response\u001b[0m\u001b[0;34m(\u001b[0m\u001b[0mfirst\u001b[0m\u001b[0;34m)\u001b[0m\u001b[0;34m\u001b[0m\u001b[0;34m\u001b[0m\u001b[0m\n\u001b[0m\u001b[1;32m    983\u001b[0m         \u001b[0;32mexcept\u001b[0m \u001b[0mOperationFailure\u001b[0m \u001b[0;32mas\u001b[0m \u001b[0mexc\u001b[0m\u001b[0;34m:\u001b[0m\u001b[0;34m\u001b[0m\u001b[0;34m\u001b[0m\u001b[0m\n\u001b[1;32m    984\u001b[0m             \u001b[0mself\u001b[0m\u001b[0;34m.\u001b[0m\u001b[0m__killed\u001b[0m \u001b[0;34m=\u001b[0m \u001b[0;32mTrue\u001b[0m\u001b[0;34m\u001b[0m\u001b[0;34m\u001b[0m\u001b[0m\n",
      "\u001b[0;32m/usr/local/lib/python3.6/dist-packages/pymongo/helpers.py\u001b[0m in \u001b[0;36m_check_command_response\u001b[0;34m(response, msg, allowable_errors, parse_write_concern_error)\u001b[0m\n\u001b[1;32m    153\u001b[0m \u001b[0;34m\u001b[0m\u001b[0m\n\u001b[1;32m    154\u001b[0m             \u001b[0mmsg\u001b[0m \u001b[0;34m=\u001b[0m \u001b[0mmsg\u001b[0m \u001b[0;32mor\u001b[0m \u001b[0;34m\"%s\"\u001b[0m\u001b[0;34m\u001b[0m\u001b[0;34m\u001b[0m\u001b[0m\n\u001b[0;32m--> 155\u001b[0;31m             \u001b[0;32mraise\u001b[0m \u001b[0mOperationFailure\u001b[0m\u001b[0;34m(\u001b[0m\u001b[0mmsg\u001b[0m \u001b[0;34m%\u001b[0m \u001b[0merrmsg\u001b[0m\u001b[0;34m,\u001b[0m \u001b[0mcode\u001b[0m\u001b[0;34m,\u001b[0m \u001b[0mresponse\u001b[0m\u001b[0;34m)\u001b[0m\u001b[0;34m\u001b[0m\u001b[0;34m\u001b[0m\u001b[0m\n\u001b[0m\u001b[1;32m    156\u001b[0m \u001b[0;34m\u001b[0m\u001b[0m\n\u001b[1;32m    157\u001b[0m \u001b[0;34m\u001b[0m\u001b[0m\n",
      "\u001b[0;31mOperationFailure\u001b[0m: error processing query: ns=companies.cleanTree: GEONEAR  field=position maxdist=1e+07 isNearSphere=0\nSort: {}\nProj: {}\n planner returned error: unable to find index for $geoNear query"
     ]
    }
   ],
   "source": [
    "cursor = db.clean.find({\n",
    "  \"position\": {\n",
    "    \"$near\": {\n",
    "      \"$geometry\": {\n",
    "        \"type\": \"Point\",\n",
    "        \"coordinates\": [-122.394523, 37.764726] \n",
    "      },\n",
    "      \"$minDistance\": 0,\n",
    "      \"$maxDistance\":10000000\n",
    "    }\n",
    "  }\n",
    "})\n",
    "\n",
    "df = pd.DataFrame(list(cursor))\n",
    "df.head()"
   ]
  },
  {
   "cell_type": "code",
   "execution_count": null,
   "metadata": {},
   "outputs": [],
   "source": []
  },
  {
   "cell_type": "code",
   "execution_count": null,
   "metadata": {},
   "outputs": [],
   "source": []
  },
  {
   "cell_type": "code",
   "execution_count": null,
   "metadata": {},
   "outputs": [],
   "source": [
    "cursor = db.clean.find({\n",
    "  \"position\": {\n",
    "    \"$near\": {\n",
    "      \"$geometry\": {\n",
    "        \"type\": \"Point\",\n",
    "        \"coordinates\": [-74.1080159, 40.7046139]\n",
    "      },\n",
    "      \"$minDistance\": 0,\n",
    "      \"$maxDistance\":10000\n",
    "    }\n",
    "  }\n",
    "})\n",
    "\n",
    "import pandas as pd\n",
    "df = pd.DataFrame(list(cursor))\n",
    "df.head()"
   ]
  },
  {
   "cell_type": "code",
   "execution_count": null,
   "metadata": {},
   "outputs": [],
   "source": []
  },
  {
   "cell_type": "code",
   "execution_count": null,
   "metadata": {},
   "outputs": [],
   "source": [
    "category_code\n",
    "deadpooled_year\n",
    "founded_year\n",
    "funding_rounds     raised_amount\n",
    "number_of_employees\n",
    "offices      latitude\n",
    "            longitude\n",
    "    \n",
    "    \"offices\": \n",
    "        deadpoolyear: None\n",
    "            \n",
    "            \n",
    "def toGeoJSON(lista):\n",
    "    for i in lista:\n",
    "        return {\n",
    "            \"type\":\"Point\",\n",
    "            \"coordinates\":(i['longitude'],i['latitude'])\n",
    "        }\n",
    "\n",
    "def convertRestaurant(company):\n",
    "    for diccio in company[\"offices\"]:\n",
    "            \n",
    "        return {\n",
    "        \"name\": company[\"name\"],\n",
    "        \"homepage_url\": company[\"homepage_url\"],\n",
    "        \"twitter_username\": company[\"twitter_username\"],\n",
    "        \"category_code\": company[\"category_code\"],\n",
    "        \"number_of_employees\": company[\"number_of_employees\"],\n",
    "        \"founded_year\": company[\"founded_year\"],     \n",
    "        \"valuation\": company[\"ipo\"]['valuation_amount']     \n",
    "        \"position\": toGeoJSON(company[\"offices\"])\n",
    "    }\n",
    "\n",
    "cursor = db.companies.find({\"name\": \"AddThis\"}).limit(5)\n",
    "geoCompanies = list(map(lambda r: convertRestaurant(r),cursor))\n",
    "geoCompanies\n",
    "{$and: [ { \"offices.latitude\": {\"$exists\": true} },{ \"offices.longitude\": {\"$exists\": true} } ] }\n",
    "{$and: [ { \"offices.latitude\": {\"$exists\": true} },{ \"offices.longitude\": {\"$exists\": true} }, { founded_year: {\"$gt\": 1995} } ] }"
   ]
  },
  {
   "cell_type": "code",
   "execution_count": null,
   "metadata": {},
   "outputs": [],
   "source": []
  },
  {
   "cell_type": "code",
   "execution_count": null,
   "metadata": {},
   "outputs": [],
   "source": []
  },
  {
   "cell_type": "code",
   "execution_count": null,
   "metadata": {},
   "outputs": [],
   "source": []
  },
  {
   "cell_type": "code",
   "execution_count": null,
   "metadata": {},
   "outputs": [],
   "source": []
  }
 ],
 "metadata": {
  "kernelspec": {
   "display_name": "Python 3",
   "language": "python",
   "name": "python3"
  },
  "language_info": {
   "codemirror_mode": {
    "name": "ipython",
    "version": 3
   },
   "file_extension": ".py",
   "mimetype": "text/x-python",
   "name": "python",
   "nbconvert_exporter": "python",
   "pygments_lexer": "ipython3",
   "version": "3.6.7"
  }
 },
 "nbformat": 4,
 "nbformat_minor": 2
}
