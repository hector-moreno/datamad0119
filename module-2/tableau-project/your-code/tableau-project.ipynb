{
 "cells": [
  {
   "cell_type": "code",
   "execution_count": 29,
   "metadata": {},
   "outputs": [],
   "source": [
    "import pymongo\n",
    "import pandas as pd"
   ]
  },
  {
   "cell_type": "code",
   "execution_count": 30,
   "metadata": {},
   "outputs": [],
   "source": [
    "MongoClient = pymongo.MongoClient\n",
    "client = MongoClient()\n",
    "db = client.companies"
   ]
  },
  {
   "cell_type": "code",
   "execution_count": 39,
   "metadata": {},
   "outputs": [],
   "source": [
    "def toGeoJSON(lista):\n",
    "    return {\n",
    "            \"type\": \"Point\",\n",
    "            \"coordinates\":[lista[1],lista[0]]\n",
    "        }\n",
    "\n",
    "def getValuatio(funding_round):\n",
    "    valor = 0\n",
    "    for lista in funding_round:\n",
    "        valor = lista['raised_amount']\n",
    "    return valor\n",
    "\n",
    "    \n",
    "\n",
    "\n",
    "def convertRestaurant(company):\n",
    "    lista_dict = []\n",
    "    for index in range(len(company['offices'])):\n",
    "        for key in company['offices']:\n",
    "            if key['latitude'] != None and key['longitude'] != None:\n",
    "                comp_off = {\n",
    "                \"name\": company[\"name\"],\n",
    "                \"category_code\": company[\"category_code\"],\n",
    "                \"number_of_employees\": company[\"number_of_employees\"],\n",
    "                \"founded_year\": company[\"founded_year\"],\n",
    "                \"valuation\": getValuatio(company['funding_rounds']),\n",
    "                \"position\": toGeoJSON([key['latitude'],key['longitude']])   \n",
    "                }\n",
    "                lista_dict.append(comp_off)\n",
    "        return lista_dict\n",
    "\n",
    "cursor = db.companies.find({\"$and\": [ { \"offices.latitude\": {\"$exists\": True} },{ \"offices.longitude\": {\"$exists\": True} }, { \"founded_year\": {\"$gt\": 1995} }, {\"deadpooled_year\": None}  ] },{\"_id\":0})\n",
    "ofiComp = list(map(lambda r: convertRestaurant(r),cursor))\n",
    "geoCompanies = [element for lista in ofiComp for element in lista]\n"
   ]
  },
  {
   "cell_type": "code",
   "execution_count": 42,
   "metadata": {},
   "outputs": [
    {
     "data": {
      "text/plain": [
       "category_code           object\n",
       "founded_year             int64\n",
       "name                    object\n",
       "number_of_employees    float64\n",
       "position                object\n",
       "valuation              float64\n",
       "dtype: object"
      ]
     },
     "execution_count": 42,
     "metadata": {},
     "output_type": "execute_result"
    }
   ],
   "source": [
    "df = pd.DataFrame(geoCompanies)\n",
    "\n",
    "df.head()\n",
    "   \n"
   ]
  },
  {
   "cell_type": "code",
   "execution_count": 55,
   "metadata": {},
   "outputs": [],
   "source": [
    "def getRatingCode(code):\n",
    "    \n",
    "    ratingCode = 0\n",
    "    if code == (\"web\" or \"software\" or \"hardware\" or \"design\" or \"consulting\"):\n",
    "        ratingCode += 5\n",
    "    elif code == (\"advertising\" or \"games_video\" or  \"ecommerce\"):\n",
    "        ratingCode += 4\n",
    "    elif code == (\"network_hosting\" or \"search\" or \"cleantech\" or \"analytics\" or \"messaging\"):\n",
    "        ratingCode += 3\n",
    "    elif code == (\"mobile\" or \"public_relations\"  or \"finance\" or \"fashion\"):\n",
    "        ratingCode += 2\n",
    "    elif code == (\"biotec\" or \"security\" or \"semiconductor\" or \"education\" or \"medical\" or \"health\" or \"manufacturing\" or \"nanotech\" or \"social\" or \"music\" or \"news\" or \"travel\" or \"photo_video\"):    \n",
    "        ratingCode += 1\n",
    "    else:\n",
    "        ratingCode += 0\n",
    "    return ratingCode\n",
    "\n",
    "ratingCode = df['category_code'].map(getRatingCode)\n",
    "    \n"
   ]
  },
  {
   "cell_type": "code",
   "execution_count": 54,
   "metadata": {},
   "outputs": [],
   "source": [
    "def getRatingFunds(funds):\n",
    "    ratingFunds = 0\n",
    "    if funds >= 100000000:\n",
    "        ratingFunds += 5\n",
    "    elif funds >= 8000000 and funds < 100000000:\n",
    "        ratingFunds += 4\n",
    "    elif funds >= 3000000 and funds < 8000000:\n",
    "        ratingFunds += 3\n",
    "    elif funds >= 1500000 and funds < 3000000:\n",
    "        ratingFunds += 2\n",
    "    elif funds >= 500000 and funds < 1500000:\n",
    "        ratingFunds += 1\n",
    "    else:\n",
    "        ratingFunds += 0\n",
    "    return ratingFunds\n",
    "\n",
    "\n",
    "ratingFunds = df['valuation'].map(getRatingFunds)    \n"
   ]
  },
  {
   "cell_type": "code",
   "execution_count": null,
   "metadata": {},
   "outputs": [],
   "source": [
    "def getRatingEmpl(employees):\n",
    "    ratingEmpl = 0\n",
    "    if employees >= 50000:\n",
    "        ratingEmpl += 5\n",
    "    elif employees >= 10000 and employees < 50000:\n",
    "        ratingEmpl += 4\n",
    "    elif employees >= 1000 and employees < 10000:    \n",
    "        ratingEmpl += 3\n",
    "    elif employees >= 200 and employees < 1000:    \n",
    "        ratingEmpl += 2\n",
    "    elif employees >= 50 and employees < 200:    \n",
    "        ratingEmpl += 1\n",
    "    else:    \n",
    "        ratingEmpl += 0\n",
    "    return ratingEmpl\n",
    "\n",
    "ratingEmpl = df['number_of_employees'].map(getRatingEmpl)   \n",
    "\n",
    "    \n",
    "    \n"
   ]
  },
  {
   "cell_type": "code",
   "execution_count": 60,
   "metadata": {},
   "outputs": [],
   "source": [
    "def getRatingYear(year):        \n",
    "    ratingYear = 0\n",
    "    if year > 2010:\n",
    "        ratingYear += 5\n",
    "    return ratingYear\n",
    "\n",
    "ratingYear = df['founded_year'].map(getRatingYear)\n"
   ]
  },
  {
   "cell_type": "code",
   "execution_count": 62,
   "metadata": {},
   "outputs": [],
   "source": [
    "def rating(df):\n",
    "    return df['number_of_employees'].map(getRatingEmpl) + df['valuation'].map(getRatingFunds) + df['category_code'].map(getRatingCode) + df['founded_year'].map(getRatingYear)\n",
    "\n",
    "rating = rating(df)"
   ]
  },
  {
   "cell_type": "code",
   "execution_count": 63,
   "metadata": {},
   "outputs": [],
   "source": [
    "df['rating'] = rating"
   ]
  },
  {
   "cell_type": "code",
   "execution_count": 64,
   "metadata": {},
   "outputs": [
    {
     "data": {
      "text/html": [
       "<div>\n",
       "<style scoped>\n",
       "    .dataframe tbody tr th:only-of-type {\n",
       "        vertical-align: middle;\n",
       "    }\n",
       "\n",
       "    .dataframe tbody tr th {\n",
       "        vertical-align: top;\n",
       "    }\n",
       "\n",
       "    .dataframe thead th {\n",
       "        text-align: right;\n",
       "    }\n",
       "</style>\n",
       "<table border=\"1\" class=\"dataframe\">\n",
       "  <thead>\n",
       "    <tr style=\"text-align: right;\">\n",
       "      <th></th>\n",
       "      <th>category_code</th>\n",
       "      <th>founded_year</th>\n",
       "      <th>name</th>\n",
       "      <th>number_of_employees</th>\n",
       "      <th>position</th>\n",
       "      <th>valuation</th>\n",
       "      <th>rating</th>\n",
       "    </tr>\n",
       "  </thead>\n",
       "  <tbody>\n",
       "    <tr>\n",
       "      <th>0</th>\n",
       "      <td>news</td>\n",
       "      <td>2004</td>\n",
       "      <td>Digg</td>\n",
       "      <td>60.0</td>\n",
       "      <td>{'type': 'Point', 'coordinates': [-122.394523,...</td>\n",
       "      <td>5000000.0</td>\n",
       "      <td>4</td>\n",
       "    </tr>\n",
       "    <tr>\n",
       "      <th>1</th>\n",
       "      <td>web</td>\n",
       "      <td>1999</td>\n",
       "      <td>Postini</td>\n",
       "      <td>NaN</td>\n",
       "      <td>{'type': 'Point', 'coordinates': [-122.247573,...</td>\n",
       "      <td>0.0</td>\n",
       "      <td>5</td>\n",
       "    </tr>\n",
       "    <tr>\n",
       "      <th>2</th>\n",
       "      <td>web</td>\n",
       "      <td>2006</td>\n",
       "      <td>Geni</td>\n",
       "      <td>18.0</td>\n",
       "      <td>{'type': 'Point', 'coordinates': [-118.393064,...</td>\n",
       "      <td>5000000.0</td>\n",
       "      <td>8</td>\n",
       "    </tr>\n",
       "    <tr>\n",
       "      <th>3</th>\n",
       "      <td>web</td>\n",
       "      <td>2003</td>\n",
       "      <td>Gizmoz</td>\n",
       "      <td>NaN</td>\n",
       "      <td>{'type': 'Point', 'coordinates': [-122.169472,...</td>\n",
       "      <td>5300000.0</td>\n",
       "      <td>8</td>\n",
       "    </tr>\n",
       "    <tr>\n",
       "      <th>4</th>\n",
       "      <td>web</td>\n",
       "      <td>2002</td>\n",
       "      <td>StumbleUpon</td>\n",
       "      <td>NaN</td>\n",
       "      <td>{'type': 'Point', 'coordinates': [-122.419204,...</td>\n",
       "      <td>NaN</td>\n",
       "      <td>5</td>\n",
       "    </tr>\n",
       "  </tbody>\n",
       "</table>\n",
       "</div>"
      ],
      "text/plain": [
       "  category_code  founded_year         name  number_of_employees  \\\n",
       "0          news          2004         Digg                 60.0   \n",
       "1           web          1999      Postini                  NaN   \n",
       "2           web          2006         Geni                 18.0   \n",
       "3           web          2003       Gizmoz                  NaN   \n",
       "4           web          2002  StumbleUpon                  NaN   \n",
       "\n",
       "                                            position  valuation  rating  \n",
       "0  {'type': 'Point', 'coordinates': [-122.394523,...  5000000.0       4  \n",
       "1  {'type': 'Point', 'coordinates': [-122.247573,...        0.0       5  \n",
       "2  {'type': 'Point', 'coordinates': [-118.393064,...  5000000.0       8  \n",
       "3  {'type': 'Point', 'coordinates': [-122.169472,...  5300000.0       8  \n",
       "4  {'type': 'Point', 'coordinates': [-122.419204,...        NaN       5  "
      ]
     },
     "execution_count": 64,
     "metadata": {},
     "output_type": "execute_result"
    }
   ],
   "source": [
    "df.head()"
   ]
  },
  {
   "cell_type": "code",
   "execution_count": 65,
   "metadata": {},
   "outputs": [],
   "source": [
    "df.to_json(\"comp_with_coords.json\", orient=\"records\", lines=True)"
   ]
  },
  {
   "cell_type": "code",
   "execution_count": 113,
   "metadata": {},
   "outputs": [],
   "source": [
    "companies = list(db.location.find({}))\n",
    "df = pd.DataFrame(companies)"
   ]
  },
  {
   "cell_type": "code",
   "execution_count": 114,
   "metadata": {},
   "outputs": [],
   "source": [
    "def getAreasRat(companylist):\n",
    "    areasRating = []\n",
    "    for i in range(len(companylist)):    \n",
    "        compRadio = db.location.find({\n",
    "          \"position\": {\n",
    "            \"$near\": {\n",
    "              \"$geometry\": {\n",
    "                \"type\": \"Point\",\n",
    "                \"coordinates\": companylist[i]['position']['coordinates']\n",
    "              },\n",
    "              \"$minDistance\": 0,\n",
    "              \"$maxDistance\":10000\n",
    "            }\n",
    "          }\n",
    "        })\n",
    "        areaRating = sum([i['rating'] for i in list(compRadio)])   \n",
    "        areasRating.append(areaRating)\n",
    "    return areasRating\n",
    "  "
   ]
  },
  {
   "cell_type": "code",
   "execution_count": 116,
   "metadata": {},
   "outputs": [],
   "source": [
    "listOfRating = getAreasRat(companies)"
   ]
  },
  {
   "cell_type": "code",
   "execution_count": 119,
   "metadata": {},
   "outputs": [
    {
     "data": {
      "text/html": [
       "<div>\n",
       "<style scoped>\n",
       "    .dataframe tbody tr th:only-of-type {\n",
       "        vertical-align: middle;\n",
       "    }\n",
       "\n",
       "    .dataframe tbody tr th {\n",
       "        vertical-align: top;\n",
       "    }\n",
       "\n",
       "    .dataframe thead th {\n",
       "        text-align: right;\n",
       "    }\n",
       "</style>\n",
       "<table border=\"1\" class=\"dataframe\">\n",
       "  <thead>\n",
       "    <tr style=\"text-align: right;\">\n",
       "      <th></th>\n",
       "      <th>_id</th>\n",
       "      <th>category_code</th>\n",
       "      <th>founded_year</th>\n",
       "      <th>name</th>\n",
       "      <th>number_of_employees</th>\n",
       "      <th>position</th>\n",
       "      <th>rating</th>\n",
       "      <th>valuation</th>\n",
       "      <th>area_rating</th>\n",
       "    </tr>\n",
       "  </thead>\n",
       "  <tbody>\n",
       "    <tr>\n",
       "      <th>0</th>\n",
       "      <td>5c6a6d800c548a0a1e03935d</td>\n",
       "      <td>news</td>\n",
       "      <td>2004</td>\n",
       "      <td>Digg</td>\n",
       "      <td>60.0</td>\n",
       "      <td>{'type': 'Point', 'coordinates': [-122.394523,...</td>\n",
       "      <td>4</td>\n",
       "      <td>5000000.0</td>\n",
       "      <td>1746</td>\n",
       "    </tr>\n",
       "    <tr>\n",
       "      <th>1</th>\n",
       "      <td>5c6a6d800c548a0a1e03935e</td>\n",
       "      <td>web</td>\n",
       "      <td>1999</td>\n",
       "      <td>Postini</td>\n",
       "      <td>NaN</td>\n",
       "      <td>{'type': 'Point', 'coordinates': [-122.247573,...</td>\n",
       "      <td>5</td>\n",
       "      <td>0.0</td>\n",
       "      <td>861</td>\n",
       "    </tr>\n",
       "    <tr>\n",
       "      <th>2</th>\n",
       "      <td>5c6a6d800c548a0a1e03935f</td>\n",
       "      <td>web</td>\n",
       "      <td>2006</td>\n",
       "      <td>Geni</td>\n",
       "      <td>18.0</td>\n",
       "      <td>{'type': 'Point', 'coordinates': [-118.393064,...</td>\n",
       "      <td>8</td>\n",
       "      <td>5000000.0</td>\n",
       "      <td>337</td>\n",
       "    </tr>\n",
       "    <tr>\n",
       "      <th>3</th>\n",
       "      <td>5c6a6d800c548a0a1e039360</td>\n",
       "      <td>web</td>\n",
       "      <td>2003</td>\n",
       "      <td>Gizmoz</td>\n",
       "      <td>NaN</td>\n",
       "      <td>{'type': 'Point', 'coordinates': [-122.169472,...</td>\n",
       "      <td>8</td>\n",
       "      <td>5300000.0</td>\n",
       "      <td>930</td>\n",
       "    </tr>\n",
       "    <tr>\n",
       "      <th>4</th>\n",
       "      <td>5c6a6d800c548a0a1e039361</td>\n",
       "      <td>web</td>\n",
       "      <td>2002</td>\n",
       "      <td>StumbleUpon</td>\n",
       "      <td>NaN</td>\n",
       "      <td>{'type': 'Point', 'coordinates': [-122.419204,...</td>\n",
       "      <td>5</td>\n",
       "      <td>NaN</td>\n",
       "      <td>1741</td>\n",
       "    </tr>\n",
       "  </tbody>\n",
       "</table>\n",
       "</div>"
      ],
      "text/plain": [
       "                        _id category_code  founded_year         name  \\\n",
       "0  5c6a6d800c548a0a1e03935d          news          2004         Digg   \n",
       "1  5c6a6d800c548a0a1e03935e           web          1999      Postini   \n",
       "2  5c6a6d800c548a0a1e03935f           web          2006         Geni   \n",
       "3  5c6a6d800c548a0a1e039360           web          2003       Gizmoz   \n",
       "4  5c6a6d800c548a0a1e039361           web          2002  StumbleUpon   \n",
       "\n",
       "   number_of_employees                                           position  \\\n",
       "0                 60.0  {'type': 'Point', 'coordinates': [-122.394523,...   \n",
       "1                  NaN  {'type': 'Point', 'coordinates': [-122.247573,...   \n",
       "2                 18.0  {'type': 'Point', 'coordinates': [-118.393064,...   \n",
       "3                  NaN  {'type': 'Point', 'coordinates': [-122.169472,...   \n",
       "4                  NaN  {'type': 'Point', 'coordinates': [-122.419204,...   \n",
       "\n",
       "   rating  valuation  area_rating  \n",
       "0       4  5000000.0         1746  \n",
       "1       5        0.0          861  \n",
       "2       8  5000000.0          337  \n",
       "3       8  5300000.0          930  \n",
       "4       5        NaN         1741  "
      ]
     },
     "execution_count": 119,
     "metadata": {},
     "output_type": "execute_result"
    }
   ],
   "source": [
    "df['area_rating'] = listOfRating\n",
    "df.head()"
   ]
  },
  {
   "cell_type": "code",
   "execution_count": 130,
   "metadata": {},
   "outputs": [],
   "source": [
    "\n"
   ]
  },
  {
   "cell_type": "code",
   "execution_count": 137,
   "metadata": {},
   "outputs": [
    {
     "data": {
      "text/html": [
       "<div>\n",
       "<style scoped>\n",
       "    .dataframe tbody tr th:only-of-type {\n",
       "        vertical-align: middle;\n",
       "    }\n",
       "\n",
       "    .dataframe tbody tr th {\n",
       "        vertical-align: top;\n",
       "    }\n",
       "\n",
       "    .dataframe thead th {\n",
       "        text-align: right;\n",
       "    }\n",
       "</style>\n",
       "<table border=\"1\" class=\"dataframe\">\n",
       "  <thead>\n",
       "    <tr style=\"text-align: right;\">\n",
       "      <th></th>\n",
       "      <th>category_code</th>\n",
       "      <th>founded_year</th>\n",
       "      <th>name</th>\n",
       "      <th>number_of_employees</th>\n",
       "      <th>rating</th>\n",
       "      <th>valuation</th>\n",
       "      <th>area_rating</th>\n",
       "      <th>long</th>\n",
       "      <th>lat</th>\n",
       "    </tr>\n",
       "  </thead>\n",
       "  <tbody>\n",
       "    <tr>\n",
       "      <th>0</th>\n",
       "      <td>news</td>\n",
       "      <td>2004</td>\n",
       "      <td>Digg</td>\n",
       "      <td>60.0</td>\n",
       "      <td>4</td>\n",
       "      <td>5000000.0</td>\n",
       "      <td>1746</td>\n",
       "      <td>-122.394523</td>\n",
       "      <td>37.764726</td>\n",
       "    </tr>\n",
       "    <tr>\n",
       "      <th>1</th>\n",
       "      <td>web</td>\n",
       "      <td>1999</td>\n",
       "      <td>Postini</td>\n",
       "      <td>NaN</td>\n",
       "      <td>5</td>\n",
       "      <td>0.0</td>\n",
       "      <td>861</td>\n",
       "      <td>-122.247573</td>\n",
       "      <td>37.506885</td>\n",
       "    </tr>\n",
       "    <tr>\n",
       "      <th>2</th>\n",
       "      <td>web</td>\n",
       "      <td>2006</td>\n",
       "      <td>Geni</td>\n",
       "      <td>18.0</td>\n",
       "      <td>8</td>\n",
       "      <td>5000000.0</td>\n",
       "      <td>337</td>\n",
       "      <td>-118.393064</td>\n",
       "      <td>34.090368</td>\n",
       "    </tr>\n",
       "    <tr>\n",
       "      <th>3</th>\n",
       "      <td>web</td>\n",
       "      <td>2003</td>\n",
       "      <td>Gizmoz</td>\n",
       "      <td>NaN</td>\n",
       "      <td>8</td>\n",
       "      <td>5300000.0</td>\n",
       "      <td>930</td>\n",
       "      <td>-122.169472</td>\n",
       "      <td>37.484130</td>\n",
       "    </tr>\n",
       "    <tr>\n",
       "      <th>4</th>\n",
       "      <td>web</td>\n",
       "      <td>2002</td>\n",
       "      <td>StumbleUpon</td>\n",
       "      <td>NaN</td>\n",
       "      <td>5</td>\n",
       "      <td>NaN</td>\n",
       "      <td>1741</td>\n",
       "      <td>-122.419204</td>\n",
       "      <td>37.775196</td>\n",
       "    </tr>\n",
       "  </tbody>\n",
       "</table>\n",
       "</div>"
      ],
      "text/plain": [
       "  category_code  founded_year         name  number_of_employees  rating  \\\n",
       "0          news          2004         Digg                 60.0       4   \n",
       "1           web          1999      Postini                  NaN       5   \n",
       "2           web          2006         Geni                 18.0       8   \n",
       "3           web          2003       Gizmoz                  NaN       8   \n",
       "4           web          2002  StumbleUpon                  NaN       5   \n",
       "\n",
       "   valuation  area_rating        long        lat  \n",
       "0  5000000.0         1746 -122.394523  37.764726  \n",
       "1        0.0          861 -122.247573  37.506885  \n",
       "2  5000000.0          337 -118.393064  34.090368  \n",
       "3  5300000.0          930 -122.169472  37.484130  \n",
       "4        NaN         1741 -122.419204  37.775196  "
      ]
     },
     "execution_count": 137,
     "metadata": {},
     "output_type": "execute_result"
    }
   ],
   "source": [
    "coords_df = pd.DataFrame(pd.DataFrame(df[\"position\"].values.flatten().tolist())[\"coordinates\"].values.tolist())\n",
    "clean_df = pd.concat([df,coords_df],axis=1)\n",
    "clean_df.drop(['_id',\"position\"], inplace=True, axis=1)\n",
    "clean_df = clean_df.rename({0:\"long\",1:\"lat\"}, axis=1)\n",
    "clean_df.head()"
   ]
  },
  {
   "cell_type": "code",
   "execution_count": 143,
   "metadata": {},
   "outputs": [
    {
     "data": {
      "text/plain": [
       "'Brightstorm'"
      ]
     },
     "metadata": {},
     "output_type": "display_data"
    },
    {
     "data": {
      "text/plain": [
       "[-122.371203, 37.804619]"
      ]
     },
     "metadata": {},
     "output_type": "display_data"
    }
   ],
   "source": [
    "selected_comp = clean_df.loc[clean_df['area_rating'].idxmax()]\n",
    "selected_name = selected_comp['name']\n",
    "selected_coord = [selected_comp['long'],selected_comp['lat']]\n",
    "display(selected_name)\n",
    "display(selected_coord)"
   ]
  },
  {
   "cell_type": "code",
   "execution_count": 144,
   "metadata": {},
   "outputs": [],
   "source": [
    "clean_df.to_json('visualize_location.json', orient=\"records\")"
   ]
  },
  {
   "cell_type": "code",
   "execution_count": null,
   "metadata": {},
   "outputs": [],
   "source": []
  },
  {
   "cell_type": "code",
   "execution_count": null,
   "metadata": {},
   "outputs": [],
   "source": []
  },
  {
   "cell_type": "code",
   "execution_count": null,
   "metadata": {},
   "outputs": [],
   "source": []
  },
  {
   "cell_type": "code",
   "execution_count": null,
   "metadata": {},
   "outputs": [],
   "source": []
  },
  {
   "cell_type": "code",
   "execution_count": null,
   "metadata": {},
   "outputs": [],
   "source": []
  },
  {
   "cell_type": "code",
   "execution_count": null,
   "metadata": {},
   "outputs": [],
   "source": []
  },
  {
   "cell_type": "code",
   "execution_count": null,
   "metadata": {},
   "outputs": [],
   "source": []
  },
  {
   "cell_type": "code",
   "execution_count": null,
   "metadata": {},
   "outputs": [],
   "source": []
  }
 ],
 "metadata": {
  "kernelspec": {
   "display_name": "Python 3",
   "language": "python",
   "name": "python3"
  },
  "language_info": {
   "codemirror_mode": {
    "name": "ipython",
    "version": 3
   },
   "file_extension": ".py",
   "mimetype": "text/x-python",
   "name": "python",
   "nbconvert_exporter": "python",
   "pygments_lexer": "ipython3",
   "version": "3.6.7"
  }
 },
 "nbformat": 4,
 "nbformat_minor": 2
}
